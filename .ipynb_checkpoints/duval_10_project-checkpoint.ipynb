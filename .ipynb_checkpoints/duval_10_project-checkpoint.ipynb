{
 "cells": [
  {
   "cell_type": "code",
   "execution_count": 76,
   "metadata": {},
   "outputs": [],
   "source": [
    "%matplotlib inline\n"
   ]
  },
  {
   "cell_type": "code",
   "execution_count": 77,
   "metadata": {},
   "outputs": [
    {
     "data": {
      "text/plain": [
       "<module 'matplotlib.projections.polar' from '/anaconda3/envs/PythonData/lib/python3.6/site-packages/matplotlib/projections/polar.py'>"
      ]
     },
     "execution_count": 77,
     "metadata": {},
     "output_type": "execute_result"
    }
   ],
   "source": [
    "from matplotlib import style\n",
    "style.use('fivethirtyeight')\n",
    "import matplotlib.pyplot as plt\n",
    "\n",
    "import matplotlib\n",
    "matplotlib.axes.Axes.bar\n",
    "matplotlib.pyplot.bar\n",
    "matplotlib.projections.polar"
   ]
  },
  {
   "cell_type": "code",
   "execution_count": 78,
   "metadata": {},
   "outputs": [],
   "source": [
    "import numpy as np\n",
    "import pandas as pd"
   ]
  },
  {
   "cell_type": "code",
   "execution_count": 79,
   "metadata": {},
   "outputs": [],
   "source": [
    "import datetime as dt"
   ]
  },
  {
   "cell_type": "code",
   "execution_count": 80,
   "metadata": {},
   "outputs": [],
   "source": [
    "# Python SQL toolkit and Object Relational Mapper\n",
    "import sqlalchemy\n",
    "from sqlalchemy.ext.automap import automap_base\n",
    "from sqlalchemy.orm import Session\n",
    "from sqlalchemy import create_engine, func, inspect"
   ]
  },
  {
   "cell_type": "code",
   "execution_count": 81,
   "metadata": {},
   "outputs": [],
   "source": [
    "database_path = \"../Resources/hawaii.sqlite\""
   ]
  },
  {
   "cell_type": "code",
   "execution_count": 82,
   "metadata": {},
   "outputs": [],
   "source": [
    "engine = create_engine(\"sqlite:///Resources/hawaii.sqlite\", echo=False)\n",
    "conn = engine.connect()"
   ]
  },
  {
   "cell_type": "code",
   "execution_count": 83,
   "metadata": {},
   "outputs": [
    {
     "data": {
      "text/plain": [
       "['measurement', 'station']"
      ]
     },
     "execution_count": 83,
     "metadata": {},
     "output_type": "execute_result"
    }
   ],
   "source": [
    "# DETERMINE TABLE NAMES\n",
    "\n",
    "inspector = inspect(engine)\n",
    "inspector.get_table_names()"
   ]
  },
  {
   "cell_type": "code",
   "execution_count": 84,
   "metadata": {},
   "outputs": [
    {
     "name": "stdout",
     "output_type": "stream",
     "text": [
      "id INTEGER\n",
      "station TEXT\n",
      "date TEXT\n",
      "prcp FLOAT\n",
      "tobs FLOAT\n"
     ]
    }
   ],
   "source": [
    "# DETERMINE COLUMN NAMES IN MEASUREMENT\n",
    "\n",
    "columns = inspector.get_columns('Measurement')\n",
    "for c in columns:\n",
    "    print(c['name'], c[\"type\"])"
   ]
  },
  {
   "cell_type": "code",
   "execution_count": 85,
   "metadata": {},
   "outputs": [
    {
     "name": "stdout",
     "output_type": "stream",
     "text": [
      "id INTEGER\n",
      "station TEXT\n",
      "name TEXT\n",
      "latitude FLOAT\n",
      "longitude FLOAT\n",
      "elevation FLOAT\n"
     ]
    }
   ],
   "source": [
    "# DETERMINE COLUMN NAMES IN STATION\n",
    "\n",
    "columns = inspector.get_columns('Station')\n",
    "for c in columns:\n",
    "    print(c['name'], c[\"type\"])"
   ]
  },
  {
   "cell_type": "code",
   "execution_count": 86,
   "metadata": {},
   "outputs": [],
   "source": [
    "# reflect an existing database into a new model\n",
    "Base = automap_base()\n",
    "# reflect the tables\n",
    "Base.prepare(engine, reflect=True)"
   ]
  },
  {
   "cell_type": "code",
   "execution_count": 87,
   "metadata": {},
   "outputs": [
    {
     "data": {
      "text/plain": [
       "['measurement', 'station']"
      ]
     },
     "execution_count": 87,
     "metadata": {},
     "output_type": "execute_result"
    }
   ],
   "source": [
    "# We can view all of the classes that automap found\n",
    "Base.classes.keys()"
   ]
  },
  {
   "cell_type": "code",
   "execution_count": 88,
   "metadata": {},
   "outputs": [],
   "source": [
    "# Save references to each table\n",
    "Measurement = Base.classes.measurement\n",
    "Station = Base.classes.station"
   ]
  },
  {
   "cell_type": "code",
   "execution_count": 89,
   "metadata": {},
   "outputs": [],
   "source": [
    "# Create our session (link) from Python to the DB\n",
    "session = Session(engine)"
   ]
  },
  {
   "cell_type": "code",
   "execution_count": 90,
   "metadata": {},
   "outputs": [
    {
     "data": {
      "text/plain": [
       "['measurement', 'station']"
      ]
     },
     "execution_count": 90,
     "metadata": {},
     "output_type": "execute_result"
    }
   ],
   "source": [
    "inspector = inspect(engine)\n",
    "inspector.get_table_names()"
   ]
  },
  {
   "cell_type": "code",
   "execution_count": 91,
   "metadata": {},
   "outputs": [
    {
     "data": {
      "text/html": [
       "<div>\n",
       "<style scoped>\n",
       "    .dataframe tbody tr th:only-of-type {\n",
       "        vertical-align: middle;\n",
       "    }\n",
       "\n",
       "    .dataframe tbody tr th {\n",
       "        vertical-align: top;\n",
       "    }\n",
       "\n",
       "    .dataframe thead th {\n",
       "        text-align: right;\n",
       "    }\n",
       "</style>\n",
       "<table border=\"1\" class=\"dataframe\">\n",
       "  <thead>\n",
       "    <tr style=\"text-align: right;\">\n",
       "      <th></th>\n",
       "      <th>id</th>\n",
       "      <th>station</th>\n",
       "      <th>date</th>\n",
       "      <th>prcp</th>\n",
       "      <th>tobs</th>\n",
       "    </tr>\n",
       "  </thead>\n",
       "  <tbody>\n",
       "    <tr>\n",
       "      <th>0</th>\n",
       "      <td>1</td>\n",
       "      <td>USC00519397</td>\n",
       "      <td>2010-01-01</td>\n",
       "      <td>0.08</td>\n",
       "      <td>65.0</td>\n",
       "    </tr>\n",
       "    <tr>\n",
       "      <th>1</th>\n",
       "      <td>2</td>\n",
       "      <td>USC00519397</td>\n",
       "      <td>2010-01-02</td>\n",
       "      <td>0.00</td>\n",
       "      <td>63.0</td>\n",
       "    </tr>\n",
       "    <tr>\n",
       "      <th>2</th>\n",
       "      <td>3</td>\n",
       "      <td>USC00519397</td>\n",
       "      <td>2010-01-03</td>\n",
       "      <td>0.00</td>\n",
       "      <td>74.0</td>\n",
       "    </tr>\n",
       "    <tr>\n",
       "      <th>3</th>\n",
       "      <td>4</td>\n",
       "      <td>USC00519397</td>\n",
       "      <td>2010-01-04</td>\n",
       "      <td>0.00</td>\n",
       "      <td>76.0</td>\n",
       "    </tr>\n",
       "    <tr>\n",
       "      <th>4</th>\n",
       "      <td>5</td>\n",
       "      <td>USC00519397</td>\n",
       "      <td>2010-01-06</td>\n",
       "      <td>NaN</td>\n",
       "      <td>73.0</td>\n",
       "    </tr>\n",
       "  </tbody>\n",
       "</table>\n",
       "</div>"
      ],
      "text/plain": [
       "   id      station        date  prcp  tobs\n",
       "0   1  USC00519397  2010-01-01  0.08  65.0\n",
       "1   2  USC00519397  2010-01-02  0.00  63.0\n",
       "2   3  USC00519397  2010-01-03  0.00  74.0\n",
       "3   4  USC00519397  2010-01-04  0.00  76.0\n",
       "4   5  USC00519397  2010-01-06   NaN  73.0"
      ]
     },
     "execution_count": 91,
     "metadata": {},
     "output_type": "execute_result"
    }
   ],
   "source": [
    "data = pd.read_sql(\"SELECT * FROM Measurement\", conn)\n",
    "data.head()"
   ]
  },
  {
   "cell_type": "code",
   "execution_count": 92,
   "metadata": {},
   "outputs": [
    {
     "data": {
      "text/html": [
       "<div>\n",
       "<style scoped>\n",
       "    .dataframe tbody tr th:only-of-type {\n",
       "        vertical-align: middle;\n",
       "    }\n",
       "\n",
       "    .dataframe tbody tr th {\n",
       "        vertical-align: top;\n",
       "    }\n",
       "\n",
       "    .dataframe thead th {\n",
       "        text-align: right;\n",
       "    }\n",
       "</style>\n",
       "<table border=\"1\" class=\"dataframe\">\n",
       "  <thead>\n",
       "    <tr style=\"text-align: right;\">\n",
       "      <th></th>\n",
       "      <th>id</th>\n",
       "      <th>station</th>\n",
       "      <th>name</th>\n",
       "      <th>latitude</th>\n",
       "      <th>longitude</th>\n",
       "      <th>elevation</th>\n",
       "    </tr>\n",
       "  </thead>\n",
       "  <tbody>\n",
       "    <tr>\n",
       "      <th>0</th>\n",
       "      <td>1</td>\n",
       "      <td>USC00519397</td>\n",
       "      <td>WAIKIKI 717.2, HI US</td>\n",
       "      <td>21.2716</td>\n",
       "      <td>-157.8168</td>\n",
       "      <td>3.0</td>\n",
       "    </tr>\n",
       "    <tr>\n",
       "      <th>1</th>\n",
       "      <td>2</td>\n",
       "      <td>USC00513117</td>\n",
       "      <td>KANEOHE 838.1, HI US</td>\n",
       "      <td>21.4234</td>\n",
       "      <td>-157.8015</td>\n",
       "      <td>14.6</td>\n",
       "    </tr>\n",
       "    <tr>\n",
       "      <th>2</th>\n",
       "      <td>3</td>\n",
       "      <td>USC00514830</td>\n",
       "      <td>KUALOA RANCH HEADQUARTERS 886.9, HI US</td>\n",
       "      <td>21.5213</td>\n",
       "      <td>-157.8374</td>\n",
       "      <td>7.0</td>\n",
       "    </tr>\n",
       "    <tr>\n",
       "      <th>3</th>\n",
       "      <td>4</td>\n",
       "      <td>USC00517948</td>\n",
       "      <td>PEARL CITY, HI US</td>\n",
       "      <td>21.3934</td>\n",
       "      <td>-157.9751</td>\n",
       "      <td>11.9</td>\n",
       "    </tr>\n",
       "    <tr>\n",
       "      <th>4</th>\n",
       "      <td>5</td>\n",
       "      <td>USC00518838</td>\n",
       "      <td>UPPER WAHIAWA 874.3, HI US</td>\n",
       "      <td>21.4992</td>\n",
       "      <td>-158.0111</td>\n",
       "      <td>306.6</td>\n",
       "    </tr>\n",
       "  </tbody>\n",
       "</table>\n",
       "</div>"
      ],
      "text/plain": [
       "   id      station                                    name  latitude  \\\n",
       "0   1  USC00519397                    WAIKIKI 717.2, HI US   21.2716   \n",
       "1   2  USC00513117                    KANEOHE 838.1, HI US   21.4234   \n",
       "2   3  USC00514830  KUALOA RANCH HEADQUARTERS 886.9, HI US   21.5213   \n",
       "3   4  USC00517948                       PEARL CITY, HI US   21.3934   \n",
       "4   5  USC00518838              UPPER WAHIAWA 874.3, HI US   21.4992   \n",
       "\n",
       "   longitude  elevation  \n",
       "0  -157.8168        3.0  \n",
       "1  -157.8015       14.6  \n",
       "2  -157.8374        7.0  \n",
       "3  -157.9751       11.9  \n",
       "4  -158.0111      306.6  "
      ]
     },
     "execution_count": 92,
     "metadata": {},
     "output_type": "execute_result"
    }
   ],
   "source": [
    "station_data = pd.read_sql(\"SELECT * FROM Station\", conn)\n",
    "station_data.head()"
   ]
  },
  {
   "cell_type": "code",
   "execution_count": 93,
   "metadata": {},
   "outputs": [
    {
     "name": "stdout",
     "output_type": "stream",
     "text": [
      "('2017-08-23',)\n"
     ]
    }
   ],
   "source": [
    "# Design a query to retrieve the last 12 months of precipitation data and plot the results\n",
    "\n",
    "# LAST DATE IN TABLE\n",
    "\n",
    "last_date = session.query(Measurement.date).order_by(Measurement.date.desc()).first()\n",
    "print(last_date)"
   ]
  },
  {
   "cell_type": "code",
   "execution_count": 94,
   "metadata": {},
   "outputs": [
    {
     "name": "stdout",
     "output_type": "stream",
     "text": [
      "2016-08-23\n"
     ]
    }
   ],
   "source": [
    "# FIND DATE STARTING 12 MONTHS BACK\n",
    "\n",
    "one_year = dt.date(2017, 8, 23) - dt.timedelta(days=365)\n",
    "print(one_year)"
   ]
  },
  {
   "cell_type": "code",
   "execution_count": 95,
   "metadata": {},
   "outputs": [],
   "source": [
    "# RUN QUERY ON PRECIP\n",
    "\n",
    "precip = session.query(Measurement.date, Measurement.prcp).\\\n",
    "    filter(Measurement.date > one_year).\\\n",
    "    order_by(Measurement.date).all()"
   ]
  },
  {
   "cell_type": "code",
   "execution_count": 96,
   "metadata": {
    "scrolled": true
   },
   "outputs": [
    {
     "data": {
      "text/html": [
       "<div>\n",
       "<style scoped>\n",
       "    .dataframe tbody tr th:only-of-type {\n",
       "        vertical-align: middle;\n",
       "    }\n",
       "\n",
       "    .dataframe tbody tr th {\n",
       "        vertical-align: top;\n",
       "    }\n",
       "\n",
       "    .dataframe thead th {\n",
       "        text-align: right;\n",
       "    }\n",
       "</style>\n",
       "<table border=\"1\" class=\"dataframe\">\n",
       "  <thead>\n",
       "    <tr style=\"text-align: right;\">\n",
       "      <th></th>\n",
       "      <th>date</th>\n",
       "      <th>prcp</th>\n",
       "    </tr>\n",
       "  </thead>\n",
       "  <tbody>\n",
       "    <tr>\n",
       "      <th>0</th>\n",
       "      <td>2016-08-24</td>\n",
       "      <td>0.08</td>\n",
       "    </tr>\n",
       "    <tr>\n",
       "      <th>1</th>\n",
       "      <td>2016-08-24</td>\n",
       "      <td>2.15</td>\n",
       "    </tr>\n",
       "    <tr>\n",
       "      <th>2</th>\n",
       "      <td>2016-08-24</td>\n",
       "      <td>2.28</td>\n",
       "    </tr>\n",
       "    <tr>\n",
       "      <th>3</th>\n",
       "      <td>2016-08-24</td>\n",
       "      <td>NaN</td>\n",
       "    </tr>\n",
       "    <tr>\n",
       "      <th>4</th>\n",
       "      <td>2016-08-24</td>\n",
       "      <td>1.22</td>\n",
       "    </tr>\n",
       "  </tbody>\n",
       "</table>\n",
       "</div>"
      ],
      "text/plain": [
       "         date  prcp\n",
       "0  2016-08-24  0.08\n",
       "1  2016-08-24  2.15\n",
       "2  2016-08-24  2.28\n",
       "3  2016-08-24   NaN\n",
       "4  2016-08-24  1.22"
      ]
     },
     "execution_count": 96,
     "metadata": {},
     "output_type": "execute_result"
    }
   ],
   "source": [
    "# SEND TO DATAFRAME FOR VIEWING\n",
    "\n",
    "precip_df = pd.DataFrame(precip)\n",
    "\n",
    "precip_df.head()"
   ]
  },
  {
   "cell_type": "code",
   "execution_count": 97,
   "metadata": {},
   "outputs": [
    {
     "data": {
      "text/plain": [
       "array([['2016-08-24', 0.08],\n",
       "       ['2016-08-24', 2.15],\n",
       "       ['2016-08-24', 2.28],\n",
       "       ...,\n",
       "       ['2017-08-23', 0.0],\n",
       "       ['2017-08-23', 0.08],\n",
       "       ['2017-08-23', 0.45]], dtype=object)"
      ]
     },
     "execution_count": 97,
     "metadata": {},
     "output_type": "execute_result"
    }
   ],
   "source": [
    "numpy_array = precip_df.values\n",
    "numpy_array"
   ]
  },
  {
   "cell_type": "code",
   "execution_count": 98,
   "metadata": {
    "scrolled": true
   },
   "outputs": [
    {
     "data": {
      "text/html": [
       "<div>\n",
       "<style scoped>\n",
       "    .dataframe tbody tr th:only-of-type {\n",
       "        vertical-align: middle;\n",
       "    }\n",
       "\n",
       "    .dataframe tbody tr th {\n",
       "        vertical-align: top;\n",
       "    }\n",
       "\n",
       "    .dataframe thead th {\n",
       "        text-align: right;\n",
       "    }\n",
       "</style>\n",
       "<table border=\"1\" class=\"dataframe\">\n",
       "  <thead>\n",
       "    <tr style=\"text-align: right;\">\n",
       "      <th></th>\n",
       "      <th>prcp</th>\n",
       "    </tr>\n",
       "    <tr>\n",
       "      <th>date</th>\n",
       "      <th></th>\n",
       "    </tr>\n",
       "  </thead>\n",
       "  <tbody>\n",
       "    <tr>\n",
       "      <th>2016-08-24</th>\n",
       "      <td>0.08</td>\n",
       "    </tr>\n",
       "    <tr>\n",
       "      <th>2016-08-24</th>\n",
       "      <td>2.15</td>\n",
       "    </tr>\n",
       "    <tr>\n",
       "      <th>2016-08-24</th>\n",
       "      <td>2.28</td>\n",
       "    </tr>\n",
       "    <tr>\n",
       "      <th>2016-08-24</th>\n",
       "      <td>NaN</td>\n",
       "    </tr>\n",
       "    <tr>\n",
       "      <th>2016-08-24</th>\n",
       "      <td>1.22</td>\n",
       "    </tr>\n",
       "  </tbody>\n",
       "</table>\n",
       "</div>"
      ],
      "text/plain": [
       "            prcp\n",
       "date            \n",
       "2016-08-24  0.08\n",
       "2016-08-24  2.15\n",
       "2016-08-24  2.28\n",
       "2016-08-24   NaN\n",
       "2016-08-24  1.22"
      ]
     },
     "execution_count": 98,
     "metadata": {},
     "output_type": "execute_result"
    }
   ],
   "source": [
    "# SET MONTH AS INDEX COLUMN\n",
    "\n",
    "precip_df.set_index(\"date\").head()"
   ]
  },
  {
   "cell_type": "code",
   "execution_count": 99,
   "metadata": {},
   "outputs": [
    {
     "data": {
      "text/html": [
       "<div>\n",
       "<style scoped>\n",
       "    .dataframe tbody tr th:only-of-type {\n",
       "        vertical-align: middle;\n",
       "    }\n",
       "\n",
       "    .dataframe tbody tr th {\n",
       "        vertical-align: top;\n",
       "    }\n",
       "\n",
       "    .dataframe thead th {\n",
       "        text-align: right;\n",
       "    }\n",
       "</style>\n",
       "<table border=\"1\" class=\"dataframe\">\n",
       "  <thead>\n",
       "    <tr style=\"text-align: right;\">\n",
       "      <th></th>\n",
       "      <th>date</th>\n",
       "      <th>prcp</th>\n",
       "    </tr>\n",
       "  </thead>\n",
       "  <tbody>\n",
       "    <tr>\n",
       "      <th>0</th>\n",
       "      <td>2016-08-24</td>\n",
       "      <td>0.08</td>\n",
       "    </tr>\n",
       "    <tr>\n",
       "      <th>1</th>\n",
       "      <td>2016-08-24</td>\n",
       "      <td>2.15</td>\n",
       "    </tr>\n",
       "    <tr>\n",
       "      <th>2</th>\n",
       "      <td>2016-08-24</td>\n",
       "      <td>2.28</td>\n",
       "    </tr>\n",
       "    <tr>\n",
       "      <th>3</th>\n",
       "      <td>2016-08-24</td>\n",
       "      <td>NaN</td>\n",
       "    </tr>\n",
       "    <tr>\n",
       "      <th>4</th>\n",
       "      <td>2016-08-24</td>\n",
       "      <td>1.22</td>\n",
       "    </tr>\n",
       "  </tbody>\n",
       "</table>\n",
       "</div>"
      ],
      "text/plain": [
       "         date  prcp\n",
       "0  2016-08-24  0.08\n",
       "1  2016-08-24  2.15\n",
       "2  2016-08-24  2.28\n",
       "3  2016-08-24   NaN\n",
       "4  2016-08-24  1.22"
      ]
     },
     "execution_count": 99,
     "metadata": {},
     "output_type": "execute_result"
    }
   ],
   "source": [
    "# SORT DATAFRAME BY DATE (hmmm...was already sorted by date)\n",
    "\n",
    "precip_df.sort_values(by='date').head()"
   ]
  },
  {
   "cell_type": "code",
   "execution_count": 100,
   "metadata": {
    "scrolled": true
   },
   "outputs": [
    {
     "data": {
      "image/png": "[encoded data removed]",
      "text/plain": [
       "<Figure size 432x288 with 1 Axes>"
      ]
     },
     "metadata": {},
     "output_type": "display_data"
    }
   ],
   "source": [
    "# Use Pandas Plotting with Matplotlib to plot the data\n",
    "# Set x axis and tick locations\n",
    "\n",
    "precip_df.plot('date', 'prcp', color=\"g\", alpha=0.25)\n",
    "\n",
    "plt.xticks(rotation=45)\n",
    "\n",
    "plt.tight_layout()\n",
    "\n",
    "plt.title(\"Precipitation over 12 Months\")\n",
    "plt.xlabel(\"Date\")\n",
    "plt.ylabel(\"Precipitation\")\n",
    "\n",
    "plt.show()"
   ]
  },
  {
   "cell_type": "code",
   "execution_count": 101,
   "metadata": {
    "scrolled": false
   },
   "outputs": [
    {
     "data": {
      "image/png": "[encoded data removed]",
      "text/plain": [
       "<Figure size 432x288 with 1 Axes>"
      ]
     },
     "metadata": {},
     "output_type": "display_data"
    }
   ],
   "source": [
    "# (IGNORE THIS) JUST HAVING SOME FUN HERE EXPERIMENTING WITH A RADIUS BAR GRAPH\n",
    "\n",
    "# Compute pie slices\n",
    "\n",
    "sample = np.random.uniform(low=0.5, high=10.0, size=(12,))\n",
    "N = 365\n",
    "theta = np.linspace(0, 2 * np.pi, N, endpoint=False)\n",
    "height = numpy_array\n",
    "radii = 8 * np.random.rand(N)\n",
    "width = np.pi / 200 * np.random.rand(N)\n",
    "colors = plt.cm.viridis(radii / 10.)\n",
    "\n",
    "ax = plt.subplot(111, projection='polar')\n",
    "ax.bar(theta, radii, width=width, bottom=0.0, color=colors, alpha=0.75)\n",
    "\n",
    "ax.set_xticks(theta)\n",
    "ax.set_xticklabels({'JAN', 'FEB', 'MAR', 'APR', 'MAY', 'JUN', 'JUL', 'AUG', 'SEP', 'OCT', 'NOV', 'DEC'})\n",
    "ax.yaxis.grid(False)\n",
    "\n",
    "plt.show()"
   ]
  },
  {
   "cell_type": "code",
   "execution_count": 102,
   "metadata": {},
   "outputs": [],
   "source": [
    "#import matplotlib.pyplot as plt\n",
    "#import numpy as np\n",
    "\n",
    "#N = 365\n",
    "\n",
    "#theta = precip_df\n",
    "\n",
    "#ax = plt.subplot(111, polar=True)\n",
    "\n",
    "#bars = ax.bar(theta, height,\n",
    "              #colors = plt.cm.viridis(radii / 10.),\n",
    "              #bottom=0.0,\n",
    "              #alpha=0.5)\n",
    "\n",
    "#ax.set_xticks(theta)\n",
    "#ax.set_xticklabels(range(1, len(theta)+1))\n",
    "#ax.yaxis.grid(True)\n",
    "\n",
    "#plt.show()"
   ]
  },
  {
   "cell_type": "code",
   "execution_count": 103,
   "metadata": {},
   "outputs": [
    {
     "data": {
      "text/html": [
       "<div>\n",
       "<style scoped>\n",
       "    .dataframe tbody tr th:only-of-type {\n",
       "        vertical-align: middle;\n",
       "    }\n",
       "\n",
       "    .dataframe tbody tr th {\n",
       "        vertical-align: top;\n",
       "    }\n",
       "\n",
       "    .dataframe thead th {\n",
       "        text-align: right;\n",
       "    }\n",
       "</style>\n",
       "<table border=\"1\" class=\"dataframe\">\n",
       "  <thead>\n",
       "    <tr style=\"text-align: right;\">\n",
       "      <th></th>\n",
       "      <th>prcp</th>\n",
       "    </tr>\n",
       "  </thead>\n",
       "  <tbody>\n",
       "    <tr>\n",
       "      <th>count</th>\n",
       "      <td>2015.000000</td>\n",
       "    </tr>\n",
       "    <tr>\n",
       "      <th>mean</th>\n",
       "      <td>0.176462</td>\n",
       "    </tr>\n",
       "    <tr>\n",
       "      <th>std</th>\n",
       "      <td>0.460288</td>\n",
       "    </tr>\n",
       "    <tr>\n",
       "      <th>min</th>\n",
       "      <td>0.000000</td>\n",
       "    </tr>\n",
       "    <tr>\n",
       "      <th>25%</th>\n",
       "      <td>0.000000</td>\n",
       "    </tr>\n",
       "    <tr>\n",
       "      <th>50%</th>\n",
       "      <td>0.020000</td>\n",
       "    </tr>\n",
       "    <tr>\n",
       "      <th>75%</th>\n",
       "      <td>0.130000</td>\n",
       "    </tr>\n",
       "    <tr>\n",
       "      <th>max</th>\n",
       "      <td>6.700000</td>\n",
       "    </tr>\n",
       "  </tbody>\n",
       "</table>\n",
       "</div>"
      ],
      "text/plain": [
       "              prcp\n",
       "count  2015.000000\n",
       "mean      0.176462\n",
       "std       0.460288\n",
       "min       0.000000\n",
       "25%       0.000000\n",
       "50%       0.020000\n",
       "75%       0.130000\n",
       "max       6.700000"
      ]
     },
     "execution_count": 103,
     "metadata": {},
     "output_type": "execute_result"
    }
   ],
   "source": [
    "# Use Pandas to calcualte the summary statistics for the precipitation data\n",
    "\n",
    "precip_df.describe()"
   ]
  },
  {
   "cell_type": "code",
   "execution_count": 104,
   "metadata": {},
   "outputs": [
    {
     "name": "stdout",
     "output_type": "stream",
     "text": [
      "9\n"
     ]
    }
   ],
   "source": [
    "# Design a query to show how many stations are available in this dataset?\n",
    "\n",
    "station_count = session.query(Station).count()\n",
    "print(station_count)"
   ]
  },
  {
   "cell_type": "code",
   "execution_count": 105,
   "metadata": {},
   "outputs": [
    {
     "name": "stdout",
     "output_type": "stream",
     "text": [
      "19550\n"
     ]
    }
   ],
   "source": [
    "# What are the most active stations? (i.e. what stations have the most rows)?\n",
    "# List the stations and the counts in descending order.\n",
    "\n",
    "\n",
    "# TOTAL STATION ACTIVITY\n",
    "station_activity = session.query(Measurement.tobs).count()\n",
    "print(station_activity)\n"
   ]
  },
  {
   "cell_type": "code",
   "execution_count": 106,
   "metadata": {},
   "outputs": [
    {
     "name": "stdout",
     "output_type": "stream",
     "text": [
      "[('USC00519281', 2772), ('USC00519397', 2724), ('USC00513117', 2709), ('USC00519523', 2669), ('USC00516128', 2612), ('USC00514830', 2202), ('USC00511918', 1979), ('USC00517948', 1372), ('USC00518838', 511)]\n"
     ]
    }
   ],
   "source": [
    "# STATION ACTIVITY IN DESCENDING ORDER\n",
    "\n",
    "station_obs = session.query(Measurement.station, func.count(Measurement.tobs)).group_by(Measurement.station).\\\n",
    "               order_by(func.count(Measurement.tobs).desc()).all()\n",
    "print(station_obs)"
   ]
  },
  {
   "cell_type": "code",
   "execution_count": 107,
   "metadata": {},
   "outputs": [
    {
     "data": {
      "text/html": [
       "<div>\n",
       "<style scoped>\n",
       "    .dataframe tbody tr th:only-of-type {\n",
       "        vertical-align: middle;\n",
       "    }\n",
       "\n",
       "    .dataframe tbody tr th {\n",
       "        vertical-align: top;\n",
       "    }\n",
       "\n",
       "    .dataframe thead th {\n",
       "        text-align: right;\n",
       "    }\n",
       "</style>\n",
       "<table border=\"1\" class=\"dataframe\">\n",
       "  <thead>\n",
       "    <tr style=\"text-align: right;\">\n",
       "      <th></th>\n",
       "      <th>Station</th>\n",
       "      <th>tobs</th>\n",
       "    </tr>\n",
       "  </thead>\n",
       "  <tbody>\n",
       "    <tr>\n",
       "      <th>0</th>\n",
       "      <td>USC00519281</td>\n",
       "      <td>2772</td>\n",
       "    </tr>\n",
       "    <tr>\n",
       "      <th>1</th>\n",
       "      <td>USC00519397</td>\n",
       "      <td>2724</td>\n",
       "    </tr>\n",
       "    <tr>\n",
       "      <th>2</th>\n",
       "      <td>USC00513117</td>\n",
       "      <td>2709</td>\n",
       "    </tr>\n",
       "    <tr>\n",
       "      <th>3</th>\n",
       "      <td>USC00519523</td>\n",
       "      <td>2669</td>\n",
       "    </tr>\n",
       "    <tr>\n",
       "      <th>4</th>\n",
       "      <td>USC00516128</td>\n",
       "      <td>2612</td>\n",
       "    </tr>\n",
       "    <tr>\n",
       "      <th>5</th>\n",
       "      <td>USC00514830</td>\n",
       "      <td>2202</td>\n",
       "    </tr>\n",
       "    <tr>\n",
       "      <th>6</th>\n",
       "      <td>USC00511918</td>\n",
       "      <td>1979</td>\n",
       "    </tr>\n",
       "    <tr>\n",
       "      <th>7</th>\n",
       "      <td>USC00517948</td>\n",
       "      <td>1372</td>\n",
       "    </tr>\n",
       "    <tr>\n",
       "      <th>8</th>\n",
       "      <td>USC00518838</td>\n",
       "      <td>511</td>\n",
       "    </tr>\n",
       "  </tbody>\n",
       "</table>\n",
       "</div>"
      ],
      "text/plain": [
       "       Station  tobs\n",
       "0  USC00519281  2772\n",
       "1  USC00519397  2724\n",
       "2  USC00513117  2709\n",
       "3  USC00519523  2669\n",
       "4  USC00516128  2612\n",
       "5  USC00514830  2202\n",
       "6  USC00511918  1979\n",
       "7  USC00517948  1372\n",
       "8  USC00518838   511"
      ]
     },
     "execution_count": 107,
     "metadata": {},
     "output_type": "execute_result"
    }
   ],
   "source": [
    "# STATION ACTIVITY IN DESCENDING ORDER AS DATAFRAME\n",
    "\n",
    "obs_df = pd.DataFrame(station_obs, columns=['Station', 'tobs'])\n",
    "\n",
    "obs_df.head(10)"
   ]
  },
  {
   "cell_type": "code",
   "execution_count": 108,
   "metadata": {},
   "outputs": [
    {
     "name": "stdout",
     "output_type": "stream",
     "text": [
      "[(53.0,), (54.0,), (55.0,), (56.0,), (56.0,), (56.0,), (56.0,), (56.0,), (56.0,), (56.0,), (56.0,), (56.0,), (56.0,), (56.0,), (56.0,), (57.0,), (57.0,), (57.0,), (57.0,), (57.0,), (57.0,), (57.0,), (57.0,), (57.0,), (57.0,), (57.0,), (57.0,), (57.0,), (57.0,), (57.0,), (57.0,), (57.0,), (57.0,), (58.0,), (58.0,), (58.0,), (58.0,), (58.0,), (58.0,), (58.0,), (58.0,), (58.0,), (58.0,), (58.0,), (58.0,), (58.0,), (58.0,), (58.0,), (58.0,), (58.0,), (58.0,), (58.0,), (58.0,), (58.0,), (58.0,), (58.0,), (58.0,), (58.0,), (58.0,), (58.0,), (58.0,), (58.0,), (58.0,), (58.0,), (59.0,), (59.0,), (59.0,), (59.0,), (59.0,), (59.0,), (59.0,), (59.0,), (59.0,), (59.0,), (59.0,), (59.0,), (59.0,), (59.0,), (59.0,), (59.0,), (59.0,), (59.0,), (59.0,), (59.0,), (60.0,), (60.0,), (60.0,), (60.0,), (60.0,), (60.0,), (60.0,), (60.0,), (60.0,), (60.0,), (60.0,), (60.0,), (60.0,), (60.0,), (60.0,), (60.0,), (60.0,), (60.0,), (60.0,), (60.0,), (60.0,), (60.0,), (60.0,), (60.0,), (60.0,), (60.0,), (60.0,), (60.0,), (60.0,), (60.0,), (60.0,), (60.0,), (60.0,), (60.0,), (60.0,), (60.0,), (60.0,), (60.0,), (60.0,), (60.0,), (60.0,), (60.0,), (60.0,), (60.0,), (60.0,), (60.0,), (60.0,), (60.0,), (60.0,), (61.0,), (61.0,), (61.0,), (61.0,), (61.0,), (61.0,), (61.0,), (61.0,), (61.0,), (61.0,), (61.0,), (61.0,), (61.0,), (61.0,), (61.0,), (61.0,), (61.0,), (61.0,), (61.0,), (61.0,), (61.0,), (61.0,), (61.0,), (61.0,), (61.0,), (61.0,), (61.0,), (61.0,), (61.0,), (61.0,), (61.0,), (61.0,), (61.0,), (61.0,), (61.0,), (61.0,), (61.0,), (61.0,), (61.0,), (61.0,), (61.0,), (61.0,), (61.0,), (61.0,), (61.0,), (61.0,), (61.0,), (61.0,), (61.0,), (61.0,), (61.0,), (61.0,), (61.0,), (61.0,), (61.0,), (61.0,), (61.0,), (61.0,), (61.0,), (61.0,), (61.0,), (61.0,), (61.0,), (61.0,), (61.0,), (61.0,), (61.0,), (61.0,), (61.0,), (61.0,), (61.0,), (61.0,), (61.0,), (61.0,), (61.0,), (61.0,), (61.0,), (62.0,), (62.0,), (62.0,), (62.0,), (62.0,), (62.0,), (62.0,), (62.0,), (62.0,), (62.0,), (62.0,), (62.0,), (62.0,), (62.0,), (62.0,), (62.0,), (62.0,), (62.0,), (62.0,), (62.0,), (62.0,), (62.0,), (62.0,), (62.0,), (62.0,), (62.0,), (62.0,), (62.0,), (62.0,), (62.0,), (62.0,), (62.0,), (62.0,), (62.0,), (62.0,), (62.0,), (62.0,), (62.0,), (62.0,), (62.0,), (62.0,), (62.0,), (62.0,), (62.0,), (62.0,), (62.0,), (62.0,), (62.0,), (62.0,), (62.0,), (62.0,), (62.0,), (62.0,), (62.0,), (62.0,), (62.0,), (62.0,), (62.0,), (62.0,), (62.0,), (62.0,), (62.0,), (62.0,), (62.0,), (62.0,), (62.0,), (62.0,), (62.0,), (62.0,), (62.0,), (62.0,), (62.0,), (62.0,), (62.0,), (62.0,), (62.0,), (62.0,), (62.0,), (62.0,), (62.0,), (62.0,), (62.0,), (62.0,), (62.0,), (62.0,), (62.0,), (62.0,), (62.0,), (62.0,), (62.0,), (62.0,), (62.0,), (62.0,), (62.0,), (62.0,), (62.0,), (62.0,), (62.0,), (62.0,), (62.0,), (62.0,), (62.0,), (62.0,), (62.0,), (62.0,), (62.0,), (62.0,), (62.0,), (62.0,), (62.0,), (62.0,), (62.0,), (62.0,), (62.0,), (62.0,), (62.0,), (62.0,), (62.0,), (62.0,), (62.0,), (62.0,), (62.0,), (62.0,), (62.0,), (62.0,), (62.0,), (62.0,), (62.0,), (62.0,), (62.0,), (62.0,), (62.0,), (62.0,), (62.0,), (62.0,), (63.0,), (63.0,), (63.0,), (63.0,), (63.0,), (63.0,), (63.0,), (63.0,), (63.0,), (63.0,), (63.0,), (63.0,), (63.0,), (63.0,), (63.0,), (63.0,), (63.0,), (63.0,), (63.0,), (63.0,), (63.0,), (63.0,), (63.0,), (63.0,), (63.0,), (63.0,), (63.0,), (63.0,), (63.0,), (63.0,), (63.0,), (63.0,), (63.0,), (63.0,), (63.0,), (63.0,), (63.0,), (63.0,), (63.0,), (63.0,), (63.0,), (63.0,), (63.0,), (63.0,), (63.0,), (63.0,), (63.0,), (63.0,), (63.0,), (63.0,), (63.0,), (63.0,), (63.0,), (63.0,), (63.0,), (63.0,), (63.0,), (63.0,), (63.0,), (63.0,), (63.0,), (63.0,), (63.0,), (63.0,), (63.0,), (63.0,), (63.0,), (63.0,), (63.0,), (63.0,), (63.0,), (63.0,), (63.0,), (63.0,), (63.0,), (63.0,), (63.0,), (63.0,), (63.0,), (63.0,), (63.0,), (63.0,), (63.0,), (63.0,), (63.0,), (63.0,), (63.0,), (63.0,), (63.0,), (63.0,), (63.0,), (63.0,), (63.0,), (63.0,), (63.0,), (63.0,), (63.0,), (63.0,), (63.0,), (63.0,), (63.0,), (63.0,), (63.0,), (63.0,), (63.0,), (63.0,), (63.0,), (63.0,), (63.0,), (63.0,), (63.0,), (63.0,), (63.0,), (63.0,), (63.0,), (63.0,), (63.0,), (63.0,), (63.0,), (63.0,), (63.0,), (63.0,), (63.0,), (63.0,), (63.0,), (63.0,), (63.0,), (63.0,), (63.0,), (63.0,), (63.0,), (63.0,), (63.0,), (63.0,), (63.0,), (63.0,), (63.0,), (63.0,), (63.0,), (63.0,), (63.0,), (63.0,), (63.0,), (63.0,), (63.0,), (63.0,), (63.0,), (63.0,), (63.0,), (63.0,), (63.0,), (63.0,), (63.0,), (63.0,), (63.0,), (63.0,), (63.0,), (63.0,), (63.0,), (63.0,), (63.0,), (63.0,), (63.0,), (63.0,), (63.0,), (63.0,), (63.0,), (63.0,), (63.0,), (63.0,), (63.0,), (63.0,), (63.0,), (63.0,), (63.0,), (63.0,), (63.0,), (63.0,), (63.0,), (63.0,), (63.0,), (63.0,), (63.0,), (63.0,), (63.0,), (63.0,), (64.0,), (64.0,), (64.0,), (64.0,), (64.0,), (64.0,), (64.0,), (64.0,), (64.0,), (64.0,), (64.0,), (64.0,), (64.0,), (64.0,), (64.0,), (64.0,), (64.0,), (64.0,), (64.0,), (64.0,), (64.0,), (64.0,), (64.0,), (64.0,), (64.0,), (64.0,), (64.0,), (64.0,), (64.0,), (64.0,), (64.0,), (64.0,), (64.0,), (64.0,), (64.0,), (64.0,), (64.0,), (64.0,), (64.0,), (64.0,), (64.0,), (64.0,), (64.0,), (64.0,), (64.0,), (64.0,), (64.0,), (64.0,), (64.0,), (64.0,), (64.0,), (64.0,), (64.0,), (64.0,), (64.0,), (64.0,), (64.0,), (64.0,), (64.0,), (64.0,), (64.0,), (64.0,), (64.0,), (64.0,), (64.0,), (64.0,), (64.0,), (64.0,), (64.0,), (64.0,), (64.0,), (64.0,), (64.0,), (64.0,), (64.0,), (64.0,), (64.0,), (64.0,), (64.0,), (64.0,), (64.0,), (64.0,), (64.0,), (64.0,), (64.0,), (64.0,), (64.0,), (64.0,), (64.0,), (64.0,), (64.0,), (64.0,), (64.0,), (64.0,), (64.0,), (64.0,), (64.0,), (64.0,), (64.0,), (64.0,), (64.0,), (64.0,), (64.0,), (64.0,), (64.0,), (64.0,), (64.0,), (64.0,), (64.0,), (64.0,), (64.0,), (64.0,), (64.0,), (64.0,), (64.0,), (64.0,), (64.0,), (64.0,), (64.0,), (64.0,), (64.0,), (64.0,), (64.0,), (64.0,), (64.0,), (64.0,), (64.0,), (64.0,), (64.0,), (64.0,), (64.0,), (64.0,), (64.0,), (64.0,), (64.0,), (64.0,), (64.0,), (64.0,), (64.0,), (64.0,), (64.0,), (64.0,), (64.0,), (64.0,), (64.0,), (64.0,), (64.0,), (64.0,), (64.0,), (64.0,), (64.0,), (64.0,), (64.0,), (64.0,), (64.0,), (64.0,), (64.0,), (64.0,), (64.0,), (64.0,), (64.0,), (64.0,), (64.0,), (64.0,), (64.0,), (64.0,), (64.0,), (64.0,), (64.0,), (64.0,), (64.0,), (64.0,), (64.0,), (64.0,), (64.0,), (64.0,), (64.0,), (64.0,), (64.0,), (64.0,), (64.0,), (64.0,), (64.0,), (64.0,), (64.0,), (64.0,), (64.0,), (64.0,), (64.0,), (64.0,), (64.0,), (64.0,), (64.0,), (64.0,), (64.0,), (64.0,), (64.0,), (64.0,), (64.0,), (64.0,), (64.0,), (64.0,), (64.0,), (64.0,), (64.0,), (64.0,), (64.0,), (64.0,), (64.0,), (64.0,), (64.0,), (64.0,), (64.0,), (64.0,), (64.0,), (64.0,), (64.0,), (64.0,), (64.0,), (64.0,), (64.0,), (64.0,), (64.0,), (64.0,), (64.0,), (64.0,), (64.0,), (64.0,), (64.0,), (64.0,), (64.0,), (64.0,), (64.0,), (64.0,), (64.0,), (64.0,), (64.0,), (64.0,), (64.0,), (64.0,), (65.0,), (65.0,), (65.0,), (65.0,), (65.0,), (65.0,), (65.0,), (65.0,), (65.0,), (65.0,), (65.0,), (65.0,), (65.0,), (65.0,), (65.0,), (65.0,), (65.0,), (65.0,), (65.0,), (65.0,), (65.0,), (65.0,), (65.0,), (65.0,), (65.0,), (65.0,), (65.0,), (65.0,), (65.0,), (65.0,), (65.0,), (65.0,), (65.0,), (65.0,), (65.0,), (65.0,), (65.0,), (65.0,), (65.0,), (65.0,), (65.0,), (65.0,), (65.0,), (65.0,), (65.0,), (65.0,), (65.0,), (65.0,), (65.0,), (65.0,), (65.0,), (65.0,), (65.0,), (65.0,), (65.0,), (65.0,), (65.0,), (65.0,), (65.0,), (65.0,), (65.0,), (65.0,), (65.0,), (65.0,), (65.0,), (65.0,), (65.0,), (65.0,), (65.0,), (65.0,), (65.0,), (65.0,), (65.0,), (65.0,), (65.0,), (65.0,), (65.0,), (65.0,), (65.0,), (65.0,), (65.0,), (65.0,), (65.0,), (65.0,), (65.0,), (65.0,), (65.0,), (65.0,), (65.0,), (65.0,), (65.0,), (65.0,), (65.0,), (65.0,), (65.0,), (65.0,), (65.0,), (65.0,), (65.0,), (65.0,), (65.0,), (65.0,), (65.0,), (65.0,), (65.0,), (65.0,), (65.0,), (65.0,), (65.0,), (65.0,), (65.0,), (65.0,), (65.0,), (65.0,), (65.0,), (65.0,), (65.0,), (65.0,), (65.0,), (65.0,), (65.0,), (65.0,), (65.0,), (65.0,), (65.0,), (65.0,), (65.0,), (65.0,), (65.0,), (65.0,), (65.0,), (65.0,), (65.0,), (65.0,), (65.0,), (65.0,), (65.0,), (65.0,), (65.0,), (65.0,), (65.0,), (65.0,), (65.0,), (65.0,), (65.0,), (65.0,), (65.0,), (65.0,), (65.0,), (65.0,), (65.0,), (65.0,), (65.0,), (65.0,), (65.0,), (65.0,), (65.0,), (65.0,), (65.0,), (65.0,), (65.0,), (65.0,), (65.0,), (65.0,), (65.0,), (65.0,), (65.0,), (65.0,), (65.0,), (65.0,), (65.0,), (65.0,), (65.0,), (65.0,), (65.0,), (65.0,), (65.0,), (65.0,), (65.0,), (65.0,), (65.0,), (65.0,), (65.0,), (65.0,), (65.0,), (65.0,), (65.0,), (65.0,), (65.0,), (65.0,), (65.0,), (65.0,), (65.0,), (65.0,), (65.0,), (65.0,), (65.0,), (65.0,), (65.0,), (65.0,), (65.0,), (65.0,), (65.0,), (65.0,), (65.0,), (65.0,), (65.0,), (65.0,), (65.0,), (65.0,), (65.0,), (65.0,), (65.0,), (65.0,), (65.0,), (65.0,), (65.0,), (65.0,), (65.0,), (65.0,), (65.0,), (65.0,), (65.0,), (65.0,), (65.0,), (65.0,), (65.0,), (65.0,), (65.0,), (65.0,), (65.0,), (65.0,), (65.0,), (65.0,), (65.0,), (65.0,), (65.0,), (65.0,), (65.0,), (65.0,), (65.0,), (65.0,), (65.0,), (65.0,), (65.0,), (65.0,), (65.0,), (65.0,), (65.0,), (65.0,), (65.0,), (65.0,), (65.0,), (65.0,), (65.0,), (65.0,), (65.0,), (65.0,), (65.0,), (65.0,), (65.0,), (65.0,), (65.0,), (65.0,), (65.0,), (65.0,), (65.0,), (65.0,), (65.0,), (65.0,), (65.0,), (65.0,), (65.0,), (65.0,), (65.0,), (65.0,), (65.0,), (65.0,), (65.0,), (65.0,), (65.0,), (65.0,), (65.0,), (65.0,), (65.0,), (65.0,), (65.0,), (65.0,), (65.0,), (65.0,), (65.0,), (65.0,), (65.0,), (65.0,), (65.0,), (65.0,), (65.0,), (65.0,), (65.0,), (65.0,), (65.0,), (65.0,), (65.0,), (65.0,), (65.0,), (65.0,), (65.0,), (65.0,), (65.0,), (65.0,), (65.0,), (65.0,), (65.0,), (65.0,), (65.0,), (65.0,), (65.0,), (65.0,), (65.0,), (65.0,), (65.0,), (65.0,), (65.0,), (65.0,), (65.0,), (65.0,), (65.0,), (65.0,), (65.0,), (65.0,), (65.0,), (65.0,), (65.0,), (65.0,), (65.0,), (65.0,), (65.0,), (65.0,), (65.0,), (65.0,), (65.0,), (65.0,), (65.0,), (65.0,), (65.0,), (65.0,), (65.0,), (65.0,), (65.0,), (65.0,), (65.0,), (65.0,), (65.0,), (65.0,), (65.0,), (66.0,), (66.0,), (66.0,), (66.0,), (66.0,), (66.0,), (66.0,), (66.0,), (66.0,), (66.0,), (66.0,), (66.0,), (66.0,), (66.0,), (66.0,), (66.0,), (66.0,), (66.0,), (66.0,), (66.0,), (66.0,), (66.0,), (66.0,), (66.0,), (66.0,), (66.0,), (66.0,), (66.0,), (66.0,), (66.0,), (66.0,), (66.0,), (66.0,), (66.0,), (66.0,), (66.0,), (66.0,), (66.0,), (66.0,), (66.0,), (66.0,), (66.0,), (66.0,), (66.0,), (66.0,), (66.0,), (66.0,), (66.0,), (66.0,), (66.0,), (66.0,), (66.0,), (66.0,), (66.0,), (66.0,), (66.0,), (66.0,), (66.0,), (66.0,), (66.0,), (66.0,), (66.0,), (66.0,), (66.0,), (66.0,), (66.0,), (66.0,), (66.0,), (66.0,), (66.0,), (66.0,), (66.0,), (66.0,), (66.0,), (66.0,), (66.0,), (66.0,), (66.0,), (66.0,), (66.0,), (66.0,), (66.0,), (66.0,), (66.0,), (66.0,), (66.0,), (66.0,), (66.0,), (66.0,), (66.0,), (66.0,), (66.0,), (66.0,), (66.0,), (66.0,), (66.0,), (66.0,), (66.0,), (66.0,), (66.0,), (66.0,), (66.0,), (66.0,), (66.0,), (66.0,), (66.0,), (66.0,), (66.0,), (66.0,), (66.0,), (66.0,), (66.0,), (66.0,), (66.0,), (66.0,), (66.0,), (66.0,), (66.0,), (66.0,), (66.0,), (66.0,), (66.0,), (66.0,), (66.0,), (66.0,), (66.0,), (66.0,), (66.0,), (66.0,), (66.0,), (66.0,), (66.0,), (66.0,), (66.0,), (66.0,), (66.0,), (66.0,), (66.0,), (66.0,), (66.0,), (66.0,), (66.0,), (66.0,), (66.0,), (66.0,), (66.0,), (66.0,), (66.0,), (66.0,), (66.0,), (66.0,), (66.0,), (66.0,), (66.0,), (66.0,), (66.0,), (66.0,), (66.0,), (66.0,), (66.0,), (66.0,), (66.0,), (66.0,), (66.0,), (66.0,), (66.0,), (66.0,), (66.0,), (66.0,), (66.0,), (66.0,), (66.0,), (66.0,), (66.0,), (66.0,), (66.0,), (66.0,), (66.0,), (66.0,), (66.0,), (66.0,), (66.0,), (66.0,), (66.0,), (66.0,), (66.0,), (66.0,), (66.0,), (66.0,), (66.0,), (66.0,), (66.0,), (66.0,), (66.0,), (66.0,), (66.0,), (66.0,), (66.0,), (66.0,), (66.0,), (66.0,), (66.0,), (66.0,), (66.0,), (66.0,), (66.0,), (66.0,), (66.0,), (66.0,), (66.0,), (66.0,), (66.0,), (66.0,), (66.0,), (66.0,), (66.0,), (66.0,), (66.0,), (66.0,), (66.0,), (66.0,), (66.0,), (66.0,), (66.0,), (66.0,), (66.0,), (66.0,), (66.0,), (66.0,), (66.0,), (66.0,), (66.0,), (66.0,), (66.0,), (66.0,), (66.0,), (66.0,), (66.0,), (66.0,), (66.0,), (66.0,), (66.0,), (66.0,), (66.0,), (66.0,), (66.0,), (66.0,), (66.0,), (66.0,), (66.0,), (66.0,), (66.0,), (66.0,), (66.0,), (66.0,), (66.0,), (66.0,), (66.0,), (66.0,), (66.0,), (66.0,), (66.0,), (66.0,), (66.0,), (66.0,), (66.0,), (66.0,), (66.0,), (66.0,), (66.0,), (66.0,), (66.0,), (66.0,), (66.0,), (66.0,), (66.0,), (66.0,), (66.0,), (66.0,), (66.0,), (66.0,), (66.0,), (66.0,), (66.0,), (66.0,), (66.0,), (66.0,), (66.0,), (66.0,), (66.0,), (66.0,), (66.0,), (66.0,), (66.0,), (66.0,), (66.0,), (66.0,), (66.0,), (66.0,), (66.0,), (66.0,), (66.0,), (66.0,), (66.0,), (66.0,), (66.0,), (66.0,), (66.0,), (66.0,), (66.0,), (66.0,), (66.0,), (66.0,), (66.0,), (66.0,), (66.0,), (66.0,), (66.0,), (66.0,), (66.0,), (66.0,), (66.0,), (66.0,), (66.0,), (66.0,), (66.0,), (66.0,), (66.0,), (66.0,), (66.0,), (66.0,), (66.0,), (66.0,), (66.0,), (66.0,), (66.0,), (66.0,), (66.0,), (66.0,), (66.0,), (66.0,), (66.0,), (66.0,), (66.0,), (66.0,), (66.0,), (66.0,), (66.0,), (66.0,), (66.0,), (66.0,), (66.0,), (66.0,), (66.0,), (66.0,), (66.0,), (66.0,), (66.0,), (66.0,), (66.0,), (66.0,), (66.0,), (66.0,), (66.0,), (66.0,), (66.0,), (66.0,), (66.0,), (66.0,), (66.0,), (66.0,), (66.0,), (66.0,), (66.0,), (66.0,), (66.0,), (66.0,), (66.0,), (66.0,), (66.0,), (66.0,), (66.0,), (66.0,), (66.0,), (66.0,), (66.0,), (66.0,), (66.0,), (66.0,), (66.0,), (66.0,), (66.0,), (66.0,), (66.0,), (66.0,), (66.0,), (66.0,), (66.0,), (66.0,), (66.0,), (66.0,), (66.0,), (66.0,), (66.0,), (66.0,), (66.0,), (66.0,), (66.0,), (66.0,), (66.0,), (66.0,), (66.0,), (66.0,), (66.0,), (66.0,), (66.0,), (66.0,), (66.0,), (66.0,), (66.0,), (66.0,), (66.0,), (66.0,), (66.0,), (66.0,), (66.0,), (66.0,), (66.0,), (66.0,), (66.0,), (66.0,), (66.0,), (66.0,), (66.0,), (66.0,), (66.0,), (66.0,), (66.0,), (66.0,), (66.0,), (67.0,), (67.0,), (67.0,), (67.0,), (67.0,), (67.0,), (67.0,), (67.0,), (67.0,), (67.0,), (67.0,), (67.0,), (67.0,), (67.0,), (67.0,), (67.0,), (67.0,), (67.0,), (67.0,), (67.0,), (67.0,), (67.0,), (67.0,), (67.0,), (67.0,), (67.0,), (67.0,), (67.0,), (67.0,), (67.0,), (67.0,), (67.0,), (67.0,), (67.0,), (67.0,), (67.0,), (67.0,), (67.0,), (67.0,), (67.0,), (67.0,), (67.0,), (67.0,), (67.0,), (67.0,), (67.0,), (67.0,), (67.0,), (67.0,), (67.0,), (67.0,), (67.0,), (67.0,), (67.0,), (67.0,), (67.0,), (67.0,), (67.0,), (67.0,), (67.0,), (67.0,), (67.0,), (67.0,), (67.0,), (67.0,), (67.0,), (67.0,), (67.0,), (67.0,), (67.0,), (67.0,), (67.0,), (67.0,), (67.0,), (67.0,), (67.0,), (67.0,), (67.0,), (67.0,), (67.0,), (67.0,), (67.0,), (67.0,), (67.0,), (67.0,), (67.0,), (67.0,), (67.0,), (67.0,), (67.0,), (67.0,), (67.0,), (67.0,), (67.0,), (67.0,), (67.0,), (67.0,), (67.0,), (67.0,), (67.0,), (67.0,), (67.0,), (67.0,), (67.0,), (67.0,), (67.0,), (67.0,), (67.0,), (67.0,), (67.0,), (67.0,), (67.0,), (67.0,), (67.0,), (67.0,), (67.0,), (67.0,), (67.0,), (67.0,), (67.0,), (67.0,), (67.0,), (67.0,), (67.0,), (67.0,), (67.0,), (67.0,), (67.0,), (67.0,), (67.0,), (67.0,), (67.0,), (67.0,), (67.0,), (67.0,), (67.0,), (67.0,), (67.0,), (67.0,), (67.0,), (67.0,), (67.0,), (67.0,), (67.0,), (67.0,), (67.0,), (67.0,), (67.0,), (67.0,), (67.0,), (67.0,), (67.0,), (67.0,), (67.0,), (67.0,), (67.0,), (67.0,), (67.0,), (67.0,), (67.0,), (67.0,), (67.0,), (67.0,), (67.0,), (67.0,), (67.0,), (67.0,), (67.0,), (67.0,), (67.0,), (67.0,), (67.0,), (67.0,), (67.0,), (67.0,), (67.0,), (67.0,), (67.0,), (67.0,), (67.0,), (67.0,), (67.0,), (67.0,), (67.0,), (67.0,), (67.0,), (67.0,), (67.0,), (67.0,), (67.0,), (67.0,), (67.0,), (67.0,), (67.0,), (67.0,), (67.0,), (67.0,), (67.0,), (67.0,), (67.0,), (67.0,), (67.0,), (67.0,), (67.0,), (67.0,), (67.0,), (67.0,), (67.0,), (67.0,), (67.0,), (67.0,), (67.0,), (67.0,), (67.0,), (67.0,), (67.0,), (67.0,), (67.0,), (67.0,), (67.0,), (67.0,), (67.0,), (67.0,), (67.0,), (67.0,), (67.0,), (67.0,), (67.0,), (67.0,), (67.0,), (67.0,), (67.0,), (67.0,), (67.0,), (67.0,), (67.0,), (67.0,), (67.0,), (67.0,), (67.0,), (67.0,), (67.0,), (67.0,), (67.0,), (67.0,), (67.0,), (67.0,), (67.0,), (67.0,), (67.0,), (67.0,), (67.0,), (67.0,), (67.0,), (67.0,), (67.0,), (67.0,), (67.0,), (67.0,), (67.0,), (67.0,), (67.0,), (67.0,), (67.0,), (67.0,), (67.0,), (67.0,), (67.0,), (67.0,), (67.0,), (67.0,), (67.0,), (67.0,), (67.0,), (67.0,), (67.0,), (67.0,), (67.0,), (67.0,), (67.0,), (67.0,), (67.0,), (67.0,), (67.0,), (67.0,), (67.0,), (67.0,), (67.0,), (67.0,), (67.0,), (67.0,), (67.0,), (67.0,), (67.0,), (67.0,), (67.0,), (67.0,), (67.0,), (67.0,), (67.0,), (67.0,), (67.0,), (67.0,), (67.0,), (67.0,), (67.0,), (67.0,), (67.0,), (67.0,), (67.0,), (67.0,), (67.0,), (67.0,), (67.0,), (67.0,), (67.0,), (67.0,), (67.0,), (67.0,), (67.0,), (67.0,), (67.0,), (67.0,), (67.0,), (67.0,), (67.0,), (67.0,), (67.0,), (67.0,), (67.0,), (67.0,), (67.0,), (67.0,), (67.0,), (67.0,), (67.0,), (67.0,), (67.0,), (67.0,), (67.0,), (67.0,), (67.0,), (67.0,), (67.0,), (67.0,), (67.0,), (67.0,), (67.0,), (67.0,), (67.0,), (67.0,), (67.0,), (67.0,), (67.0,), (67.0,), (67.0,), (67.0,), (67.0,), (67.0,), (67.0,), (67.0,), (67.0,), (67.0,), (67.0,), (67.0,), (67.0,), (67.0,), (67.0,), (67.0,), (67.0,), (67.0,), (67.0,), (67.0,), (67.0,), (67.0,), (67.0,), (67.0,), (67.0,), (67.0,), (67.0,), (67.0,), (67.0,), (67.0,), (67.0,), (67.0,), (67.0,), (67.0,), (67.0,), (67.0,), (67.0,), (67.0,), (67.0,), (67.0,), (67.0,), (67.0,), (67.0,), (67.0,), (67.0,), (67.0,), (67.0,), (67.0,), (67.0,), (67.0,), (67.0,), (67.0,), (67.0,), (67.0,), (67.0,), (67.0,), (67.0,), (67.0,), (67.0,), (67.0,), (67.0,), (67.0,), (67.0,), (67.0,), (67.0,), (67.0,), (67.0,), (67.0,), (67.0,), (67.0,), (67.0,), (67.0,), (67.0,), (67.0,), (67.0,), (67.0,), (67.0,), (67.0,), (67.0,), (67.0,), (67.0,), (67.0,), (67.0,), (67.0,), (67.0,), (67.0,), (67.0,), (67.0,), (67.0,), (67.0,), (67.0,), (67.0,), (67.0,), (67.0,), (67.0,), (67.0,), (67.0,), (67.0,), (67.0,), (67.0,), (67.0,), (67.0,), (67.0,), (67.0,), (67.0,), (67.0,), (67.0,), (67.0,), (67.0,), (67.0,), (67.0,), (67.0,), (67.0,), (67.0,), (67.0,), (67.0,), (67.0,), (67.0,), (67.0,), (67.0,), (67.0,), (67.0,), (67.0,), (67.0,), (67.0,), (67.0,), (67.0,), (67.0,), (67.0,), (67.0,), (67.0,), (67.0,), (67.0,), (67.0,), (67.0,), (67.0,), (67.0,), (67.0,), (67.0,), (67.0,), (67.0,), (67.0,), (67.0,), (67.0,), (67.0,), (67.0,), (67.0,), (67.0,), (67.0,), (67.0,), (67.0,), (67.0,), (67.0,), (67.0,), (67.0,), (67.0,), (67.0,), (67.0,), (67.0,), (67.0,), (67.0,), (67.0,), (67.0,), (67.0,), (67.0,), (67.0,), (67.0,), (67.0,), (67.0,), (67.0,), (67.0,), (67.0,), (67.0,), (67.0,), (67.0,), (67.0,), (67.0,), (67.0,), (67.0,), (67.0,), (67.0,), (67.0,), (67.0,), (67.0,), (67.0,), (67.0,), (67.0,), (67.0,), (67.0,), (67.0,), (67.0,), (67.0,), (67.0,), (67.0,), (67.0,), (67.0,), (67.0,), (67.0,), (67.0,), (67.0,), (67.0,), (67.0,), (67.0,), (67.0,), (67.0,), (67.0,), (67.0,), (67.0,), (67.0,), (67.0,), (67.0,), (67.0,), (67.0,), (67.0,), (67.0,), (67.0,), (67.0,), (67.0,), (67.0,), (67.0,), (67.0,), (67.0,), (67.0,), (67.0,), (67.0,), (67.0,), (67.0,), (67.0,), (67.0,), (67.0,), (67.0,), (67.0,), (67.0,), (67.0,), (67.0,), (67.0,), (67.0,), (67.0,), (67.0,), (67.0,), (67.0,), (67.0,), (67.0,), (67.0,), (67.0,), (67.0,), (67.0,), (67.0,), (67.0,), (67.0,), (68.0,), (68.0,), (68.0,), (68.0,), (68.0,), (68.0,), (68.0,), (68.0,), (68.0,), (68.0,), (68.0,), (68.0,), (68.0,), (68.0,), (68.0,), (68.0,), (68.0,), (68.0,), (68.0,), (68.0,), (68.0,), (68.0,), (68.0,), (68.0,), (68.0,), (68.0,), (68.0,), (68.0,), (68.0,), (68.0,), (68.0,), (68.0,), (68.0,), (68.0,), (68.0,), (68.0,), (68.0,), (68.0,), (68.0,), (68.0,), (68.0,), (68.0,), (68.0,), (68.0,), (68.0,), (68.0,), (68.0,), (68.0,), (68.0,), (68.0,), (68.0,), (68.0,), (68.0,), (68.0,), (68.0,), (68.0,), (68.0,), (68.0,), (68.0,), (68.0,), (68.0,), (68.0,), (68.0,), (68.0,), (68.0,), (68.0,), (68.0,), (68.0,), (68.0,), (68.0,), (68.0,), (68.0,), (68.0,), (68.0,), (68.0,), (68.0,), (68.0,), (68.0,), (68.0,), (68.0,), (68.0,), (68.0,), (68.0,), (68.0,), (68.0,), (68.0,), (68.0,), (68.0,), (68.0,), (68.0,), (68.0,), (68.0,), (68.0,), (68.0,), (68.0,), (68.0,), (68.0,), (68.0,), (68.0,), (68.0,), (68.0,), (68.0,), (68.0,), (68.0,), (68.0,), (68.0,), (68.0,), (68.0,), (68.0,), (68.0,), (68.0,), (68.0,), (68.0,), (68.0,), (68.0,), (68.0,), (68.0,), (68.0,), (68.0,), (68.0,), (68.0,), (68.0,), (68.0,), (68.0,), (68.0,), (68.0,), (68.0,), (68.0,), (68.0,), (68.0,), (68.0,), (68.0,), (68.0,), (68.0,), (68.0,), (68.0,), (68.0,), (68.0,), (68.0,), (68.0,), (68.0,), (68.0,), (68.0,), (68.0,), (68.0,), (68.0,), (68.0,), (68.0,), (68.0,), (68.0,), (68.0,), (68.0,), (68.0,), (68.0,), (68.0,), (68.0,), (68.0,), (68.0,), (68.0,), (68.0,), (68.0,), (68.0,), (68.0,), (68.0,), (68.0,), (68.0,), (68.0,), (68.0,), (68.0,), (68.0,), (68.0,), (68.0,), (68.0,), (68.0,), (68.0,), (68.0,), (68.0,), (68.0,), (68.0,), (68.0,), (68.0,), (68.0,), (68.0,), (68.0,), (68.0,), (68.0,), (68.0,), (68.0,), (68.0,), (68.0,), (68.0,), (68.0,), (68.0,), (68.0,), (68.0,), (68.0,), (68.0,), (68.0,), (68.0,), (68.0,), (68.0,), (68.0,), (68.0,), (68.0,), (68.0,), (68.0,), (68.0,), (68.0,), (68.0,), (68.0,), (68.0,), (68.0,), (68.0,), (68.0,), (68.0,), (68.0,), (68.0,), (68.0,), (68.0,), (68.0,), (68.0,), (68.0,), (68.0,), (68.0,), (68.0,), (68.0,), (68.0,), (68.0,), (68.0,), (68.0,), (68.0,), (68.0,), (68.0,), (68.0,), (68.0,), (68.0,), (68.0,), (68.0,), (68.0,), (68.0,), (68.0,), (68.0,), (68.0,), (68.0,), (68.0,), (68.0,), (68.0,), (68.0,), (68.0,), (68.0,), (68.0,), (68.0,), (68.0,), (68.0,), (68.0,), (68.0,), (68.0,), (68.0,), (68.0,), (68.0,), (68.0,), (68.0,), (68.0,), (68.0,), (68.0,), (68.0,), (68.0,), (68.0,), (68.0,), (68.0,), (68.0,), (68.0,), (68.0,), (68.0,), (68.0,), (68.0,), (68.0,), (68.0,), (68.0,), (68.0,), (68.0,), (68.0,), (68.0,), (68.0,), (68.0,), (68.0,), (68.0,), (68.0,), (68.0,), (68.0,), (68.0,), (68.0,), (68.0,), (68.0,), (68.0,), (68.0,), (68.0,), (68.0,), (68.0,), (68.0,), (68.0,), (68.0,), (68.0,), (68.0,), (68.0,), (68.0,), (68.0,), (68.0,), (68.0,), (68.0,), (68.0,), (68.0,), (68.0,), (68.0,), (68.0,), (68.0,), (68.0,), (68.0,), (68.0,), (68.0,), (68.0,), (68.0,), (68.0,), (68.0,), (68.0,), (68.0,), (68.0,), (68.0,), (68.0,), (68.0,), (68.0,), (68.0,), (68.0,), (68.0,), (68.0,), (68.0,), (68.0,), (68.0,), (68.0,), (68.0,), (68.0,), (68.0,), (68.0,), (68.0,), (68.0,), (68.0,), (68.0,), (68.0,), (68.0,), (68.0,), (68.0,), (68.0,), (68.0,), (68.0,), (68.0,), (68.0,), (68.0,), (68.0,), (68.0,), (68.0,), (68.0,), (68.0,), (68.0,), (68.0,), (68.0,), (68.0,), (68.0,), (68.0,), (68.0,), (68.0,), (68.0,), (68.0,), (68.0,), (68.0,), (68.0,), (68.0,), (68.0,), (68.0,), (68.0,), (68.0,), (68.0,), (68.0,), (68.0,), (68.0,), (68.0,), (68.0,), (68.0,), (68.0,), (68.0,), (68.0,), (68.0,), (68.0,), (68.0,), (68.0,), (68.0,), (68.0,), (68.0,), (68.0,), (68.0,), (68.0,), (68.0,), (68.0,), (68.0,), (68.0,), (68.0,), (68.0,), (68.0,), (68.0,), (68.0,), (68.0,), (68.0,), (68.0,), (68.0,), (68.0,), (68.0,), (68.0,), (68.0,), (68.0,), (68.0,), (68.0,), (68.0,), (68.0,), (68.0,), (68.0,), (68.0,), (68.0,), (68.0,), (68.0,), (68.0,), (68.0,), (68.0,), (68.0,), (68.0,), (68.0,), (68.0,), (68.0,), (68.0,), (68.0,), (68.0,), (68.0,), (68.0,), (68.0,), (68.0,), (68.0,), (68.0,), (68.0,), (68.0,), (68.0,), (68.0,), (68.0,), (68.0,), (68.0,), (68.0,), (68.0,), (68.0,), (68.0,), (68.0,), (68.0,), (68.0,), (68.0,), (68.0,), (68.0,), (68.0,), (68.0,), (68.0,), (68.0,), (68.0,), (68.0,), (68.0,), (68.0,), (68.0,), (68.0,), (68.0,), (68.0,), (68.0,), (68.0,), (68.0,), (68.0,), (68.0,), (68.0,), (68.0,), (68.0,), (68.0,), (68.0,), (68.0,), (68.0,), (68.0,), (68.0,), (68.0,), (68.0,), (68.0,), (68.0,), (68.0,), (68.0,), (68.0,), (68.0,), (68.0,), (68.0,), (68.0,), (68.0,), (68.0,), (68.0,), (68.0,), (68.0,), (68.0,), (68.0,), (68.0,), (68.0,), (68.0,), (68.0,), (68.0,), (68.0,), (68.0,), (68.0,), (68.0,), (68.0,), (68.0,), (68.0,), (68.0,), (68.0,), (68.0,), (68.0,), (68.0,), (68.0,), (68.0,), (68.0,), (68.0,), (68.0,), (68.0,), (68.0,), (68.0,), (68.0,), (68.0,), (68.0,), (68.0,), (68.0,), (68.0,), (68.0,), (68.0,), (68.0,), (68.0,), (68.0,), (68.0,), (68.0,), (68.0,), (68.0,), (68.0,), (68.0,), (68.0,), (68.0,), (68.0,), (68.0,), (68.0,), (68.0,), (68.0,), (68.0,), (68.0,), (68.0,), (68.0,), (68.0,), (68.0,), (68.0,), (68.0,), (68.0,), (68.0,), (68.0,), (68.0,), (68.0,), (68.0,), (68.0,), (68.0,), (68.0,), (68.0,), (68.0,), (68.0,), (68.0,), (68.0,), (68.0,), (68.0,), (68.0,), (68.0,), (68.0,), (68.0,), (68.0,), (68.0,), (68.0,), (68.0,), (68.0,), (68.0,), (68.0,), (68.0,), (68.0,), (68.0,), (68.0,), (68.0,), (68.0,), (68.0,), (68.0,), (68.0,), (68.0,), (68.0,), (68.0,), (68.0,), (68.0,), (68.0,), (68.0,), (68.0,), (68.0,), (68.0,), (68.0,), (68.0,), (68.0,), (68.0,), (68.0,), (68.0,), (68.0,), (68.0,), (68.0,), (68.0,), (68.0,), (68.0,), (68.0,), (68.0,), (68.0,), (68.0,), (68.0,), (68.0,), (68.0,), (68.0,), (68.0,), (68.0,), (68.0,), (68.0,), (68.0,), (68.0,), (68.0,), (68.0,), (68.0,), (68.0,), (68.0,), (68.0,), (68.0,), (68.0,), (68.0,), (68.0,), (68.0,), (68.0,), (68.0,), (68.0,), (68.0,), (68.0,), (68.0,), (68.0,), (68.0,), (68.0,), (68.0,), (68.0,), (68.0,), (68.0,), (68.0,), (68.0,), (68.0,), (68.0,), (68.0,), (68.0,), (68.0,), (68.0,), (68.0,), (68.0,), (68.0,), (68.0,), (68.0,), (68.0,), (68.0,), (68.0,), (68.0,), (68.0,), (68.0,), (68.0,), (68.0,), (68.0,), (68.0,), (68.0,), (68.0,), (68.0,), (68.0,), (68.0,), (68.0,), (68.0,), (68.0,), (68.0,), (68.0,), (68.0,), (68.0,), (68.0,), (68.0,), (68.0,), (68.0,), (68.0,), (68.0,), (68.0,), (68.0,), (68.0,), (68.0,), (68.0,), (68.0,), (68.0,), (68.0,), (68.0,), (68.0,), (68.0,), (68.0,), (68.0,), (68.0,), (68.0,), (68.0,), (68.0,), (68.0,), (68.0,), (68.0,), (68.0,), (68.0,), (68.0,), (68.0,), (68.0,), (68.0,), (68.0,), (68.0,), (68.0,), (68.0,), (68.0,), (68.0,), (68.0,), (68.0,), (68.0,), (68.0,), (68.0,), (68.0,), (68.0,), (69.0,), (69.0,), (69.0,), (69.0,), (69.0,), (69.0,), (69.0,), (69.0,), (69.0,), (69.0,), (69.0,), (69.0,), (69.0,), (69.0,), (69.0,), (69.0,), (69.0,), (69.0,), (69.0,), (69.0,), (69.0,), (69.0,), (69.0,), (69.0,), (69.0,), (69.0,), (69.0,), (69.0,), (69.0,), (69.0,), (69.0,), (69.0,), (69.0,), (69.0,), (69.0,), (69.0,), (69.0,), (69.0,), (69.0,), (69.0,), (69.0,), (69.0,), (69.0,), (69.0,), (69.0,), (69.0,), (69.0,), (69.0,), (69.0,), (69.0,), (69.0,), (69.0,), (69.0,), (69.0,), (69.0,), (69.0,), (69.0,), (69.0,), (69.0,), (69.0,), (69.0,), (69.0,), (69.0,), (69.0,), (69.0,), (69.0,), (69.0,), (69.0,), (69.0,), (69.0,), (69.0,), (69.0,), (69.0,), (69.0,), (69.0,), (69.0,), (69.0,), (69.0,), (69.0,), (69.0,), (69.0,), (69.0,), (69.0,), (69.0,), (69.0,), (69.0,), (69.0,), (69.0,), (69.0,), (69.0,), (69.0,), (69.0,), (69.0,), (69.0,), (69.0,), (69.0,), (69.0,), (69.0,), (69.0,), (69.0,), (69.0,), (69.0,), (69.0,), (69.0,), (69.0,), (69.0,), (69.0,), (69.0,), (69.0,), (69.0,), (69.0,), (69.0,), (69.0,), (69.0,), (69.0,), (69.0,), (69.0,), (69.0,), (69.0,), (69.0,), (69.0,), (69.0,), (69.0,), (69.0,), (69.0,), (69.0,), (69.0,), (69.0,), (69.0,), (69.0,), (69.0,), (69.0,), (69.0,), (69.0,), (69.0,), (69.0,), (69.0,), (69.0,), (69.0,), (69.0,), (69.0,), (69.0,), (69.0,), (69.0,), (69.0,), (69.0,), (69.0,), (69.0,), (69.0,), (69.0,), (69.0,), (69.0,), (69.0,), (69.0,), (69.0,), (69.0,), (69.0,), (69.0,), (69.0,), (69.0,), (69.0,), (69.0,), (69.0,), (69.0,), (69.0,), (69.0,), (69.0,), (69.0,), (69.0,), (69.0,), (69.0,), (69.0,), (69.0,), (69.0,), (69.0,), (69.0,), (69.0,), (69.0,), (69.0,), (69.0,), (69.0,), (69.0,), (69.0,), (69.0,), (69.0,), (69.0,), (69.0,), (69.0,), (69.0,), (69.0,), (69.0,), (69.0,), (69.0,), (69.0,), (69.0,), (69.0,), (69.0,), (69.0,), (69.0,), (69.0,), (69.0,), (69.0,), (69.0,), (69.0,), (69.0,), (69.0,), (69.0,), (69.0,), (69.0,), (69.0,), (69.0,), (69.0,), (69.0,), (69.0,), (69.0,), (69.0,), (69.0,), (69.0,), (69.0,), (69.0,), (69.0,), (69.0,), (69.0,), (69.0,), (69.0,), (69.0,), (69.0,), (69.0,), (69.0,), (69.0,), (69.0,), (69.0,), (69.0,), (69.0,), (69.0,), (69.0,), (69.0,), (69.0,), (69.0,), (69.0,), (69.0,), (69.0,), (69.0,), (69.0,), (69.0,), (69.0,), (69.0,), (69.0,), (69.0,), (69.0,), (69.0,), (69.0,), (69.0,), (69.0,), (69.0,), (69.0,), (69.0,), (69.0,), (69.0,), (69.0,), (69.0,), (69.0,), (69.0,), (69.0,), (69.0,), (69.0,), (69.0,), (69.0,), (69.0,), (69.0,), (69.0,), (69.0,), (69.0,), (69.0,), (69.0,), (69.0,), (69.0,), (69.0,), (69.0,), (69.0,), (69.0,), (69.0,), (69.0,), (69.0,), (69.0,), (69.0,), (69.0,), (69.0,), (69.0,), (69.0,), (69.0,), (69.0,), (69.0,), (69.0,), (69.0,), (69.0,), (69.0,), (69.0,), (69.0,), (69.0,), (69.0,), (69.0,), (69.0,), (69.0,), (69.0,), (69.0,), (69.0,), (69.0,), (69.0,), (69.0,), (69.0,), (69.0,), (69.0,), (69.0,), (69.0,), (69.0,), (69.0,), (69.0,), (69.0,), (69.0,), (69.0,), (69.0,), (69.0,), (69.0,), (69.0,), (69.0,), (69.0,), (69.0,), (69.0,), (69.0,), (69.0,), (69.0,), (69.0,), (69.0,), (69.0,), (69.0,), (69.0,), (69.0,), (69.0,), (69.0,), (69.0,), (69.0,), (69.0,), (69.0,), (69.0,), (69.0,), (69.0,), (69.0,), (69.0,), (69.0,), (69.0,), (69.0,), (69.0,), (69.0,), (69.0,), (69.0,), (69.0,), (69.0,), (69.0,), (69.0,), (69.0,), (69.0,), (69.0,), (69.0,), (69.0,), (69.0,), (69.0,), (69.0,), (69.0,), (69.0,), (69.0,), (69.0,), (69.0,), (69.0,), (69.0,), (69.0,), (69.0,), (69.0,), (69.0,), (69.0,), (69.0,), (69.0,), (69.0,), (69.0,), (69.0,), (69.0,), (69.0,), (69.0,), (69.0,), (69.0,), (69.0,), (69.0,), (69.0,), (69.0,), (69.0,), (69.0,), (69.0,), (69.0,), (69.0,), (69.0,), (69.0,), (69.0,), (69.0,), (69.0,), (69.0,), (69.0,), (69.0,), (69.0,), (69.0,), (69.0,), (69.0,), (69.0,), (69.0,), (69.0,), (69.0,), (69.0,), (69.0,), (69.0,), (69.0,), (69.0,), (69.0,), (69.0,), (69.0,), (69.0,), (69.0,), (69.0,), (69.0,), (69.0,), (69.0,), (69.0,), (69.0,), (69.0,), (69.0,), (69.0,), (69.0,), (69.0,), (69.0,), (69.0,), (69.0,), (69.0,), (69.0,), (69.0,), (69.0,), (69.0,), (69.0,), (69.0,), (69.0,), (69.0,), (69.0,), (69.0,), (69.0,), (69.0,), (69.0,), (69.0,), (69.0,), (69.0,), (69.0,), (69.0,), (69.0,), (69.0,), (69.0,), (69.0,), (69.0,), (69.0,), (69.0,), (69.0,), (69.0,), (69.0,), (69.0,), (69.0,), (69.0,), (69.0,), (69.0,), (69.0,), (69.0,), (69.0,), (69.0,), (69.0,), (69.0,), (69.0,), (69.0,), (69.0,), (69.0,), (69.0,), (69.0,), (69.0,), (69.0,), (69.0,), (69.0,), (69.0,), (69.0,), (69.0,), (69.0,), (69.0,), (69.0,), (69.0,), (69.0,), (69.0,), (69.0,), (69.0,), (69.0,), (69.0,), (69.0,), (69.0,), (69.0,), (69.0,), (69.0,), (69.0,), (69.0,), (69.0,), (69.0,), (69.0,), (69.0,), (69.0,), (69.0,), (69.0,), (69.0,), (69.0,), (69.0,), (69.0,), (69.0,), (69.0,), (69.0,), (69.0,), (69.0,), (69.0,), (69.0,), (69.0,), (69.0,), (69.0,), (69.0,), (69.0,), (69.0,), (69.0,), (69.0,), (69.0,), (69.0,), (69.0,), (69.0,), (69.0,), (69.0,), (69.0,), (69.0,), (69.0,), (69.0,), (69.0,), (69.0,), (69.0,), (69.0,), (69.0,), (69.0,), (69.0,), (69.0,), (69.0,), (69.0,), (69.0,), (69.0,), (69.0,), (69.0,), (69.0,), (69.0,), (69.0,), (69.0,), (69.0,), (69.0,), (69.0,), (69.0,), (69.0,), (69.0,), (69.0,), (69.0,), (69.0,), (69.0,), (69.0,), (69.0,), (69.0,), (69.0,), (69.0,), (69.0,), (69.0,), (69.0,), (69.0,), (69.0,), (69.0,), (69.0,), (69.0,), (69.0,), (69.0,), (69.0,), (69.0,), (69.0,), (69.0,), (69.0,), (69.0,), (69.0,), (69.0,), (69.0,), (69.0,), (69.0,), (69.0,), (69.0,), (69.0,), (69.0,), (69.0,), (69.0,), (69.0,), (69.0,), (69.0,), (69.0,), (69.0,), (69.0,), (69.0,), (69.0,), (69.0,), (69.0,), (69.0,), (69.0,), (69.0,), (69.0,), (69.0,), (69.0,), (69.0,), (69.0,), (69.0,), (69.0,), (69.0,), (69.0,), (69.0,), (69.0,), (69.0,), (69.0,), (69.0,), (69.0,), (69.0,), (69.0,), (69.0,), (69.0,), (69.0,), (69.0,), (69.0,), (69.0,), (69.0,), (69.0,), (69.0,), (69.0,), (69.0,), (69.0,), (69.0,), (69.0,), (69.0,), (69.0,), (69.0,), (69.0,), (69.0,), (69.0,), (69.0,), (69.0,), (69.0,), (69.0,), (69.0,), (69.0,), (69.0,), (69.0,), (69.0,), (69.0,), (69.0,), (69.0,), (69.0,), (69.0,), (69.0,), (69.0,), (69.0,), (69.0,), (69.0,), (69.0,), (69.0,), (69.0,), (69.0,), (69.0,), (69.0,), (69.0,), (69.0,), (69.0,), (69.0,), (69.0,), (69.0,), (69.0,), (69.0,), (69.0,), (69.0,), (69.0,), (69.0,), (69.0,), (69.0,), (69.0,), (69.0,), (69.0,), (69.0,), (69.0,), (69.0,), (69.0,), (69.0,), (69.0,), (69.0,), (69.0,), (69.0,), (69.0,), (69.0,), (69.0,), (69.0,), (69.0,), (69.0,), (69.0,), (69.0,), (69.0,), (69.0,), (69.0,), (69.0,), (69.0,), (69.0,), (69.0,), (69.0,), (69.0,), (69.0,), (69.0,), (69.0,), (69.0,), (69.0,), (69.0,), (69.0,), (69.0,), (69.0,), (69.0,), (69.0,), (69.0,), (69.0,), (69.0,), (69.0,), (69.0,), (69.0,), (69.0,), (69.0,), (69.0,), (69.0,), (69.0,), (69.0,), (69.0,), (69.0,), (69.0,), (69.0,), (69.0,), (69.0,), (69.0,), (69.0,), (69.0,), (69.0,), (69.0,), (69.0,), (69.0,), (69.0,), (69.0,), (69.0,), (69.0,), (69.0,), (69.0,), (69.0,), (69.0,), (69.0,), (69.0,), (69.0,), (69.0,), (69.0,), (69.0,), (69.0,), (69.0,), (69.0,), (69.0,), (69.0,), (69.0,), (69.0,), (69.0,), (69.0,), (69.0,), (69.0,), (69.0,), (69.0,), (69.0,), (69.0,), (69.0,), (69.0,), (69.0,), (69.0,), (69.0,), (69.0,), (69.0,), (69.0,), (69.0,), (69.0,), (69.0,), (69.0,), (69.0,), (69.0,), (69.0,), (69.0,), (69.0,), (69.0,), (69.0,), (69.0,), (69.0,), (69.0,), (69.0,), (69.0,), (69.0,), (69.0,), (69.0,), (69.0,), (69.0,), (69.0,), (69.0,), (69.0,), (69.0,), (69.0,), (69.0,), (69.0,), (69.0,), (69.0,), (69.0,), (69.0,), (69.0,), (69.0,), (69.0,), (69.0,), (69.0,), (69.0,), (69.0,), (69.0,), (69.0,), (69.0,), (69.0,), (69.0,), (69.0,), (69.0,), (69.0,), (69.0,), (69.0,), (69.0,), (69.0,), (69.0,), (69.0,), (69.0,), (69.0,), (69.0,), (69.0,), (69.0,), (69.0,), (69.0,), (69.0,), (69.0,), (69.0,), (69.0,), (69.0,), (69.0,), (69.0,), (69.0,), (69.0,), (69.0,), (69.0,), (69.0,), (69.0,), (69.0,), (69.0,), (69.0,), (69.0,), (69.0,), (69.0,), (69.0,), (69.0,), (69.0,), (69.0,), (69.0,), (69.0,), (69.0,), (69.0,), (69.0,), (69.0,), (69.0,), (69.0,), (69.0,), (69.0,), (69.0,), (69.0,), (69.0,), (69.0,), (69.0,), (69.0,), (69.0,), (69.0,), (69.0,), (69.0,), (69.0,), (69.0,), (69.0,), (69.0,), (69.0,), (69.0,), (69.0,), (69.0,), (69.0,), (69.0,), (69.0,), (69.0,), (69.0,), (69.0,), (69.0,), (69.0,), (69.0,), (69.0,), (69.0,), (69.0,), (69.0,), (69.0,), (69.0,), (69.0,), (69.0,), (69.0,), (69.0,), (69.0,), (69.0,), (69.0,), (69.0,), (69.0,), (69.0,), (69.0,), (69.0,), (69.0,), (69.0,), (69.0,), (69.0,), (69.0,), (69.0,), (69.0,), (69.0,), (69.0,), (69.0,), (69.0,), (69.0,), (69.0,), (69.0,), (69.0,), (69.0,), (69.0,), (69.0,), (69.0,), (69.0,), (69.0,), (69.0,), (69.0,), (69.0,), (69.0,), (69.0,), (69.0,), (69.0,), (69.0,), (69.0,), (69.0,), (69.0,), (69.0,), (69.0,), (69.0,), (69.0,), (69.0,), (69.0,), (69.0,), (69.0,), (69.0,), (69.0,), (69.0,), (69.0,), (69.0,), (69.0,), (69.0,), (69.0,), (69.0,), (69.0,), (69.0,), (69.0,), (69.0,), (69.0,), (69.0,), (69.0,), (69.0,), (69.0,), (69.0,), (69.0,), (69.0,), (69.0,), (69.0,), (69.0,), (69.0,), (69.0,), (69.0,), (69.0,), (69.0,), (69.0,), (69.0,), (69.0,), (69.0,), (69.0,), (69.0,), (69.0,), (69.0,), (69.0,), (69.0,), (69.0,), (69.0,), (69.0,), (69.0,), (69.0,), (69.0,), (69.0,), (69.0,), (69.0,), (69.0,), (69.0,), (69.0,), (69.0,), (69.0,), (69.0,), (69.0,), (69.0,), (69.0,), (69.0,), (69.0,), (69.0,), (69.0,), (69.0,), (69.0,), (69.0,), (69.0,), (69.0,), (69.0,), (69.0,), (69.0,), (69.0,), (69.0,), (69.0,), (69.0,), (69.0,), (69.0,), (69.0,), (69.0,), (69.0,), (69.0,), (69.0,), (69.0,), (69.0,), (69.0,), (69.0,), (69.0,), (69.0,), (69.0,), (69.0,), (69.0,), (69.0,), (69.0,), (69.0,), (69.0,), (69.0,), (69.0,), (69.0,), (69.0,), (69.0,), (69.0,), (69.0,), (69.0,), (69.0,), (69.0,), (69.0,), (69.0,), (69.0,), (69.0,), (69.0,), (69.0,), (69.0,), (69.0,), (69.0,), (69.0,), (69.0,), (69.0,), (69.0,), (69.0,), (69.0,), (69.0,), (69.0,), (69.0,), (69.0,), (69.0,), (69.0,), (69.0,), (69.0,), (69.0,), (69.0,), (69.0,), (70.0,), (70.0,), (70.0,), (70.0,), (70.0,), (70.0,), (70.0,), (70.0,), (70.0,), (70.0,), (70.0,), (70.0,), (70.0,), (70.0,), (70.0,), (70.0,), (70.0,), (70.0,), (70.0,), (70.0,), (70.0,), (70.0,), (70.0,), (70.0,), (70.0,), (70.0,), (70.0,), (70.0,), (70.0,), (70.0,), (70.0,), (70.0,), (70.0,), (70.0,), (70.0,), (70.0,), (70.0,), (70.0,), (70.0,), (70.0,), (70.0,), (70.0,), (70.0,), (70.0,), (70.0,), (70.0,), (70.0,), (70.0,), (70.0,), (70.0,), (70.0,), (70.0,), (70.0,), (70.0,), (70.0,), (70.0,), (70.0,), (70.0,), (70.0,), (70.0,), (70.0,), (70.0,), (70.0,), (70.0,), (70.0,), (70.0,), (70.0,), (70.0,), (70.0,), (70.0,), (70.0,), (70.0,), (70.0,), (70.0,), (70.0,), (70.0,), (70.0,), (70.0,), (70.0,), (70.0,), (70.0,), (70.0,), (70.0,), (70.0,), (70.0,), (70.0,), (70.0,), (70.0,), (70.0,), (70.0,), (70.0,), (70.0,), (70.0,), (70.0,), (70.0,), (70.0,), (70.0,), (70.0,), (70.0,), (70.0,), (70.0,), (70.0,), (70.0,), (70.0,), (70.0,), (70.0,), (70.0,), (70.0,), (70.0,), (70.0,), (70.0,), (70.0,), (70.0,), (70.0,), (70.0,), (70.0,), (70.0,), (70.0,), (70.0,), (70.0,), (70.0,), (70.0,), (70.0,), (70.0,), (70.0,), (70.0,), (70.0,), (70.0,), (70.0,), (70.0,), (70.0,), (70.0,), (70.0,), (70.0,), (70.0,), (70.0,), (70.0,), (70.0,), (70.0,), (70.0,), (70.0,), (70.0,), (70.0,), (70.0,), (70.0,), (70.0,), (70.0,), (70.0,), (70.0,), (70.0,), (70.0,), (70.0,), (70.0,), (70.0,), (70.0,), (70.0,), (70.0,), (70.0,), (70.0,), (70.0,), (70.0,), (70.0,), (70.0,), (70.0,), (70.0,), (70.0,), (70.0,), (70.0,), (70.0,), (70.0,), (70.0,), (70.0,), (70.0,), (70.0,), (70.0,), (70.0,), (70.0,), (70.0,), (70.0,), (70.0,), (70.0,), (70.0,), (70.0,), (70.0,), (70.0,), (70.0,), (70.0,), (70.0,), (70.0,), (70.0,), (70.0,), (70.0,), (70.0,), (70.0,), (70.0,), (70.0,), (70.0,), (70.0,), (70.0,), (70.0,), (70.0,), (70.0,), (70.0,), (70.0,), (70.0,), (70.0,), (70.0,), (70.0,), (70.0,), (70.0,), (70.0,), (70.0,), (70.0,), (70.0,), (70.0,), (70.0,), (70.0,), (70.0,), (70.0,), (70.0,), (70.0,), (70.0,), (70.0,), (70.0,), (70.0,), (70.0,), (70.0,), (70.0,), (70.0,), (70.0,), (70.0,), (70.0,), (70.0,), (70.0,), (70.0,), (70.0,), (70.0,), (70.0,), (70.0,), (70.0,), (70.0,), (70.0,), (70.0,), (70.0,), (70.0,), (70.0,), (70.0,), (70.0,), (70.0,), (70.0,), (70.0,), (70.0,), (70.0,), (70.0,), (70.0,), (70.0,), (70.0,), (70.0,), (70.0,), (70.0,), (70.0,), (70.0,), (70.0,), (70.0,), (70.0,), (70.0,), (70.0,), (70.0,), (70.0,), (70.0,), (70.0,), (70.0,), (70.0,), (70.0,), (70.0,), (70.0,), (70.0,), (70.0,), (70.0,), (70.0,), (70.0,), (70.0,), (70.0,), (70.0,), (70.0,), (70.0,), (70.0,), (70.0,), (70.0,), (70.0,), (70.0,), (70.0,), (70.0,), (70.0,), (70.0,), (70.0,), (70.0,), (70.0,), (70.0,), (70.0,), (70.0,), (70.0,), (70.0,), (70.0,), (70.0,), (70.0,), (70.0,), (70.0,), (70.0,), (70.0,), (70.0,), (70.0,), (70.0,), (70.0,), (70.0,), (70.0,), (70.0,), (70.0,), (70.0,), (70.0,), (70.0,), (70.0,), (70.0,), (70.0,), (70.0,), (70.0,), (70.0,), (70.0,), (70.0,), (70.0,), (70.0,), (70.0,), (70.0,), (70.0,), (70.0,), (70.0,), (70.0,), (70.0,), (70.0,), (70.0,), (70.0,), (70.0,), (70.0,), (70.0,), (70.0,), (70.0,), (70.0,), (70.0,), (70.0,), (70.0,), (70.0,), (70.0,), (70.0,), (70.0,), (70.0,), (70.0,), (70.0,), (70.0,), (70.0,), (70.0,), (70.0,), (70.0,), (70.0,), (70.0,), (70.0,), (70.0,), (70.0,), (70.0,), (70.0,), (70.0,), (70.0,), (70.0,), (70.0,), (70.0,), (70.0,), (70.0,), (70.0,), (70.0,), (70.0,), (70.0,), (70.0,), (70.0,), (70.0,), (70.0,), (70.0,), (70.0,), (70.0,), (70.0,), (70.0,), (70.0,), (70.0,), (70.0,), (70.0,), (70.0,), (70.0,), (70.0,), (70.0,), (70.0,), (70.0,), (70.0,), (70.0,), (70.0,), (70.0,), (70.0,), (70.0,), (70.0,), (70.0,), (70.0,), (70.0,), (70.0,), (70.0,), (70.0,), (70.0,), (70.0,), (70.0,), (70.0,), (70.0,), (70.0,), (70.0,), (70.0,), (70.0,), (70.0,), (70.0,), (70.0,), (70.0,), (70.0,), (70.0,), (70.0,), (70.0,), (70.0,), (70.0,), (70.0,), (70.0,), (70.0,), (70.0,), (70.0,), (70.0,), (70.0,), (70.0,), (70.0,), (70.0,), (70.0,), (70.0,), (70.0,), (70.0,), (70.0,), (70.0,), (70.0,), (70.0,), (70.0,), (70.0,), (70.0,), (70.0,), (70.0,), (70.0,), (70.0,), (70.0,), (70.0,), (70.0,), (70.0,), (70.0,), (70.0,), (70.0,), (70.0,), (70.0,), (70.0,), (70.0,), (70.0,), (70.0,), (70.0,), (70.0,), (70.0,), (70.0,), (70.0,), (70.0,), (70.0,), (70.0,), (70.0,), (70.0,), (70.0,), (70.0,), (70.0,), (70.0,), (70.0,), (70.0,), (70.0,), (70.0,), (70.0,), (70.0,), (70.0,), (70.0,), (70.0,), (70.0,), (70.0,), (70.0,), (70.0,), (70.0,), (70.0,), (70.0,), (70.0,), (70.0,), (70.0,), (70.0,), (70.0,), (70.0,), (70.0,), (70.0,), (70.0,), (70.0,), (70.0,), (70.0,), (70.0,), (70.0,), (70.0,), (70.0,), (70.0,), (70.0,), (70.0,), (70.0,), (70.0,), (70.0,), (70.0,), (70.0,), (70.0,), (70.0,), (70.0,), (70.0,), (70.0,), (70.0,), (70.0,), (70.0,), (70.0,), (70.0,), (70.0,), (70.0,), (70.0,), (70.0,), (70.0,), (70.0,), (70.0,), (70.0,), (70.0,), (70.0,), (70.0,), (70.0,), (70.0,), (70.0,), (70.0,), (70.0,), (70.0,), (70.0,), (70.0,), (70.0,), (70.0,), (70.0,), (70.0,), (70.0,), (70.0,), (70.0,), (70.0,), (70.0,), (70.0,), (70.0,), (70.0,), (70.0,), (70.0,), (70.0,), (70.0,), (70.0,), (70.0,), (70.0,), (70.0,), (70.0,), (70.0,), (70.0,), (70.0,), (70.0,), (70.0,), (70.0,), (70.0,), (70.0,), (70.0,), (70.0,), (70.0,), (70.0,), (70.0,), (70.0,), (70.0,), (70.0,), (70.0,), (70.0,), (70.0,), (70.0,), (70.0,), (70.0,), (70.0,), (70.0,), (70.0,), (70.0,), (70.0,), (70.0,), (70.0,), (70.0,), (70.0,), (70.0,), (70.0,), (70.0,), (70.0,), (70.0,), (70.0,), (70.0,), (70.0,), (70.0,), (70.0,), (70.0,), (70.0,), (70.0,), (70.0,), (70.0,), (70.0,), (70.0,), (70.0,), (70.0,), (70.0,), (70.0,), (70.0,), (70.0,), (70.0,), (70.0,), (70.0,), (70.0,), (70.0,), (70.0,), (70.0,), (70.0,), (70.0,), (70.0,), (70.0,), (70.0,), (70.0,), (70.0,), (70.0,), (70.0,), (70.0,), (70.0,), (70.0,), (70.0,), (70.0,), (70.0,), (70.0,), (70.0,), (70.0,), (70.0,), (70.0,), (70.0,), (70.0,), (70.0,), (70.0,), (70.0,), (70.0,), (70.0,), (70.0,), (70.0,), (70.0,), (70.0,), (70.0,), (70.0,), (70.0,), (70.0,), (70.0,), (70.0,), (70.0,), (70.0,), (70.0,), (70.0,), (70.0,), (70.0,), (70.0,), (70.0,), (70.0,), (70.0,), (70.0,), (70.0,), (70.0,), (70.0,), (70.0,), (70.0,), (70.0,), (70.0,), (70.0,), (70.0,), (70.0,), (70.0,), (70.0,), (70.0,), (70.0,), (70.0,), (70.0,), (70.0,), (70.0,), (70.0,), (70.0,), (70.0,), (70.0,), (70.0,), (70.0,), (70.0,), (70.0,), (70.0,), (70.0,), (70.0,), (70.0,), (70.0,), (70.0,), (70.0,), (70.0,), (70.0,), (70.0,), (70.0,), (70.0,), (70.0,), (70.0,), (70.0,), (70.0,), (70.0,), (70.0,), (70.0,), (70.0,), (70.0,), (70.0,), (70.0,), (70.0,), (70.0,), (70.0,), (70.0,), (70.0,), (70.0,), (70.0,), (70.0,), (70.0,), (70.0,), (70.0,), (70.0,), (70.0,), (70.0,), (70.0,), (70.0,), (70.0,), (70.0,), (70.0,), (70.0,), (70.0,), (70.0,), (70.0,), (70.0,), (70.0,), (70.0,), (70.0,), (70.0,), (70.0,), (70.0,), (70.0,), (70.0,), (70.0,), (70.0,), (70.0,), (70.0,), (70.0,), (70.0,), (70.0,), (70.0,), (70.0,), (70.0,), (70.0,), (70.0,), (70.0,), (70.0,), (70.0,), (70.0,), (70.0,), (70.0,), (70.0,), (70.0,), (70.0,), (70.0,), (70.0,), (70.0,), (70.0,), (70.0,), (70.0,), (70.0,), (70.0,), (70.0,), (70.0,), (70.0,), (70.0,), (70.0,), (70.0,), (70.0,), (70.0,), (70.0,), (70.0,), (70.0,), (70.0,), (70.0,), (70.0,), (70.0,), (70.0,), (70.0,), (70.0,), (70.0,), (70.0,), (70.0,), (70.0,), (70.0,), (70.0,), (70.0,), (70.0,), (70.0,), (70.0,), (70.0,), (70.0,), (70.0,), (70.0,), (70.0,), (70.0,), (70.0,), (70.0,), (70.0,), (70.0,), (70.0,), (70.0,), (70.0,), (70.0,), (70.0,), (70.0,), (70.0,), (70.0,), (70.0,), (70.0,), (70.0,), (70.0,), (70.0,), (70.0,), (70.0,), (70.0,), (70.0,), (70.0,), (70.0,), (70.0,), (70.0,), (70.0,), (70.0,), (70.0,), (70.0,), (70.0,), (70.0,), (70.0,), (70.0,), (70.0,), (70.0,), (70.0,), (70.0,), (70.0,), (70.0,), (70.0,), (70.0,), (70.0,), (70.0,), (70.0,), (70.0,), (70.0,), (70.0,), (70.0,), (70.0,), (70.0,), (70.0,), (70.0,), (70.0,), (70.0,), (70.0,), (70.0,), (70.0,), (70.0,), (70.0,), (70.0,), (70.0,), (70.0,), (70.0,), (70.0,), (70.0,), (70.0,), (70.0,), (70.0,), (70.0,), (70.0,), (70.0,), (70.0,), (70.0,), (70.0,), (70.0,), (70.0,), (70.0,), (70.0,), (70.0,), (70.0,), (70.0,), (70.0,), (70.0,), (70.0,), (70.0,), (70.0,), (70.0,), (70.0,), (70.0,), (70.0,), (70.0,), (70.0,), (70.0,), (70.0,), (70.0,), (70.0,), (70.0,), (70.0,), (70.0,), (70.0,), (70.0,), (70.0,), (70.0,), (70.0,), (70.0,), (70.0,), (70.0,), (70.0,), (70.0,), (70.0,), (70.0,), (70.0,), (70.0,), (70.0,), (70.0,), (70.0,), (70.0,), (70.0,), (70.0,), (70.0,), (70.0,), (70.0,), (70.0,), (70.0,), (70.0,), (70.0,), (70.0,), (70.0,), (70.0,), (70.0,), (70.0,), (70.0,), (70.0,), (70.0,), (70.0,), (70.0,), (70.0,), (70.0,), (70.0,), (70.0,), (70.0,), (70.0,), (70.0,), (70.0,), (70.0,), (70.0,), (70.0,), (70.0,), (70.0,), (70.0,), (70.0,), (70.0,), (70.0,), (70.0,), (70.0,), (70.0,), (70.0,), (70.0,), (70.0,), (70.0,), (70.0,), (70.0,), (70.0,), (70.0,), (70.0,), (70.0,), (70.0,), (70.0,), (70.0,), (70.0,), (70.0,), (70.0,), (70.0,), (70.0,), (70.0,), (70.0,), (70.0,), (70.0,), (70.0,), (70.0,), (70.0,), (70.0,), (70.0,), (70.0,), (70.0,), (70.0,), (70.0,), (70.0,), (70.0,), (70.0,), (70.0,), (70.0,), (70.0,), (70.0,), (70.0,), (70.0,), (70.0,), (70.0,), (70.0,), (70.0,), (70.0,), (70.0,), (70.0,), (70.0,), (70.0,), (70.0,), (70.0,), (70.0,), (70.0,), (70.0,), (70.0,), (70.0,), (70.0,), (70.0,), (70.0,), (70.0,), (70.0,), (70.0,), (70.0,), (70.0,), (70.0,), (70.0,), (70.0,), (70.0,), (70.0,), (70.0,), (70.0,), (70.0,), (70.0,), (70.0,), (70.0,), (70.0,), (70.0,), (70.0,), (70.0,), (70.0,), (70.0,), (70.0,), (70.0,), (70.0,), (70.0,), (70.0,), (70.0,), (70.0,), (70.0,), (70.0,), (70.0,), (70.0,), (70.0,), (70.0,), (70.0,), (70.0,), (70.0,), (70.0,), (70.0,), (70.0,), (70.0,), (70.0,), (70.0,), (70.0,), (70.0,), (70.0,), (70.0,), (70.0,), (70.0,), (70.0,), (70.0,), (70.0,), (70.0,), (70.0,), (70.0,), (70.0,), (70.0,), (70.0,), (70.0,), (70.0,), (70.0,), (70.0,), (70.0,), (70.0,), (70.0,), (70.0,), (70.0,), (70.0,), (70.0,), (70.0,), (70.0,), (70.0,), (70.0,), (70.0,), (70.0,), (70.0,), (70.0,), (70.0,), (70.0,), (70.0,), (70.0,), (70.0,), (70.0,), (70.0,), (70.0,), (70.0,), (70.0,), (70.0,), (70.0,), (70.0,), (70.0,), (70.0,), (70.0,), (70.0,), (70.0,), (70.0,), (70.0,), (70.0,), (70.0,), (70.0,), (70.0,), (70.0,), (70.0,), (70.0,), (70.0,), (70.0,), (70.0,), (70.0,), (70.0,), (70.0,), (70.0,), (70.0,), (70.0,), (70.0,), (70.0,), (70.0,), (70.0,), (70.0,), (70.0,), (70.0,), (70.0,), (70.0,), (70.0,), (70.0,), (70.0,), (70.0,), (70.0,), (70.0,), (70.0,), (70.0,), (70.0,), (70.0,), (70.0,), (70.0,), (70.0,), (70.0,), (70.0,), (70.0,), (70.0,), (70.0,), (70.0,), (70.0,), (70.0,), (70.0,), (70.0,), (70.0,), (70.0,), (70.0,), (70.0,), (70.0,), (70.0,), (70.0,), (70.0,), (70.0,), (70.0,), (70.0,), (70.0,), (70.0,), (70.0,), (70.0,), (70.0,), (70.0,), (70.0,), (70.0,), (70.0,), (70.0,), (70.0,), (70.0,), (70.0,), (70.0,), (70.0,), (70.0,), (70.0,), (70.0,), (70.0,), (70.0,), (70.0,), (70.0,), (70.0,), (70.0,), (70.0,), (70.0,), (70.0,), (70.0,), (70.0,), (70.0,), (70.0,), (70.0,), (70.0,), (70.0,), (70.0,), (70.0,), (70.0,), (70.0,), (70.0,), (70.0,), (70.0,), (70.0,), (70.0,), (70.0,), (70.0,), (70.0,), (70.0,), (70.0,), (70.0,), (70.0,), (70.0,), (70.0,), (70.0,), (70.0,), (70.0,), (70.0,), (70.0,), (70.0,), (70.0,), (71.0,), (71.0,), (71.0,), (71.0,), (71.0,), (71.0,), (71.0,), (71.0,), (71.0,), (71.0,), (71.0,), (71.0,), (71.0,), (71.0,), (71.0,), (71.0,), (71.0,), (71.0,), (71.0,), (71.0,), (71.0,), (71.0,), (71.0,), (71.0,), (71.0,), (71.0,), (71.0,), (71.0,), (71.0,), (71.0,), (71.0,), (71.0,), (71.0,), (71.0,), (71.0,), (71.0,), (71.0,), (71.0,), (71.0,), (71.0,), (71.0,), (71.0,), (71.0,), (71.0,), (71.0,), (71.0,), (71.0,), (71.0,), (71.0,), (71.0,), (71.0,), (71.0,), (71.0,), (71.0,), (71.0,), (71.0,), (71.0,), (71.0,), (71.0,), (71.0,), (71.0,), (71.0,), (71.0,), (71.0,), (71.0,), (71.0,), (71.0,), (71.0,), (71.0,), (71.0,), (71.0,), (71.0,), (71.0,), (71.0,), (71.0,), (71.0,), (71.0,), (71.0,), (71.0,), (71.0,), (71.0,), (71.0,), (71.0,), (71.0,), (71.0,), (71.0,), (71.0,), (71.0,), (71.0,), (71.0,), (71.0,), (71.0,), (71.0,), (71.0,), (71.0,), (71.0,), (71.0,), (71.0,), (71.0,), (71.0,), (71.0,), (71.0,), (71.0,), (71.0,), (71.0,), (71.0,), (71.0,), (71.0,), (71.0,), (71.0,), (71.0,), (71.0,), (71.0,), (71.0,), (71.0,), (71.0,), (71.0,), (71.0,), (71.0,), (71.0,), (71.0,), (71.0,), (71.0,), (71.0,), (71.0,), (71.0,), (71.0,), (71.0,), (71.0,), (71.0,), (71.0,), (71.0,), (71.0,), (71.0,), (71.0,), (71.0,), (71.0,), (71.0,), (71.0,), (71.0,), (71.0,), (71.0,), (71.0,), (71.0,), (71.0,), (71.0,), (71.0,), (71.0,), (71.0,), (71.0,), (71.0,), (71.0,), (71.0,), (71.0,), (71.0,), (71.0,), (71.0,), (71.0,), (71.0,), (71.0,), (71.0,), (71.0,), (71.0,), (71.0,), (71.0,), (71.0,), (71.0,), (71.0,), (71.0,), (71.0,), (71.0,), (71.0,), (71.0,), (71.0,), (71.0,), (71.0,), (71.0,), (71.0,), (71.0,), (71.0,), (71.0,), (71.0,), (71.0,), (71.0,), (71.0,), (71.0,), (71.0,), (71.0,), (71.0,), (71.0,), (71.0,), (71.0,), (71.0,), (71.0,), (71.0,), (71.0,), (71.0,), (71.0,), (71.0,), (71.0,), (71.0,), (71.0,), (71.0,), (71.0,), (71.0,), (71.0,), (71.0,), (71.0,), (71.0,), (71.0,), (71.0,), (71.0,), (71.0,), (71.0,), (71.0,), (71.0,), (71.0,), (71.0,), (71.0,), (71.0,), (71.0,), (71.0,), (71.0,), (71.0,), (71.0,), (71.0,), (71.0,), (71.0,), (71.0,), (71.0,), (71.0,), (71.0,), (71.0,), (71.0,), (71.0,), (71.0,), (71.0,), (71.0,), (71.0,), (71.0,), (71.0,), (71.0,), (71.0,), (71.0,), (71.0,), (71.0,), (71.0,), (71.0,), (71.0,), (71.0,), (71.0,), (71.0,), (71.0,), (71.0,), (71.0,), (71.0,), (71.0,), (71.0,), (71.0,), (71.0,), (71.0,), (71.0,), (71.0,), (71.0,), (71.0,), (71.0,), (71.0,), (71.0,), (71.0,), (71.0,), (71.0,), (71.0,), (71.0,), (71.0,), (71.0,), (71.0,), (71.0,), (71.0,), (71.0,), (71.0,), (71.0,), (71.0,), (71.0,), (71.0,), (71.0,), (71.0,), (71.0,), (71.0,), (71.0,), (71.0,), (71.0,), (71.0,), (71.0,), (71.0,), (71.0,), (71.0,), (71.0,), (71.0,), (71.0,), (71.0,), (71.0,), (71.0,), (71.0,), (71.0,), (71.0,), (71.0,), (71.0,), (71.0,), (71.0,), (71.0,), (71.0,), (71.0,), (71.0,), (71.0,), (71.0,), (71.0,), (71.0,), (71.0,), (71.0,), (71.0,), (71.0,), (71.0,), (71.0,), (71.0,), (71.0,), (71.0,), (71.0,), (71.0,), (71.0,), (71.0,), (71.0,), (71.0,), (71.0,), (71.0,), (71.0,), (71.0,), (71.0,), (71.0,), (71.0,), (71.0,), (71.0,), (71.0,), (71.0,), (71.0,), (71.0,), (71.0,), (71.0,), (71.0,), (71.0,), (71.0,), (71.0,), (71.0,), (71.0,), (71.0,), (71.0,), (71.0,), (71.0,), (71.0,), (71.0,), (71.0,), (71.0,), (71.0,), (71.0,), (71.0,), (71.0,), (71.0,), (71.0,), (71.0,), (71.0,), (71.0,), (71.0,), (71.0,), (71.0,), (71.0,), (71.0,), (71.0,), (71.0,), (71.0,), (71.0,), (71.0,), (71.0,), (71.0,), (71.0,), (71.0,), (71.0,), (71.0,), (71.0,), (71.0,), (71.0,), (71.0,), (71.0,), (71.0,), (71.0,), (71.0,), (71.0,), (71.0,), (71.0,), (71.0,), (71.0,), (71.0,), (71.0,), (71.0,), (71.0,), (71.0,), (71.0,), (71.0,), (71.0,), (71.0,), (71.0,), (71.0,), (71.0,), (71.0,), (71.0,), (71.0,), (71.0,), (71.0,), (71.0,), (71.0,), (71.0,), (71.0,), (71.0,), (71.0,), (71.0,), (71.0,), (71.0,), (71.0,), (71.0,), (71.0,), (71.0,), (71.0,), (71.0,), (71.0,), (71.0,), (71.0,), (71.0,), (71.0,), (71.0,), (71.0,), (71.0,), (71.0,), (71.0,), (71.0,), (71.0,), (71.0,), (71.0,), (71.0,), (71.0,), (71.0,), (71.0,), (71.0,), (71.0,), (71.0,), (71.0,), (71.0,), (71.0,), (71.0,), (71.0,), (71.0,), (71.0,), (71.0,), (71.0,), (71.0,), (71.0,), (71.0,), (71.0,), (71.0,), (71.0,), (71.0,), (71.0,), (71.0,), (71.0,), (71.0,), (71.0,), (71.0,), (71.0,), (71.0,), (71.0,), (71.0,), (71.0,), (71.0,), (71.0,), (71.0,), (71.0,), (71.0,), (71.0,), (71.0,), (71.0,), (71.0,), (71.0,), (71.0,), (71.0,), (71.0,), (71.0,), (71.0,), (71.0,), (71.0,), (71.0,), (71.0,), (71.0,), (71.0,), (71.0,), (71.0,), (71.0,), (71.0,), (71.0,), (71.0,), (71.0,), (71.0,), (71.0,), (71.0,), (71.0,), (71.0,), (71.0,), (71.0,), (71.0,), (71.0,), (71.0,), (71.0,), (71.0,), (71.0,), (71.0,), (71.0,), (71.0,), (71.0,), (71.0,), (71.0,), (71.0,), (71.0,), (71.0,), (71.0,), (71.0,), (71.0,), (71.0,), (71.0,), (71.0,), (71.0,), (71.0,), (71.0,), (71.0,), (71.0,), (71.0,), (71.0,), (71.0,), (71.0,), (71.0,), (71.0,), (71.0,), (71.0,), (71.0,), (71.0,), (71.0,), (71.0,), (71.0,), (71.0,), (71.0,), (71.0,), (71.0,), (71.0,), (71.0,), (71.0,), (71.0,), (71.0,), (71.0,), (71.0,), (71.0,), (71.0,), (71.0,), (71.0,), (71.0,), (71.0,), (71.0,), (71.0,), (71.0,), (71.0,), (71.0,), (71.0,), (71.0,), (71.0,), (71.0,), (71.0,), (71.0,), (71.0,), (71.0,), (71.0,), (71.0,), (71.0,), (71.0,), (71.0,), (71.0,), (71.0,), (71.0,), (71.0,), (71.0,), (71.0,), (71.0,), (71.0,), (71.0,), (71.0,), (71.0,), (71.0,), (71.0,), (71.0,), (71.0,), (71.0,), (71.0,), (71.0,), (71.0,), (71.0,), (71.0,), (71.0,), (71.0,), (71.0,), (71.0,), (71.0,), (71.0,), (71.0,), (71.0,), (71.0,), (71.0,), (71.0,), (71.0,), (71.0,), (71.0,), (71.0,), (71.0,), (71.0,), (71.0,), (71.0,), (71.0,), (71.0,), (71.0,), (71.0,), (71.0,), (71.0,), (71.0,), (71.0,), (71.0,), (71.0,), (71.0,), (71.0,), (71.0,), (71.0,), (71.0,), (71.0,), (71.0,), (71.0,), (71.0,), (71.0,), (71.0,), (71.0,), (71.0,), (71.0,), (71.0,), (71.0,), (71.0,), (71.0,), (71.0,), (71.0,), (71.0,), (71.0,), (71.0,), (71.0,), (71.0,), (71.0,), (71.0,), (71.0,), (71.0,), (71.0,), (71.0,), (71.0,), (71.0,), (71.0,), (71.0,), (71.0,), (71.0,), (71.0,), (71.0,), (71.0,), (71.0,), (71.0,), (71.0,), (71.0,), (71.0,), (71.0,), (71.0,), (71.0,), (71.0,), (71.0,), (71.0,), (71.0,), (71.0,), (71.0,), (71.0,), (71.0,), (71.0,), (71.0,), (71.0,), (71.0,), (71.0,), (71.0,), (71.0,), (71.0,), (71.0,), (71.0,), (71.0,), (71.0,), (71.0,), (71.0,), (71.0,), (71.0,), (71.0,), (71.0,), (71.0,), (71.0,), (71.0,), (71.0,), (71.0,), (71.0,), (71.0,), (71.0,), (71.0,), (71.0,), (71.0,), (71.0,), (71.0,), (71.0,), (71.0,), (71.0,), (71.0,), (71.0,), (71.0,), (71.0,), (71.0,), (71.0,), (71.0,), (71.0,), (71.0,), (71.0,), (71.0,), (71.0,), (71.0,), (71.0,), (71.0,), (71.0,), (71.0,), (71.0,), (71.0,), (71.0,), (71.0,), (71.0,), (71.0,), (71.0,), (71.0,), (71.0,), (71.0,), (71.0,), (71.0,), (71.0,), (71.0,), (71.0,), (71.0,), (71.0,), (71.0,), (71.0,), (71.0,), (71.0,), (71.0,), (71.0,), (71.0,), (71.0,), (71.0,), (71.0,), (71.0,), (71.0,), (71.0,), (71.0,), (71.0,), (71.0,), (71.0,), (71.0,), (71.0,), (71.0,), (71.0,), (71.0,), (71.0,), (71.0,), (71.0,), (71.0,), (71.0,), (71.0,), (71.0,), (71.0,), (71.0,), (71.0,), (71.0,), (71.0,), (71.0,), (71.0,), (71.0,), (71.0,), (71.0,), (71.0,), (71.0,), (71.0,), (71.0,), (71.0,), (71.0,), (71.0,), (71.0,), (71.0,), (71.0,), (71.0,), (71.0,), (71.0,), (71.0,), (71.0,), (71.0,), (71.0,), (71.0,), (71.0,), (71.0,), (71.0,), (71.0,), (71.0,), (71.0,), (71.0,), (71.0,), (71.0,), (71.0,), (71.0,), (71.0,), (71.0,), (71.0,), (71.0,), (71.0,), (71.0,), (71.0,), (71.0,), (71.0,), (71.0,), (71.0,), (71.0,), (71.0,), (71.0,), (71.0,), (71.0,), (71.0,), (71.0,), (71.0,), (71.0,), (71.0,), (71.0,), (71.0,), (71.0,), (71.0,), (71.0,), (71.0,), (71.0,), (71.0,), (71.0,), (71.0,), (71.0,), (71.0,), (71.0,), (71.0,), (71.0,), (71.0,), (71.0,), (71.0,), (71.0,), (71.0,), (71.0,), (71.0,), (71.0,), (71.0,), (71.0,), (71.0,), (71.0,), (71.0,), (71.0,), (71.0,), (71.0,), (71.0,), (71.0,), (71.0,), (71.0,), (71.0,), (71.0,), (71.0,), (71.0,), (71.0,), (71.0,), (71.0,), (71.0,), (71.0,), (71.0,), (71.0,), (71.0,), (71.0,), (71.0,), (71.0,), (71.0,), (71.0,), (71.0,), (71.0,), (71.0,), (71.0,), (71.0,), (71.0,), (71.0,), (71.0,), (71.0,), (71.0,), (71.0,), (71.0,), (71.0,), (71.0,), (71.0,), (71.0,), (71.0,), (71.0,), (71.0,), (71.0,), (71.0,), (71.0,), (71.0,), (71.0,), (71.0,), (71.0,), (71.0,), (71.0,), (71.0,), (71.0,), (71.0,), (71.0,), (71.0,), (71.0,), (71.0,), (71.0,), (71.0,), (71.0,), (71.0,), (71.0,), (71.0,), (71.0,), (71.0,), (71.0,), (71.0,), (71.0,), (71.0,), (71.0,), (71.0,), (71.0,), (71.0,), (71.0,), (71.0,), (71.0,), (71.0,), (71.0,), (71.0,), (71.0,), (71.0,), (71.0,), (71.0,), (71.0,), (71.0,), (71.0,), (71.0,), (71.0,), (71.0,), (71.0,), (71.0,), (71.0,), (71.0,), (71.0,), (71.0,), (71.0,), (71.0,), (71.0,), (71.0,), (71.0,), (71.0,), (71.0,), (71.0,), (71.0,), (71.0,), (71.0,), (71.0,), (71.0,), (71.0,), (71.0,), (71.0,), (71.0,), (71.0,), (71.0,), (71.0,), (71.0,), (71.0,), (71.0,), (71.0,), (71.0,), (71.0,), (71.0,), (71.0,), (71.0,), (71.0,), (71.0,), (71.0,), (71.0,), (71.0,), (71.0,), (71.0,), (71.0,), (71.0,), (71.0,), (71.0,), (71.0,), (71.0,), (71.0,), (71.0,), (71.0,), (71.0,), (71.0,), (71.0,), (71.0,), (71.0,), (71.0,), (71.0,), (71.0,), (71.0,), (71.0,), (71.0,), (71.0,), (71.0,), (71.0,), (71.0,), (71.0,), (71.0,), (71.0,), (71.0,), (71.0,), (71.0,), (71.0,), (71.0,), (71.0,), (71.0,), (71.0,), (71.0,), (71.0,), (71.0,), (71.0,), (71.0,), (71.0,), (71.0,), (71.0,), (71.0,), (71.0,), (71.0,), (71.0,), (71.0,), (71.0,), (71.0,), (71.0,), (71.0,), (71.0,), (71.0,), (71.0,), (71.0,), (71.0,), (71.0,), (71.0,), (71.0,), (71.0,), (71.0,), (71.0,), (71.0,), (71.0,), (71.0,), (71.0,), (71.0,), (71.0,), (71.0,), (71.0,), (71.0,), (71.0,), (71.0,), (71.0,), (71.0,), (71.0,), (71.0,), (71.0,), (71.0,), (71.0,), (71.0,), (71.0,), (71.0,), (71.0,), (71.0,), (71.0,), (71.0,), (71.0,), (71.0,), (71.0,), (71.0,), (71.0,), (71.0,), (71.0,), (71.0,), (71.0,), (71.0,), (71.0,), (71.0,), (71.0,), (71.0,), (71.0,), (71.0,), (71.0,), (71.0,), (71.0,), (71.0,), (71.0,), (71.0,), (71.0,), (71.0,), (71.0,), (71.0,), (71.0,), (71.0,), (71.0,), (71.0,), (71.0,), (71.0,), (71.0,), (71.0,), (71.0,), (71.0,), (71.0,), (71.0,), (71.0,), (71.0,), (71.0,), (71.0,), (71.0,), (71.0,), (71.0,), (71.0,), (71.0,), (71.0,), (71.0,), (71.0,), (71.0,), (71.0,), (71.0,), (71.0,), (71.0,), (71.0,), (71.0,), (71.0,), (71.0,), (71.0,), (71.0,), (71.0,), (71.0,), (71.0,), (71.0,), (71.0,), (71.0,), (71.0,), (71.0,), (71.0,), (71.0,), (71.0,), (71.0,), (71.0,), (71.0,), (71.0,), (71.0,), (71.0,), (71.0,), (71.0,), (71.0,), (71.0,), (71.0,), (71.0,), (71.0,), (71.0,), (71.0,), (71.0,), (71.0,), (71.0,), (71.0,), (71.0,), (71.0,), (71.0,), (71.0,), (71.0,), (71.0,), (71.0,), (71.0,), (71.0,), (71.0,), (71.0,), (71.0,), (71.0,), (71.0,), (71.0,), (71.0,), (71.0,), (71.0,), (71.0,), (71.0,), (71.0,), (71.0,), (71.0,), (71.0,), (71.0,), (71.0,), (71.0,), (71.0,), (71.0,), (71.0,), (71.0,), (71.0,), (71.0,), (71.0,), (71.0,), (71.0,), (71.0,), (71.0,), (71.0,), (71.0,), (71.0,), (71.0,), (71.0,), (71.0,), (71.0,), (71.0,), (71.0,), (71.0,), (71.0,), (71.0,), (71.0,), (71.0,), (71.0,), (71.0,), (71.0,), (71.0,), (71.0,), (71.0,), (71.0,), (71.0,), (71.0,), (71.0,), (71.0,), (71.0,), (71.0,), (71.0,), (71.0,), (71.0,), (71.0,), (71.0,), (71.0,), (71.0,), (71.0,), (71.0,), (71.0,), (71.0,), (71.0,), (71.0,), (71.0,), (71.0,), (71.0,), (71.0,), (71.0,), (71.0,), (71.0,), (71.0,), (71.0,), (71.0,), (71.0,), (71.0,), (71.0,), (71.0,), (71.0,), (71.0,), (71.0,), (71.0,), (71.0,), (71.0,), (71.0,), (71.0,), (71.0,), (71.0,), (71.0,), (71.0,), (71.0,), (71.0,), (71.0,), (71.0,), (71.0,), (71.0,), (71.0,), (71.0,), (71.0,), (71.0,), (71.0,), (71.0,), (71.0,), (71.0,), (71.0,), (71.0,), (71.0,), (71.0,), (71.0,), (71.0,), (71.0,), (71.0,), (71.0,), (71.0,), (71.0,), (71.0,), (71.0,), (71.0,), (71.0,), (71.0,), (71.0,), (71.0,), (71.0,), (71.0,), (71.0,), (71.0,), (71.0,), (71.0,), (71.0,), (71.0,), (71.0,), (71.0,), (71.0,), (71.0,), (71.0,), (71.0,), (71.0,), (71.0,), (71.0,), (71.0,), (71.0,), (71.0,), (71.0,), (71.0,), (71.0,), (71.0,), (71.0,), (71.0,), (71.0,), (71.0,), (71.0,), (71.0,), (71.0,), (71.0,), (71.0,), (71.0,), (71.0,), (71.0,), (71.0,), (71.0,), (71.0,), (71.0,), (71.0,), (71.0,), (71.0,), (71.0,), (71.0,), (71.0,), (71.0,), (71.0,), (71.0,), (71.0,), (71.0,), (71.0,), (71.0,), (71.0,), (71.0,), (71.0,), (71.0,), (71.0,), (71.0,), (71.0,), (71.0,), (71.0,), (71.0,), (71.0,), (71.0,), (71.0,), (71.0,), (71.0,), (71.0,), (71.0,), (71.0,), (71.0,), (71.0,), (71.0,), (71.0,), (71.0,), (71.0,), (71.0,), (71.0,), (71.0,), (71.0,), (71.0,), (71.0,), (71.0,), (71.0,), (71.0,), (71.0,), (71.0,), (71.0,), (71.0,), (71.0,), (71.0,), (71.0,), (71.0,), (71.0,), (71.0,), (71.0,), (71.0,), (72.0,), (72.0,), (72.0,), (72.0,), (72.0,), (72.0,), (72.0,), (72.0,), (72.0,), (72.0,), (72.0,), (72.0,), (72.0,), (72.0,), (72.0,), (72.0,), (72.0,), (72.0,), (72.0,), (72.0,), (72.0,), (72.0,), (72.0,), (72.0,), (72.0,), (72.0,), (72.0,), (72.0,), (72.0,), (72.0,), (72.0,), (72.0,), (72.0,), (72.0,), (72.0,), (72.0,), (72.0,), (72.0,), (72.0,), (72.0,), (72.0,), (72.0,), (72.0,), (72.0,), (72.0,), (72.0,), (72.0,), (72.0,), (72.0,), (72.0,), (72.0,), (72.0,), (72.0,), (72.0,), (72.0,), (72.0,), (72.0,), (72.0,), (72.0,), (72.0,), (72.0,), (72.0,), (72.0,), (72.0,), (72.0,), (72.0,), (72.0,), (72.0,), (72.0,), (72.0,), (72.0,), (72.0,), (72.0,), (72.0,), (72.0,), (72.0,), (72.0,), (72.0,), (72.0,), (72.0,), (72.0,), (72.0,), (72.0,), (72.0,), (72.0,), (72.0,), (72.0,), (72.0,), (72.0,), (72.0,), (72.0,), (72.0,), (72.0,), (72.0,), (72.0,), (72.0,), (72.0,), (72.0,), (72.0,), (72.0,), (72.0,), (72.0,), (72.0,), (72.0,), (72.0,), (72.0,), (72.0,), (72.0,), (72.0,), (72.0,), (72.0,), (72.0,), (72.0,), (72.0,), (72.0,), (72.0,), (72.0,), (72.0,), (72.0,), (72.0,), (72.0,), (72.0,), (72.0,), (72.0,), (72.0,), (72.0,), (72.0,), (72.0,), (72.0,), (72.0,), (72.0,), (72.0,), (72.0,), (72.0,), (72.0,), (72.0,), (72.0,), (72.0,), (72.0,), (72.0,), (72.0,), (72.0,), (72.0,), (72.0,), (72.0,), (72.0,), (72.0,), (72.0,), (72.0,), (72.0,), (72.0,), (72.0,), (72.0,), (72.0,), (72.0,), (72.0,), (72.0,), (72.0,), (72.0,), (72.0,), (72.0,), (72.0,), (72.0,), (72.0,), (72.0,), (72.0,), (72.0,), (72.0,), (72.0,), (72.0,), (72.0,), (72.0,), (72.0,), (72.0,), (72.0,), (72.0,), (72.0,), (72.0,), (72.0,), (72.0,), (72.0,), (72.0,), (72.0,), (72.0,), (72.0,), (72.0,), (72.0,), (72.0,), (72.0,), (72.0,), (72.0,), (72.0,), (72.0,), (72.0,), (72.0,), (72.0,), (72.0,), (72.0,), (72.0,), (72.0,), (72.0,), (72.0,), (72.0,), (72.0,), (72.0,), (72.0,), (72.0,), (72.0,), (72.0,), (72.0,), (72.0,), (72.0,), (72.0,), (72.0,), (72.0,), (72.0,), (72.0,), (72.0,), (72.0,), (72.0,), (72.0,), (72.0,), (72.0,), (72.0,), (72.0,), (72.0,), (72.0,), (72.0,), (72.0,), (72.0,), (72.0,), (72.0,), (72.0,), (72.0,), (72.0,), (72.0,), (72.0,), (72.0,), (72.0,), (72.0,), (72.0,), (72.0,), (72.0,), (72.0,), (72.0,), (72.0,), (72.0,), (72.0,), (72.0,), (72.0,), (72.0,), (72.0,), (72.0,), (72.0,), (72.0,), (72.0,), (72.0,), (72.0,), (72.0,), (72.0,), (72.0,), (72.0,), (72.0,), (72.0,), (72.0,), (72.0,), (72.0,), (72.0,), (72.0,), (72.0,), (72.0,), (72.0,), (72.0,), (72.0,), (72.0,), (72.0,), (72.0,), (72.0,), (72.0,), (72.0,), (72.0,), (72.0,), (72.0,), (72.0,), (72.0,), (72.0,), (72.0,), (72.0,), (72.0,), (72.0,), (72.0,), (72.0,), (72.0,), (72.0,), (72.0,), (72.0,), (72.0,), (72.0,), (72.0,), (72.0,), (72.0,), (72.0,), (72.0,), (72.0,), (72.0,), (72.0,), (72.0,), (72.0,), (72.0,), (72.0,), (72.0,), (72.0,), (72.0,), (72.0,), (72.0,), (72.0,), (72.0,), (72.0,), (72.0,), (72.0,), (72.0,), (72.0,), (72.0,), (72.0,), (72.0,), (72.0,), (72.0,), (72.0,), (72.0,), (72.0,), (72.0,), (72.0,), (72.0,), (72.0,), (72.0,), (72.0,), (72.0,), (72.0,), (72.0,), (72.0,), (72.0,), (72.0,), (72.0,), (72.0,), (72.0,), (72.0,), (72.0,), (72.0,), (72.0,), (72.0,), (72.0,), (72.0,), (72.0,), (72.0,), (72.0,), (72.0,), (72.0,), (72.0,), (72.0,), (72.0,), (72.0,), (72.0,), (72.0,), (72.0,), (72.0,), (72.0,), (72.0,), (72.0,), (72.0,), (72.0,), (72.0,), (72.0,), (72.0,), (72.0,), (72.0,), (72.0,), (72.0,), (72.0,), (72.0,), (72.0,), (72.0,), (72.0,), (72.0,), (72.0,), (72.0,), (72.0,), (72.0,), (72.0,), (72.0,), (72.0,), (72.0,), (72.0,), (72.0,), (72.0,), (72.0,), (72.0,), (72.0,), (72.0,), (72.0,), (72.0,), (72.0,), (72.0,), (72.0,), (72.0,), (72.0,), (72.0,), (72.0,), (72.0,), (72.0,), (72.0,), (72.0,), (72.0,), (72.0,), (72.0,), (72.0,), (72.0,), (72.0,), (72.0,), (72.0,), (72.0,), (72.0,), (72.0,), (72.0,), (72.0,), (72.0,), (72.0,), (72.0,), (72.0,), (72.0,), (72.0,), (72.0,), (72.0,), (72.0,), (72.0,), (72.0,), (72.0,), (72.0,), (72.0,), (72.0,), (72.0,), (72.0,), (72.0,), (72.0,), (72.0,), (72.0,), (72.0,), (72.0,), (72.0,), (72.0,), (72.0,), (72.0,), (72.0,), (72.0,), (72.0,), (72.0,), (72.0,), (72.0,), (72.0,), (72.0,), (72.0,), (72.0,), (72.0,), (72.0,), (72.0,), (72.0,), (72.0,), (72.0,), (72.0,), (72.0,), (72.0,), (72.0,), (72.0,), (72.0,), (72.0,), (72.0,), (72.0,), (72.0,), (72.0,), (72.0,), (72.0,), (72.0,), (72.0,), (72.0,), (72.0,), (72.0,), (72.0,), (72.0,), (72.0,), (72.0,), (72.0,), (72.0,), (72.0,), (72.0,), (72.0,), (72.0,), (72.0,), (72.0,), (72.0,), (72.0,), (72.0,), (72.0,), (72.0,), (72.0,), (72.0,), (72.0,), (72.0,), (72.0,), (72.0,), (72.0,), (72.0,), (72.0,), (72.0,), (72.0,), (72.0,), (72.0,), (72.0,), (72.0,), (72.0,), (72.0,), (72.0,), (72.0,), (72.0,), (72.0,), (72.0,), (72.0,), (72.0,), (72.0,), (72.0,), (72.0,), (72.0,), (72.0,), (72.0,), (72.0,), (72.0,), (72.0,), (72.0,), (72.0,), (72.0,), (72.0,), (72.0,), (72.0,), (72.0,), (72.0,), (72.0,), (72.0,), (72.0,), (72.0,), (72.0,), (72.0,), (72.0,), (72.0,), (72.0,), (72.0,), (72.0,), (72.0,), (72.0,), (72.0,), (72.0,), (72.0,), (72.0,), (72.0,), (72.0,), (72.0,), (72.0,), (72.0,), (72.0,), (72.0,), (72.0,), (72.0,), (72.0,), (72.0,), (72.0,), (72.0,), (72.0,), (72.0,), (72.0,), (72.0,), (72.0,), (72.0,), (72.0,), (72.0,), (72.0,), (72.0,), (72.0,), (72.0,), (72.0,), (72.0,), (72.0,), (72.0,), (72.0,), (72.0,), (72.0,), (72.0,), (72.0,), (72.0,), (72.0,), (72.0,), (72.0,), (72.0,), (72.0,), (72.0,), (72.0,), (72.0,), (72.0,), (72.0,), (72.0,), (72.0,), (72.0,), (72.0,), (72.0,), (72.0,), (72.0,), (72.0,), (72.0,), (72.0,), (72.0,), (72.0,), (72.0,), (72.0,), (72.0,), (72.0,), (72.0,), (72.0,), (72.0,), (72.0,), (72.0,), (72.0,), (72.0,), (72.0,), (72.0,), (72.0,), (72.0,), (72.0,), (72.0,), (72.0,), (72.0,), (72.0,), (72.0,), (72.0,), (72.0,), (72.0,), (72.0,), (72.0,), (72.0,), (72.0,), (72.0,), (72.0,), (72.0,), (72.0,), (72.0,), (72.0,), (72.0,), (72.0,), (72.0,), (72.0,), (72.0,), (72.0,), (72.0,), (72.0,), (72.0,), (72.0,), (72.0,), (72.0,), (72.0,), (72.0,), (72.0,), (72.0,), (72.0,), (72.0,), (72.0,), (72.0,), (72.0,), (72.0,), (72.0,), (72.0,), (72.0,), (72.0,), (72.0,), (72.0,), (72.0,), (72.0,), (72.0,), (72.0,), (72.0,), (72.0,), (72.0,), (72.0,), (72.0,), (72.0,), (72.0,), (72.0,), (72.0,), (72.0,), (72.0,), (72.0,), (72.0,), (72.0,), (72.0,), (72.0,), (72.0,), (72.0,), (72.0,), (72.0,), (72.0,), (72.0,), (72.0,), (72.0,), (72.0,), (72.0,), (72.0,), (72.0,), (72.0,), (72.0,), (72.0,), (72.0,), (72.0,), (72.0,), (72.0,), (72.0,), (72.0,), (72.0,), (72.0,), (72.0,), (72.0,), (72.0,), (72.0,), (72.0,), (72.0,), (72.0,), (72.0,), (72.0,), (72.0,), (72.0,), (72.0,), (72.0,), (72.0,), (72.0,), (72.0,), (72.0,), (72.0,), (72.0,), (72.0,), (72.0,), (72.0,), (72.0,), (72.0,), (72.0,), (72.0,), (72.0,), (72.0,), (72.0,), (72.0,), (72.0,), (72.0,), (72.0,), (72.0,), (72.0,), (72.0,), (72.0,), (72.0,), (72.0,), (72.0,), (72.0,), (72.0,), (72.0,), (72.0,), (72.0,), (72.0,), (72.0,), (72.0,), (72.0,), (72.0,), (72.0,), (72.0,), (72.0,), (72.0,), (72.0,), (72.0,), (72.0,), (72.0,), (72.0,), (72.0,), (72.0,), (72.0,), (72.0,), (72.0,), (72.0,), (72.0,), (72.0,), (72.0,), (72.0,), (72.0,), (72.0,), (72.0,), (72.0,), (72.0,), (72.0,), (72.0,), (72.0,), (72.0,), (72.0,), (72.0,), (72.0,), (72.0,), (72.0,), (72.0,), (72.0,), (72.0,), (72.0,), (72.0,), (72.0,), (72.0,), (72.0,), (72.0,), (72.0,), (72.0,), (72.0,), (72.0,), (72.0,), (72.0,), (72.0,), (72.0,), (72.0,), (72.0,), (72.0,), (72.0,), (72.0,), (72.0,), (72.0,), (72.0,), (72.0,), (72.0,), (72.0,), (72.0,), (72.0,), (72.0,), (72.0,), (72.0,), (72.0,), (72.0,), (72.0,), (72.0,), (72.0,), (72.0,), (72.0,), (72.0,), (72.0,), (72.0,), (72.0,), (72.0,), (72.0,), (72.0,), (72.0,), (72.0,), (72.0,), (72.0,), (72.0,), (72.0,), (72.0,), (72.0,), (72.0,), (72.0,), (72.0,), (72.0,), (72.0,), (72.0,), (72.0,), (72.0,), (72.0,), (72.0,), (72.0,), (72.0,), (72.0,), (72.0,), (72.0,), (72.0,), (72.0,), (72.0,), (72.0,), (72.0,), (72.0,), (72.0,), (72.0,), (72.0,), (72.0,), (72.0,), (72.0,), (72.0,), (72.0,), (72.0,), (72.0,), (72.0,), (72.0,), (72.0,), (72.0,), (72.0,), (72.0,), (72.0,), (72.0,), (72.0,), (72.0,), (72.0,), (72.0,), (72.0,), (72.0,), (72.0,), (72.0,), (72.0,), (72.0,), (72.0,), (72.0,), (72.0,), (72.0,), (72.0,), (72.0,), (72.0,), (72.0,), (72.0,), (72.0,), (72.0,), (72.0,), (72.0,), (72.0,), (72.0,), (72.0,), (72.0,), (72.0,), (72.0,), (72.0,), (72.0,), (72.0,), (72.0,), (72.0,), (72.0,), (72.0,), (72.0,), (72.0,), (72.0,), (72.0,), (72.0,), (72.0,), (72.0,), (72.0,), (72.0,), (72.0,), (72.0,), (72.0,), (72.0,), (72.0,), (72.0,), (72.0,), (72.0,), (72.0,), (72.0,), (72.0,), (72.0,), (72.0,), (72.0,), (72.0,), (72.0,), (72.0,), (72.0,), (72.0,), (72.0,), (72.0,), (72.0,), (72.0,), (72.0,), (72.0,), (72.0,), (72.0,), (72.0,), (72.0,), (72.0,), (72.0,), (72.0,), (72.0,), (72.0,), (72.0,), (72.0,), (72.0,), (72.0,), (72.0,), (72.0,), (72.0,), (72.0,), (72.0,), (72.0,), (72.0,), (72.0,), (72.0,), (72.0,), (72.0,), (72.0,), (72.0,), (72.0,), (72.0,), (72.0,), (72.0,), (72.0,), (72.0,), (72.0,), (72.0,), (72.0,), (72.0,), (72.0,), (72.0,), (72.0,), (72.0,), (72.0,), (72.0,), (72.0,), (72.0,), (72.0,), (72.0,), (72.0,), (72.0,), (72.0,), (72.0,), (72.0,), (72.0,), (72.0,), (72.0,), (72.0,), (72.0,), (72.0,), (72.0,), (72.0,), (72.0,), (72.0,), (72.0,), (72.0,), (72.0,), (72.0,), (72.0,), (72.0,), (72.0,), (72.0,), (72.0,), (72.0,), (72.0,), (72.0,), (72.0,), (72.0,), (72.0,), (72.0,), (72.0,), (72.0,), (72.0,), (72.0,), (72.0,), (72.0,), (72.0,), (72.0,), (72.0,), (72.0,), (72.0,), (72.0,), (72.0,), (72.0,), (72.0,), (72.0,), (72.0,), (72.0,), (72.0,), (72.0,), (72.0,), (72.0,), (72.0,), (72.0,), (72.0,), (72.0,), (72.0,), (72.0,), (72.0,), (72.0,), (72.0,), (72.0,), (72.0,), (72.0,), (72.0,), (72.0,), (72.0,), (72.0,), (72.0,), (72.0,), (72.0,), (72.0,), (72.0,), (72.0,), (72.0,), (72.0,), (72.0,), (72.0,), (72.0,), (72.0,), (72.0,), (72.0,), (72.0,), (72.0,), (72.0,), (72.0,), (72.0,), (72.0,), (72.0,), (72.0,), (72.0,), (72.0,), (72.0,), (72.0,), (72.0,), (72.0,), (72.0,), (72.0,), (72.0,), (72.0,), (72.0,), (72.0,), (72.0,), (72.0,), (72.0,), (72.0,), (72.0,), (72.0,), (72.0,), (72.0,), (72.0,), (72.0,), (72.0,), (72.0,), (72.0,), (72.0,), (72.0,), (72.0,), (72.0,), (72.0,), (72.0,), (72.0,), (72.0,), (72.0,), (72.0,), (72.0,), (72.0,), (72.0,), (72.0,), (72.0,), (72.0,), (72.0,), (72.0,), (72.0,), (72.0,), (72.0,), (72.0,), (72.0,), (72.0,), (72.0,), (72.0,), (72.0,), (72.0,), (72.0,), (72.0,), (72.0,), (72.0,), (72.0,), (72.0,), (72.0,), (72.0,), (72.0,), (72.0,), (72.0,), (72.0,), (72.0,), (72.0,), (72.0,), (72.0,), (72.0,), (72.0,), (72.0,), (72.0,), (72.0,), (72.0,), (72.0,), (72.0,), (72.0,), (72.0,), (72.0,), (72.0,), (72.0,), (72.0,), (72.0,), (72.0,), (72.0,), (72.0,), (72.0,), (72.0,), (72.0,), (72.0,), (72.0,), (72.0,), (72.0,), (72.0,), (72.0,), (72.0,), (72.0,), (72.0,), (72.0,), (72.0,), (72.0,), (72.0,), (72.0,), (72.0,), (72.0,), (72.0,), (72.0,), (72.0,), (72.0,), (72.0,), (72.0,), (72.0,), (72.0,), (72.0,), (72.0,), (72.0,), (72.0,), (72.0,), (72.0,), (72.0,), (72.0,), (72.0,), (72.0,), (72.0,), (72.0,), (72.0,), (72.0,), (72.0,), (72.0,), (72.0,), (72.0,), (72.0,), (72.0,), (72.0,), (72.0,), (72.0,), (72.0,), (72.0,), (72.0,), (72.0,), (72.0,), (72.0,), (72.0,), (72.0,), (72.0,), (72.0,), (72.0,), (72.0,), (72.0,), (72.0,), (72.0,), (72.0,), (72.0,), (72.0,), (72.0,), (72.0,), (72.0,), (72.0,), (72.0,), (72.0,), (72.0,), (72.0,), (72.0,), (72.0,), (72.0,), (72.0,), (72.0,), (72.0,), (72.0,), (72.0,), (72.0,), (72.0,), (72.0,), (72.0,), (72.0,), (72.0,), (72.0,), (72.0,), (72.0,), (72.0,), (72.0,), (72.0,), (72.0,), (72.0,), (72.0,), (72.0,), (72.0,), (72.0,), (72.0,), (72.0,), (72.0,), (72.0,), (72.0,), (72.0,), (72.0,), (72.0,), (72.0,), (72.0,), (72.0,), (72.0,), (72.0,), (72.0,), (72.0,), (72.0,), (72.0,), (72.0,), (72.0,), (72.0,), (72.0,), (72.0,), (72.0,), (72.0,), (72.0,), (72.0,), (72.0,), (72.0,), (72.0,), (72.0,), (72.0,), (72.0,), (72.0,), (72.0,), (72.0,), (72.0,), (72.0,), (72.0,), (72.0,), (72.0,), (72.0,), (72.0,), (72.0,), (72.0,), (72.0,), (72.0,), (72.0,), (72.0,), (72.0,), (72.0,), (72.0,), (72.0,), (72.0,), (72.0,), (72.0,), (72.0,), (72.0,), (72.0,), (72.0,), (72.0,), (72.0,), (72.0,), (72.0,), (72.0,), (72.0,), (72.0,), (72.0,), (72.0,), (72.0,), (72.0,), (72.0,), (72.0,), (72.0,), (72.0,), (72.0,), (72.0,), (72.0,), (72.0,), (72.0,), (72.0,), (72.0,), (72.0,), (72.0,), (72.0,), (72.0,), (72.0,), (72.0,), (72.0,), (72.0,), (72.0,), (72.0,), (72.0,), (72.0,), (72.0,), (72.0,), (72.0,), (72.0,), (72.0,), (72.0,), (72.0,), (72.0,), (72.0,), (72.0,), (72.0,), (72.0,), (72.0,), (72.0,), (72.0,), (72.0,), (72.0,), (72.0,), (72.0,), (72.0,), (72.0,), (72.0,), (72.0,), (72.0,), (72.0,), (72.0,), (72.0,), (72.0,), (72.0,), (72.0,), (72.0,), (72.0,), (72.0,), (72.0,), (72.0,), (72.0,), (72.0,), (72.0,), (72.0,), (72.0,), (72.0,), (72.0,), (72.0,), (72.0,), (72.0,), (72.0,), (72.0,), (72.0,), (72.0,), (72.0,), (72.0,), (72.0,), (72.0,), (72.0,), (72.0,), (72.0,), (72.0,), (72.0,), (72.0,), (72.0,), (72.0,), (72.0,), (72.0,), (72.0,), (72.0,), (72.0,), (72.0,), (72.0,), (72.0,), (72.0,), (72.0,), (72.0,), (72.0,), (72.0,), (72.0,), (72.0,), (72.0,), (72.0,), (72.0,), (72.0,), (72.0,), (72.0,), (72.0,), (72.0,), (72.0,), (72.0,), (72.0,), (72.0,), (72.0,), (72.0,), (72.0,), (72.0,), (72.0,), (72.0,), (72.0,), (72.0,), (72.0,), (72.0,), (72.0,), (72.0,), (72.0,), (72.0,), (72.0,), (72.0,), (72.0,), (72.0,), (72.0,), (72.0,), (72.0,), (72.0,), (72.0,), (72.0,), (72.0,), (72.0,), (72.0,), (72.0,), (72.0,), (72.0,), (72.0,), (72.0,), (72.0,), (72.0,), (72.0,), (72.0,), (72.0,), (72.0,), (72.0,), (72.0,), (72.0,), (72.0,), (72.0,), (72.0,), (72.0,), (72.0,), (72.0,), (72.0,), (72.0,), (72.0,), (72.0,), (72.0,), (72.0,), (72.0,), (72.0,), (72.0,), (72.0,), (72.0,), (72.0,), (72.0,), (72.0,), (72.0,), (72.0,), (72.0,), (72.0,), (72.0,), (72.0,), (72.0,), (72.0,), (72.0,), (72.0,), (72.0,), (72.0,), (72.0,), (72.0,), (72.0,), (72.0,), (72.0,), (72.0,), (72.0,), (72.0,), (72.0,), (72.0,), (72.0,), (72.0,), (72.0,), (72.0,), (72.0,), (72.0,), (72.0,), (72.0,), (72.0,), (72.0,), (72.0,), (72.0,), (72.0,), (72.0,), (72.0,), (72.0,), (72.0,), (72.0,), (72.0,), (72.0,), (72.0,), (72.0,), (72.0,), (72.0,), (72.0,), (72.0,), (72.0,), (72.0,), (72.0,), (72.0,), (72.0,), (72.0,), (72.0,), (72.0,), (72.0,), (72.0,), (72.0,), (72.0,), (72.0,), (72.0,), (72.0,), (72.0,), (72.0,), (72.0,), (72.0,), (72.0,), (72.0,), (73.0,), (73.0,), (73.0,), (73.0,), (73.0,), (73.0,), (73.0,), (73.0,), (73.0,), (73.0,), (73.0,), (73.0,), (73.0,), (73.0,), (73.0,), (73.0,), (73.0,), (73.0,), (73.0,), (73.0,), (73.0,), (73.0,), (73.0,), (73.0,), (73.0,), (73.0,), (73.0,), (73.0,), (73.0,), (73.0,), (73.0,), (73.0,), (73.0,), (73.0,), (73.0,), (73.0,), (73.0,), (73.0,), (73.0,), (73.0,), (73.0,), (73.0,), (73.0,), (73.0,), (73.0,), (73.0,), (73.0,), (73.0,), (73.0,), (73.0,), (73.0,), (73.0,), (73.0,), (73.0,), (73.0,), (73.0,), (73.0,), (73.0,), (73.0,), (73.0,), (73.0,), (73.0,), (73.0,), (73.0,), (73.0,), (73.0,), (73.0,), (73.0,), (73.0,), (73.0,), (73.0,), (73.0,), (73.0,), (73.0,), (73.0,), (73.0,), (73.0,), (73.0,), (73.0,), (73.0,), (73.0,), (73.0,), (73.0,), (73.0,), (73.0,), (73.0,), (73.0,), (73.0,), (73.0,), (73.0,), (73.0,), (73.0,), (73.0,), (73.0,), (73.0,), (73.0,), (73.0,), (73.0,), (73.0,), (73.0,), (73.0,), (73.0,), (73.0,), (73.0,), (73.0,), (73.0,), (73.0,), (73.0,), (73.0,), (73.0,), (73.0,), (73.0,), (73.0,), (73.0,), (73.0,), (73.0,), (73.0,), (73.0,), (73.0,), (73.0,), (73.0,), (73.0,), (73.0,), (73.0,), (73.0,), (73.0,), (73.0,), (73.0,), (73.0,), (73.0,), (73.0,), (73.0,), (73.0,), (73.0,), (73.0,), (73.0,), (73.0,), (73.0,), (73.0,), (73.0,), (73.0,), (73.0,), (73.0,), (73.0,), (73.0,), (73.0,), (73.0,), (73.0,), (73.0,), (73.0,), (73.0,), (73.0,), (73.0,), (73.0,), (73.0,), (73.0,), (73.0,), (73.0,), (73.0,), (73.0,), (73.0,), (73.0,), (73.0,), (73.0,), (73.0,), (73.0,), (73.0,), (73.0,), (73.0,), (73.0,), (73.0,), (73.0,), (73.0,), (73.0,), (73.0,), (73.0,), (73.0,), (73.0,), (73.0,), (73.0,), (73.0,), (73.0,), (73.0,), (73.0,), (73.0,), (73.0,), (73.0,), (73.0,), (73.0,), (73.0,), (73.0,), (73.0,), (73.0,), (73.0,), (73.0,), (73.0,), (73.0,), (73.0,), (73.0,), (73.0,), (73.0,), (73.0,), (73.0,), (73.0,), (73.0,), (73.0,), (73.0,), (73.0,), (73.0,), (73.0,), (73.0,), (73.0,), (73.0,), (73.0,), (73.0,), (73.0,), (73.0,), (73.0,), (73.0,), (73.0,), (73.0,), (73.0,), (73.0,), (73.0,), (73.0,), (73.0,), (73.0,), (73.0,), (73.0,), (73.0,), (73.0,), (73.0,), (73.0,), (73.0,), (73.0,), (73.0,), (73.0,), (73.0,), (73.0,), (73.0,), (73.0,), (73.0,), (73.0,), (73.0,), (73.0,), (73.0,), (73.0,), (73.0,), (73.0,), (73.0,), (73.0,), (73.0,), (73.0,), (73.0,), (73.0,), (73.0,), (73.0,), (73.0,), (73.0,), (73.0,), (73.0,), (73.0,), (73.0,), (73.0,), (73.0,), (73.0,), (73.0,), (73.0,), (73.0,), (73.0,), (73.0,), (73.0,), (73.0,), (73.0,), (73.0,), (73.0,), (73.0,), (73.0,), (73.0,), (73.0,), (73.0,), (73.0,), (73.0,), (73.0,), (73.0,), (73.0,), (73.0,), (73.0,), (73.0,), (73.0,), (73.0,), (73.0,), (73.0,), (73.0,), (73.0,), (73.0,), (73.0,), (73.0,), (73.0,), (73.0,), (73.0,), (73.0,), (73.0,), (73.0,), (73.0,), (73.0,), (73.0,), (73.0,), (73.0,), (73.0,), (73.0,), (73.0,), (73.0,), (73.0,), (73.0,), (73.0,), (73.0,), (73.0,), (73.0,), (73.0,), (73.0,), (73.0,), (73.0,), (73.0,), (73.0,), (73.0,), (73.0,), (73.0,), (73.0,), (73.0,), (73.0,), (73.0,), (73.0,), (73.0,), (73.0,), (73.0,), (73.0,), (73.0,), (73.0,), (73.0,), (73.0,), (73.0,), (73.0,), (73.0,), (73.0,), (73.0,), (73.0,), (73.0,), (73.0,), (73.0,), (73.0,), (73.0,), (73.0,), (73.0,), (73.0,), (73.0,), (73.0,), (73.0,), (73.0,), (73.0,), (73.0,), (73.0,), (73.0,), (73.0,), (73.0,), (73.0,), (73.0,), (73.0,), (73.0,), (73.0,), (73.0,), (73.0,), (73.0,), (73.0,), (73.0,), (73.0,), (73.0,), (73.0,), (73.0,), (73.0,), (73.0,), (73.0,), (73.0,), (73.0,), (73.0,), (73.0,), (73.0,), (73.0,), (73.0,), (73.0,), (73.0,), (73.0,), (73.0,), (73.0,), (73.0,), (73.0,), (73.0,), (73.0,), (73.0,), (73.0,), (73.0,), (73.0,), (73.0,), (73.0,), (73.0,), (73.0,), (73.0,), (73.0,), (73.0,), (73.0,), (73.0,), (73.0,), (73.0,), (73.0,), (73.0,), (73.0,), (73.0,), (73.0,), (73.0,), (73.0,), (73.0,), (73.0,), (73.0,), (73.0,), (73.0,), (73.0,), (73.0,), (73.0,), (73.0,), (73.0,), (73.0,), (73.0,), (73.0,), (73.0,), (73.0,), (73.0,), (73.0,), (73.0,), (73.0,), (73.0,), (73.0,), (73.0,), (73.0,), (73.0,), (73.0,), (73.0,), (73.0,), (73.0,), (73.0,), (73.0,), (73.0,), (73.0,), (73.0,), (73.0,), (73.0,), (73.0,), (73.0,), (73.0,), (73.0,), (73.0,), (73.0,), (73.0,), (73.0,), (73.0,), (73.0,), (73.0,), (73.0,), (73.0,), (73.0,), (73.0,), (73.0,), (73.0,), (73.0,), (73.0,), (73.0,), (73.0,), (73.0,), (73.0,), (73.0,), (73.0,), (73.0,), (73.0,), (73.0,), (73.0,), (73.0,), (73.0,), (73.0,), (73.0,), (73.0,), (73.0,), (73.0,), (73.0,), (73.0,), (73.0,), (73.0,), (73.0,), (73.0,), (73.0,), (73.0,), (73.0,), (73.0,), (73.0,), (73.0,), (73.0,), (73.0,), (73.0,), (73.0,), (73.0,), (73.0,), (73.0,), (73.0,), (73.0,), (73.0,), (73.0,), (73.0,), (73.0,), (73.0,), (73.0,), (73.0,), (73.0,), (73.0,), (73.0,), (73.0,), (73.0,), (73.0,), (73.0,), (73.0,), (73.0,), (73.0,), (73.0,), (73.0,), (73.0,), (73.0,), (73.0,), (73.0,), (73.0,), (73.0,), (73.0,), (73.0,), (73.0,), (73.0,), (73.0,), (73.0,), (73.0,), (73.0,), (73.0,), (73.0,), (73.0,), (73.0,), (73.0,), (73.0,), (73.0,), (73.0,), (73.0,), (73.0,), (73.0,), (73.0,), (73.0,), (73.0,), (73.0,), (73.0,), (73.0,), (73.0,), (73.0,), (73.0,), (73.0,), (73.0,), (73.0,), (73.0,), (73.0,), (73.0,), (73.0,), (73.0,), (73.0,), (73.0,), (73.0,), (73.0,), (73.0,), (73.0,), (73.0,), (73.0,), (73.0,), (73.0,), (73.0,), (73.0,), (73.0,), (73.0,), (73.0,), (73.0,), (73.0,), (73.0,), (73.0,), (73.0,), (73.0,), (73.0,), (73.0,), (73.0,), (73.0,), (73.0,), (73.0,), (73.0,), (73.0,), (73.0,), (73.0,), (73.0,), (73.0,), (73.0,), (73.0,), (73.0,), (73.0,), (73.0,), (73.0,), (73.0,), (73.0,), (73.0,), (73.0,), (73.0,), (73.0,), (73.0,), (73.0,), (73.0,), (73.0,), (73.0,), (73.0,), (73.0,), (73.0,), (73.0,), (73.0,), (73.0,), (73.0,), (73.0,), (73.0,), (73.0,), (73.0,), (73.0,), (73.0,), (73.0,), (73.0,), (73.0,), (73.0,), (73.0,), (73.0,), (73.0,), (73.0,), (73.0,), (73.0,), (73.0,), (73.0,), (73.0,), (73.0,), (73.0,), (73.0,), (73.0,), (73.0,), (73.0,), (73.0,), (73.0,), (73.0,), (73.0,), (73.0,), (73.0,), (73.0,), (73.0,), (73.0,), (73.0,), (73.0,), (73.0,), (73.0,), (73.0,), (73.0,), (73.0,), (73.0,), (73.0,), (73.0,), (73.0,), (73.0,), (73.0,), (73.0,), (73.0,), (73.0,), (73.0,), (73.0,), (73.0,), (73.0,), (73.0,), (73.0,), (73.0,), (73.0,), (73.0,), (73.0,), (73.0,), (73.0,), (73.0,), (73.0,), (73.0,), (73.0,), (73.0,), (73.0,), (73.0,), (73.0,), (73.0,), (73.0,), (73.0,), (73.0,), (73.0,), (73.0,), (73.0,), (73.0,), (73.0,), (73.0,), (73.0,), (73.0,), (73.0,), (73.0,), (73.0,), (73.0,), (73.0,), (73.0,), (73.0,), (73.0,), (73.0,), (73.0,), (73.0,), (73.0,), (73.0,), (73.0,), (73.0,), (73.0,), (73.0,), (73.0,), (73.0,), (73.0,), (73.0,), (73.0,), (73.0,), (73.0,), (73.0,), (73.0,), (73.0,), (73.0,), (73.0,), (73.0,), (73.0,), (73.0,), (73.0,), (73.0,), (73.0,), (73.0,), (73.0,), (73.0,), (73.0,), (73.0,), (73.0,), (73.0,), (73.0,), (73.0,), (73.0,), (73.0,), (73.0,), (73.0,), (73.0,), (73.0,), (73.0,), (73.0,), (73.0,), (73.0,), (73.0,), (73.0,), (73.0,), (73.0,), (73.0,), (73.0,), (73.0,), (73.0,), (73.0,), (73.0,), (73.0,), (73.0,), (73.0,), (73.0,), (73.0,), (73.0,), (73.0,), (73.0,), (73.0,), (73.0,), (73.0,), (73.0,), (73.0,), (73.0,), (73.0,), (73.0,), (73.0,), (73.0,), (73.0,), (73.0,), (73.0,), (73.0,), (73.0,), (73.0,), (73.0,), (73.0,), (73.0,), (73.0,), (73.0,), (73.0,), (73.0,), (73.0,), (73.0,), (73.0,), (73.0,), (73.0,), (73.0,), (73.0,), (73.0,), (73.0,), (73.0,), (73.0,), (73.0,), (73.0,), (73.0,), (73.0,), (73.0,), (73.0,), (73.0,), (73.0,), (73.0,), (73.0,), (73.0,), (73.0,), (73.0,), (73.0,), (73.0,), (73.0,), (73.0,), (73.0,), (73.0,), (73.0,), (73.0,), (73.0,), (73.0,), (73.0,), (73.0,), (73.0,), (73.0,), (73.0,), (73.0,), (73.0,), (73.0,), (73.0,), (73.0,), (73.0,), (73.0,), (73.0,), (73.0,), (73.0,), (73.0,), (73.0,), (73.0,), (73.0,), (73.0,), (73.0,), (73.0,), (73.0,), (73.0,), (73.0,), (73.0,), (73.0,), (73.0,), (73.0,), (73.0,), (73.0,), (73.0,), (73.0,), (73.0,), (73.0,), (73.0,), (73.0,), (73.0,), (73.0,), (73.0,), (73.0,), (73.0,), (73.0,), (73.0,), (73.0,), (73.0,), (73.0,), (73.0,), (73.0,), (73.0,), (73.0,), (73.0,), (73.0,), (73.0,), (73.0,), (73.0,), (73.0,), (73.0,), (73.0,), (73.0,), (73.0,), (73.0,), (73.0,), (73.0,), (73.0,), (73.0,), (73.0,), (73.0,), (73.0,), (73.0,), (73.0,), (73.0,), (73.0,), (73.0,), (73.0,), (73.0,), (73.0,), (73.0,), (73.0,), (73.0,), (73.0,), (73.0,), (73.0,), (73.0,), (73.0,), (73.0,), (73.0,), (73.0,), (73.0,), (73.0,), (73.0,), (73.0,), (73.0,), (73.0,), (73.0,), (73.0,), (73.0,), (73.0,), (73.0,), (73.0,), (73.0,), (73.0,), (73.0,), (73.0,), (73.0,), (73.0,), (73.0,), (73.0,), (73.0,), (73.0,), (73.0,), (73.0,), (73.0,), (73.0,), (73.0,), (73.0,), (73.0,), (73.0,), (73.0,), (73.0,), (73.0,), (73.0,), (73.0,), (73.0,), (73.0,), (73.0,), (73.0,), (73.0,), (73.0,), (73.0,), (73.0,), (73.0,), (73.0,), (73.0,), (73.0,), (73.0,), (73.0,), (73.0,), (73.0,), (73.0,), (73.0,), (73.0,), (73.0,), (73.0,), (73.0,), (73.0,), (73.0,), (73.0,), (73.0,), (73.0,), (73.0,), (73.0,), (73.0,), (73.0,), (73.0,), (73.0,), (73.0,), (73.0,), (73.0,), (73.0,), (73.0,), (73.0,), (73.0,), (73.0,), (73.0,), (73.0,), (73.0,), (73.0,), (73.0,), (73.0,), (73.0,), (73.0,), (73.0,), (73.0,), (73.0,), (73.0,), (73.0,), (73.0,), (73.0,), (73.0,), (73.0,), (73.0,), (73.0,), (73.0,), (73.0,), (73.0,), (73.0,), (73.0,), (73.0,), (73.0,), (73.0,), (73.0,), (73.0,), (73.0,), (73.0,), (73.0,), (73.0,), (73.0,), (73.0,), (73.0,), (73.0,), (73.0,), (73.0,), (73.0,), (73.0,), (73.0,), (73.0,), (73.0,), (73.0,), (73.0,), (73.0,), (73.0,), (73.0,), (73.0,), (73.0,), (73.0,), (73.0,), (73.0,), (73.0,), (73.0,), (73.0,), (73.0,), (73.0,), (73.0,), (73.0,), (73.0,), (73.0,), (73.0,), (73.0,), (73.0,), (73.0,), (73.0,), (73.0,), (73.0,), (73.0,), (73.0,), (73.0,), (73.0,), (73.0,), (73.0,), (73.0,), (73.0,), (73.0,), (73.0,), (73.0,), (73.0,), (73.0,), (73.0,), (73.0,), (73.0,), (73.0,), (73.0,), (73.0,), (73.0,), (73.0,), (73.0,), (73.0,), (73.0,), (73.0,), (73.0,), (73.0,), (73.0,), (73.0,), (73.0,), (73.0,), (73.0,), (73.0,), (73.0,), (73.0,), (73.0,), (73.0,), (73.0,), (73.0,), (73.0,), (73.0,), (73.0,), (73.0,), (73.0,), (73.0,), (73.0,), (73.0,), (73.0,), (73.0,), (73.0,), (73.0,), (73.0,), (73.0,), (73.0,), (73.0,), (73.0,), (73.0,), (73.0,), (73.0,), (73.0,), (73.0,), (73.0,), (73.0,), (73.0,), (73.0,), (73.0,), (73.0,), (73.0,), (73.0,), (73.0,), (73.0,), (73.0,), (73.0,), (73.0,), (73.0,), (73.0,), (73.0,), (73.0,), (73.0,), (73.0,), (73.0,), (73.0,), (73.0,), (73.0,), (73.0,), (73.0,), (73.0,), (73.0,), (73.0,), (73.0,), (73.0,), (73.0,), (73.0,), (73.0,), (73.0,), (73.0,), (73.0,), (73.0,), (73.0,), (73.0,), (73.0,), (73.0,), (73.0,), (73.0,), (73.0,), (73.0,), (73.0,), (73.0,), (73.0,), (73.0,), (73.0,), (73.0,), (73.0,), (73.0,), (73.0,), (73.0,), (73.0,), (73.0,), (73.0,), (73.0,), (73.0,), (73.0,), (73.0,), (73.0,), (73.0,), (73.0,), (73.0,), (73.0,), (73.0,), (73.0,), (73.0,), (73.0,), (73.0,), (73.0,), (73.0,), (73.0,), (73.0,), (73.0,), (73.0,), (73.0,), (73.0,), (73.0,), (73.0,), (73.0,), (73.0,), (73.0,), (73.0,), (73.0,), (73.0,), (73.0,), (73.0,), (73.0,), (73.0,), (73.0,), (73.0,), (73.0,), (73.0,), (73.0,), (73.0,), (73.0,), (73.0,), (73.0,), (73.0,), (73.0,), (73.0,), (73.0,), (73.0,), (73.0,), (73.0,), (73.0,), (73.0,), (73.0,), (73.0,), (73.0,), (73.0,), (73.0,), (73.0,), (73.0,), (73.0,), (73.0,), (73.0,), (73.0,), (73.0,), (73.0,), (73.0,), (73.0,), (73.0,), (73.0,), (73.0,), (73.0,), (73.0,), (73.0,), (73.0,), (73.0,), (73.0,), (73.0,), (73.0,), (73.0,), (73.0,), (73.0,), (73.0,), (73.0,), (73.0,), (73.0,), (73.0,), (73.0,), (73.0,), (73.0,), (73.0,), (73.0,), (73.0,), (73.0,), (73.0,), (73.0,), (73.0,), (73.0,), (73.0,), (73.0,), (73.0,), (73.0,), (73.0,), (73.0,), (73.0,), (73.0,), (73.0,), (73.0,), (73.0,), (73.0,), (73.0,), (73.0,), (73.0,), (73.0,), (73.0,), (73.0,), (73.0,), (73.0,), (73.0,), (73.0,), (73.0,), (73.0,), (73.0,), (73.0,), (73.0,), (73.0,), (73.0,), (73.0,), (73.0,), (73.0,), (73.0,), (73.0,), (73.0,), (73.0,), (73.0,), (73.0,), (73.0,), (73.0,), (73.0,), (73.0,), (73.0,), (73.0,), (73.0,), (73.0,), (73.0,), (73.0,), (73.0,), (73.0,), (73.0,), (73.0,), (73.0,), (73.0,), (73.0,), (73.0,), (73.0,), (73.0,), (73.0,), (73.0,), (73.0,), (73.0,), (73.0,), (73.0,), (73.0,), (73.0,), (73.0,), (73.0,), (73.0,), (73.0,), (73.0,), (73.0,), (73.0,), (73.0,), (73.0,), (73.0,), (73.0,), (73.0,), (73.0,), (73.0,), (73.0,), (73.0,), (73.0,), (73.0,), (73.0,), (73.0,), (73.0,), (73.0,), (73.0,), (73.0,), (73.0,), (73.0,), (73.0,), (73.0,), (73.0,), (73.0,), (73.0,), (73.0,), (73.0,), (73.0,), (73.0,), (73.0,), (73.0,), (73.0,), (73.0,), (73.0,), (73.0,), (73.0,), (73.0,), (73.0,), (73.0,), (73.0,), (73.0,), (73.0,), (73.0,), (73.0,), (73.0,), (73.0,), (73.0,), (73.0,), (73.0,), (73.0,), (73.0,), (73.0,), (73.0,), (73.0,), (73.0,), (73.0,), (73.0,), (73.0,), (73.0,), (73.0,), (73.0,), (73.0,), (73.0,), (73.0,), (73.0,), (73.0,), (73.0,), (73.0,), (73.0,), (73.0,), (73.0,), (73.0,), (73.0,), (73.0,), (73.0,), (73.0,), (73.0,), (73.0,), (73.0,), (73.0,), (73.0,), (73.0,), (73.0,), (73.0,), (73.0,), (73.0,), (73.0,), (73.0,), (73.0,), (73.0,), (73.0,), (73.0,), (73.0,), (73.0,), (73.0,), (73.0,), (73.0,), (73.0,), (73.0,), (73.0,), (73.0,), (73.0,), (73.0,), (73.0,), (73.0,), (73.0,), (73.0,), (73.0,), (73.0,), (73.0,), (73.0,), (73.0,), (73.0,), (73.0,), (73.0,), (73.0,), (73.0,), (73.0,), (73.0,), (73.0,), (73.0,), (73.0,), (73.0,), (73.0,), (73.0,), (73.0,), (73.0,), (73.0,), (73.0,), (73.0,), (73.0,), (73.0,), (73.0,), (73.0,), (73.0,), (73.0,), (73.0,), (73.0,), (73.0,), (73.0,), (73.0,), (73.0,), (73.0,), (73.0,), (73.0,), (73.0,), (73.0,), (73.0,), (73.0,), (73.0,), (73.0,), (73.0,), (73.0,), (73.0,), (73.0,), (73.0,), (73.0,), (73.0,), (73.0,), (73.0,), (73.0,), (73.0,), (73.0,), (73.0,), (73.0,), (73.0,), (73.0,), (73.0,), (73.0,), (73.0,), (73.0,), (73.0,), (73.0,), (73.0,), (73.0,), (73.0,), (73.0,), (73.0,), (73.0,), (73.0,), (73.0,), (73.0,), (73.0,), (73.0,), (73.0,), (73.0,), (73.0,), (73.0,), (73.0,), (73.0,), (73.0,), (73.0,), (73.0,), (73.0,), (73.0,), (73.0,), (73.0,), (73.0,), (73.0,), (73.0,), (73.0,), (73.0,), (73.0,), (73.0,), (73.0,), (73.0,), (73.0,), (73.0,), (73.0,), (73.0,), (73.0,), (73.0,), (73.0,), (73.0,), (73.0,), (73.0,), (73.0,), (73.0,), (73.0,), (73.0,), (73.0,), (73.0,), (73.0,), (73.0,), (73.0,), (73.0,), (73.0,), (73.0,), (73.0,), (73.0,), (73.0,), (73.0,), (73.0,), (73.0,), (73.0,), (73.0,), (73.0,), (73.0,), (73.0,), (73.0,), (73.0,), (73.0,), (73.0,), (73.0,), (73.0,), (73.0,), (73.0,), (73.0,), (73.0,), (73.0,), (73.0,), (73.0,), (73.0,), (73.0,), (73.0,), (73.0,), (73.0,), (73.0,), (73.0,), (73.0,), (73.0,), (73.0,), (73.0,), (73.0,), (73.0,), (73.0,), (73.0,), (73.0,), (73.0,), (73.0,), (73.0,), (73.0,), (73.0,), (73.0,), (73.0,), (73.0,), (73.0,), (73.0,), (73.0,), (73.0,), (73.0,), (73.0,), (73.0,), (73.0,), (73.0,), (73.0,), (73.0,), (73.0,), (73.0,), (73.0,), (73.0,), (74.0,), (74.0,), (74.0,), (74.0,), (74.0,), (74.0,), (74.0,), (74.0,), (74.0,), (74.0,), (74.0,), (74.0,), (74.0,), (74.0,), (74.0,), (74.0,), (74.0,), (74.0,), (74.0,), (74.0,), (74.0,), (74.0,), (74.0,), (74.0,), (74.0,), (74.0,), (74.0,), (74.0,), (74.0,), (74.0,), (74.0,), (74.0,), (74.0,), (74.0,), (74.0,), (74.0,), (74.0,), (74.0,), (74.0,), (74.0,), (74.0,), (74.0,), (74.0,), (74.0,), (74.0,), (74.0,), (74.0,), (74.0,), (74.0,), (74.0,), (74.0,), (74.0,), (74.0,), (74.0,), (74.0,), (74.0,), (74.0,), (74.0,), (74.0,), (74.0,), (74.0,), (74.0,), (74.0,), (74.0,), (74.0,), (74.0,), (74.0,), (74.0,), (74.0,), (74.0,), (74.0,), (74.0,), (74.0,), (74.0,), (74.0,), (74.0,), (74.0,), (74.0,), (74.0,), (74.0,), (74.0,), (74.0,), (74.0,), (74.0,), (74.0,), (74.0,), (74.0,), (74.0,), (74.0,), (74.0,), (74.0,), (74.0,), (74.0,), (74.0,), (74.0,), (74.0,), (74.0,), (74.0,), (74.0,), (74.0,), (74.0,), (74.0,), (74.0,), (74.0,), (74.0,), (74.0,), (74.0,), (74.0,), (74.0,), (74.0,), (74.0,), (74.0,), (74.0,), (74.0,), (74.0,), (74.0,), (74.0,), (74.0,), (74.0,), (74.0,), (74.0,), (74.0,), (74.0,), (74.0,), (74.0,), (74.0,), (74.0,), (74.0,), (74.0,), (74.0,), (74.0,), (74.0,), (74.0,), (74.0,), (74.0,), (74.0,), (74.0,), (74.0,), (74.0,), (74.0,), (74.0,), (74.0,), (74.0,), (74.0,), (74.0,), (74.0,), (74.0,), (74.0,), (74.0,), (74.0,), (74.0,), (74.0,), (74.0,), (74.0,), (74.0,), (74.0,), (74.0,), (74.0,), (74.0,), (74.0,), (74.0,), (74.0,), (74.0,), (74.0,), (74.0,), (74.0,), (74.0,), (74.0,), (74.0,), (74.0,), (74.0,), (74.0,), (74.0,), (74.0,), (74.0,), (74.0,), (74.0,), (74.0,), (74.0,), (74.0,), (74.0,), (74.0,), (74.0,), (74.0,), (74.0,), (74.0,), (74.0,), (74.0,), (74.0,), (74.0,), (74.0,), (74.0,), (74.0,), (74.0,), (74.0,), (74.0,), (74.0,), (74.0,), (74.0,), (74.0,), (74.0,), (74.0,), (74.0,), (74.0,), (74.0,), (74.0,), (74.0,), (74.0,), (74.0,), (74.0,), (74.0,), (74.0,), (74.0,), (74.0,), (74.0,), (74.0,), (74.0,), (74.0,), (74.0,), (74.0,), (74.0,), (74.0,), (74.0,), (74.0,), (74.0,), (74.0,), (74.0,), (74.0,), (74.0,), (74.0,), (74.0,), (74.0,), (74.0,), (74.0,), (74.0,), (74.0,), (74.0,), (74.0,), (74.0,), (74.0,), (74.0,), (74.0,), (74.0,), (74.0,), (74.0,), (74.0,), (74.0,), (74.0,), (74.0,), (74.0,), (74.0,), (74.0,), (74.0,), (74.0,), (74.0,), (74.0,), (74.0,), (74.0,), (74.0,), (74.0,), (74.0,), (74.0,), (74.0,), (74.0,), (74.0,), (74.0,), (74.0,), (74.0,), (74.0,), (74.0,), (74.0,), (74.0,), (74.0,), (74.0,), (74.0,), (74.0,), (74.0,), (74.0,), (74.0,), (74.0,), (74.0,), (74.0,), (74.0,), (74.0,), (74.0,), (74.0,), (74.0,), (74.0,), (74.0,), (74.0,), (74.0,), (74.0,), (74.0,), (74.0,), (74.0,), (74.0,), (74.0,), (74.0,), (74.0,), (74.0,), (74.0,), (74.0,), (74.0,), (74.0,), (74.0,), (74.0,), (74.0,), (74.0,), (74.0,), (74.0,), (74.0,), (74.0,), (74.0,), (74.0,), (74.0,), (74.0,), (74.0,), (74.0,), (74.0,), (74.0,), (74.0,), (74.0,), (74.0,), (74.0,), (74.0,), (74.0,), (74.0,), (74.0,), (74.0,), (74.0,), (74.0,), (74.0,), (74.0,), (74.0,), (74.0,), (74.0,), (74.0,), (74.0,), (74.0,), (74.0,), (74.0,), (74.0,), (74.0,), (74.0,), (74.0,), (74.0,), (74.0,), (74.0,), (74.0,), (74.0,), (74.0,), (74.0,), (74.0,), (74.0,), (74.0,), (74.0,), (74.0,), (74.0,), (74.0,), (74.0,), (74.0,), (74.0,), (74.0,), (74.0,), (74.0,), (74.0,), (74.0,), (74.0,), (74.0,), (74.0,), (74.0,), (74.0,), (74.0,), (74.0,), (74.0,), (74.0,), (74.0,), (74.0,), (74.0,), (74.0,), (74.0,), (74.0,), (74.0,), (74.0,), (74.0,), (74.0,), (74.0,), (74.0,), (74.0,), (74.0,), (74.0,), (74.0,), (74.0,), (74.0,), (74.0,), (74.0,), (74.0,), (74.0,), (74.0,), (74.0,), (74.0,), (74.0,), (74.0,), (74.0,), (74.0,), (74.0,), (74.0,), (74.0,), (74.0,), (74.0,), (74.0,), (74.0,), (74.0,), (74.0,), (74.0,), (74.0,), (74.0,), (74.0,), (74.0,), (74.0,), (74.0,), (74.0,), (74.0,), (74.0,), (74.0,), (74.0,), (74.0,), (74.0,), (74.0,), (74.0,), (74.0,), (74.0,), (74.0,), (74.0,), (74.0,), (74.0,), (74.0,), (74.0,), (74.0,), (74.0,), (74.0,), (74.0,), (74.0,), (74.0,), (74.0,), (74.0,), (74.0,), (74.0,), (74.0,), (74.0,), (74.0,), (74.0,), (74.0,), (74.0,), (74.0,), (74.0,), (74.0,), (74.0,), (74.0,), (74.0,), (74.0,), (74.0,), (74.0,), (74.0,), (74.0,), (74.0,), (74.0,), (74.0,), (74.0,), (74.0,), (74.0,), (74.0,), (74.0,), (74.0,), (74.0,), (74.0,), (74.0,), (74.0,), (74.0,), (74.0,), (74.0,), (74.0,), (74.0,), (74.0,), (74.0,), (74.0,), (74.0,), (74.0,), (74.0,), (74.0,), (74.0,), (74.0,), (74.0,), (74.0,), (74.0,), (74.0,), (74.0,), (74.0,), (74.0,), (74.0,), (74.0,), (74.0,), (74.0,), (74.0,), (74.0,), (74.0,), (74.0,), (74.0,), (74.0,), (74.0,), (74.0,), (74.0,), (74.0,), (74.0,), (74.0,), (74.0,), (74.0,), (74.0,), (74.0,), (74.0,), (74.0,), (74.0,), (74.0,), (74.0,), (74.0,), (74.0,), (74.0,), (74.0,), (74.0,), (74.0,), (74.0,), (74.0,), (74.0,), (74.0,), (74.0,), (74.0,), (74.0,), (74.0,), (74.0,), (74.0,), (74.0,), (74.0,), (74.0,), (74.0,), (74.0,), (74.0,), (74.0,), (74.0,), (74.0,), (74.0,), (74.0,), (74.0,), (74.0,), (74.0,), (74.0,), (74.0,), (74.0,), (74.0,), (74.0,), (74.0,), (74.0,), (74.0,), (74.0,), (74.0,), (74.0,), (74.0,), (74.0,), (74.0,), (74.0,), (74.0,), (74.0,), (74.0,), (74.0,), (74.0,), (74.0,), (74.0,), (74.0,), (74.0,), (74.0,), (74.0,), (74.0,), (74.0,), (74.0,), (74.0,), (74.0,), (74.0,), (74.0,), (74.0,), (74.0,), (74.0,), (74.0,), (74.0,), (74.0,), (74.0,), (74.0,), (74.0,), (74.0,), (74.0,), (74.0,), (74.0,), (74.0,), (74.0,), (74.0,), (74.0,), (74.0,), (74.0,), (74.0,), (74.0,), (74.0,), (74.0,), (74.0,), (74.0,), (74.0,), (74.0,), (74.0,), (74.0,), (74.0,), (74.0,), (74.0,), (74.0,), (74.0,), (74.0,), (74.0,), (74.0,), (74.0,), (74.0,), (74.0,), (74.0,), (74.0,), (74.0,), (74.0,), (74.0,), (74.0,), (74.0,), (74.0,), (74.0,), (74.0,), (74.0,), (74.0,), (74.0,), (74.0,), (74.0,), (74.0,), (74.0,), (74.0,), (74.0,), (74.0,), (74.0,), (74.0,), (74.0,), (74.0,), (74.0,), (74.0,), (74.0,), (74.0,), (74.0,), (74.0,), (74.0,), (74.0,), (74.0,), (74.0,), (74.0,), (74.0,), (74.0,), (74.0,), (74.0,), (74.0,), (74.0,), (74.0,), (74.0,), (74.0,), (74.0,), (74.0,), (74.0,), (74.0,), (74.0,), (74.0,), (74.0,), (74.0,), (74.0,), (74.0,), (74.0,), (74.0,), (74.0,), (74.0,), (74.0,), (74.0,), (74.0,), (74.0,), (74.0,), (74.0,), (74.0,), (74.0,), (74.0,), (74.0,), (74.0,), (74.0,), (74.0,), (74.0,), (74.0,), (74.0,), (74.0,), (74.0,), (74.0,), (74.0,), (74.0,), (74.0,), (74.0,), (74.0,), (74.0,), (74.0,), (74.0,), (74.0,), (74.0,), (74.0,), (74.0,), (74.0,), (74.0,), (74.0,), (74.0,), (74.0,), (74.0,), (74.0,), (74.0,), (74.0,), (74.0,), (74.0,), (74.0,), (74.0,), (74.0,), (74.0,), (74.0,), (74.0,), (74.0,), (74.0,), (74.0,), (74.0,), (74.0,), (74.0,), (74.0,), (74.0,), (74.0,), (74.0,), (74.0,), (74.0,), (74.0,), (74.0,), (74.0,), (74.0,), (74.0,), (74.0,), (74.0,), (74.0,), (74.0,), (74.0,), (74.0,), (74.0,), (74.0,), (74.0,), (74.0,), (74.0,), (74.0,), (74.0,), (74.0,), (74.0,), (74.0,), (74.0,), (74.0,), (74.0,), (74.0,), (74.0,), (74.0,), (74.0,), (74.0,), (74.0,), (74.0,), (74.0,), (74.0,), (74.0,), (74.0,), (74.0,), (74.0,), (74.0,), (74.0,), (74.0,), (74.0,), (74.0,), (74.0,), (74.0,), (74.0,), (74.0,), (74.0,), (74.0,), (74.0,), (74.0,), (74.0,), (74.0,), (74.0,), (74.0,), (74.0,), (74.0,), (74.0,), (74.0,), (74.0,), (74.0,), (74.0,), (74.0,), (74.0,), (74.0,), (74.0,), (74.0,), (74.0,), (74.0,), (74.0,), (74.0,), (74.0,), (74.0,), (74.0,), (74.0,), (74.0,), (74.0,), (74.0,), (74.0,), (74.0,), (74.0,), (74.0,), (74.0,), (74.0,), (74.0,), (74.0,), (74.0,), (74.0,), (74.0,), (74.0,), (74.0,), (74.0,), (74.0,), (74.0,), (74.0,), (74.0,), (74.0,), (74.0,), (74.0,), (74.0,), (74.0,), (74.0,), (74.0,), (74.0,), (74.0,), (74.0,), (74.0,), (74.0,), (74.0,), (74.0,), (74.0,), (74.0,), (74.0,), (74.0,), (74.0,), (74.0,), (74.0,), (74.0,), (74.0,), (74.0,), (74.0,), (74.0,), (74.0,), (74.0,), (74.0,), (74.0,), (74.0,), (74.0,), (74.0,), (74.0,), (74.0,), (74.0,), (74.0,), (74.0,), (74.0,), (74.0,), (74.0,), (74.0,), (74.0,), (74.0,), (74.0,), (74.0,), (74.0,), (74.0,), (74.0,), (74.0,), (74.0,), (74.0,), (74.0,), (74.0,), (74.0,), (74.0,), (74.0,), (74.0,), (74.0,), (74.0,), (74.0,), (74.0,), (74.0,), (74.0,), (74.0,), (74.0,), (74.0,), (74.0,), (74.0,), (74.0,), (74.0,), (74.0,), (74.0,), (74.0,), (74.0,), (74.0,), (74.0,), (74.0,), (74.0,), (74.0,), (74.0,), (74.0,), (74.0,), (74.0,), (74.0,), (74.0,), (74.0,), (74.0,), (74.0,), (74.0,), (74.0,), (74.0,), (74.0,), (74.0,), (74.0,), (74.0,), (74.0,), (74.0,), (74.0,), (74.0,), (74.0,), (74.0,), (74.0,), (74.0,), (74.0,), (74.0,), (74.0,), (74.0,), (74.0,), (74.0,), (74.0,), (74.0,), (74.0,), (74.0,), (74.0,), (74.0,), (74.0,), (74.0,), (74.0,), (74.0,), (74.0,), (74.0,), (74.0,), (74.0,), (74.0,), (74.0,), (74.0,), (74.0,), (74.0,), (74.0,), (74.0,), (74.0,), (74.0,), (74.0,), (74.0,), (74.0,), (74.0,), (74.0,), (74.0,), (74.0,), (74.0,), (74.0,), (74.0,), (74.0,), (74.0,), (74.0,), (74.0,), (74.0,), (74.0,), (74.0,), (74.0,), (74.0,), (74.0,), (74.0,), (74.0,), (74.0,), (74.0,), (74.0,), (74.0,), (74.0,), (74.0,), (74.0,), (74.0,), (74.0,), (74.0,), (74.0,), (74.0,), (74.0,), (74.0,), (74.0,), (74.0,), (74.0,), (74.0,), (74.0,), (74.0,), (74.0,), (74.0,), (74.0,), (74.0,), (74.0,), (74.0,), (74.0,), (74.0,), (74.0,), (74.0,), (74.0,), (74.0,), (74.0,), (74.0,), (74.0,), (74.0,), (74.0,), (74.0,), (74.0,), (74.0,), (74.0,), (74.0,), (74.0,), (74.0,), (74.0,), (74.0,), (74.0,), (74.0,), (74.0,), (74.0,), (74.0,), (74.0,), (74.0,), (74.0,), (74.0,), (74.0,), (74.0,), (74.0,), (74.0,), (74.0,), (74.0,), (74.0,), (74.0,), (74.0,), (74.0,), (74.0,), (74.0,), (74.0,), (74.0,), (74.0,), (74.0,), (74.0,), (74.0,), (74.0,), (74.0,), (74.0,), (74.0,), (74.0,), (74.0,), (74.0,), (74.0,), (74.0,), (74.0,), (74.0,), (74.0,), (74.0,), (74.0,), (74.0,), (74.0,), (74.0,), (74.0,), (74.0,), (74.0,), (74.0,), (74.0,), (74.0,), (74.0,), (74.0,), (74.0,), (74.0,), (74.0,), (74.0,), (74.0,), (74.0,), (74.0,), (74.0,), (74.0,), (74.0,), (74.0,), (74.0,), (74.0,), (74.0,), (74.0,), (74.0,), (74.0,), (74.0,), (74.0,), (74.0,), (74.0,), (74.0,), (74.0,), (74.0,), (74.0,), (74.0,), (74.0,), (74.0,), (74.0,), (74.0,), (74.0,), (74.0,), (74.0,), (74.0,), (74.0,), (74.0,), (74.0,), (74.0,), (74.0,), (74.0,), (74.0,), (74.0,), (74.0,), (74.0,), (74.0,), (74.0,), (74.0,), (74.0,), (74.0,), (74.0,), (74.0,), (74.0,), (74.0,), (74.0,), (74.0,), (74.0,), (74.0,), (74.0,), (74.0,), (74.0,), (74.0,), (74.0,), (74.0,), (74.0,), (74.0,), (74.0,), (74.0,), (74.0,), (74.0,), (74.0,), (74.0,), (74.0,), (74.0,), (74.0,), (74.0,), (74.0,), (74.0,), (74.0,), (74.0,), (74.0,), (74.0,), (74.0,), (74.0,), (74.0,), (74.0,), (74.0,), (74.0,), (74.0,), (74.0,), (74.0,), (74.0,), (74.0,), (74.0,), (74.0,), (74.0,), (74.0,), (74.0,), (74.0,), (74.0,), (74.0,), (74.0,), (74.0,), (74.0,), (74.0,), (74.0,), (74.0,), (74.0,), (74.0,), (74.0,), (74.0,), (74.0,), (74.0,), (74.0,), (74.0,), (74.0,), (74.0,), (74.0,), (74.0,), (74.0,), (74.0,), (74.0,), (74.0,), (74.0,), (74.0,), (74.0,), (74.0,), (74.0,), (74.0,), (74.0,), (74.0,), (74.0,), (74.0,), (74.0,), (74.0,), (74.0,), (74.0,), (74.0,), (74.0,), (74.0,), (74.0,), (74.0,), (74.0,), (74.0,), (74.0,), (74.0,), (74.0,), (74.0,), (74.0,), (74.0,), (74.0,), (74.0,), (74.0,), (74.0,), (74.0,), (74.0,), (74.0,), (74.0,), (74.0,), (74.0,), (74.0,), (74.0,), (74.0,), (74.0,), (74.0,), (74.0,), (74.0,), (74.0,), (74.0,), (74.0,), (74.0,), (74.0,), (74.0,), (74.0,), (74.0,), (74.0,), (74.0,), (74.0,), (74.0,), (74.0,), (74.0,), (74.0,), (74.0,), (74.0,), (74.0,), (74.0,), (74.0,), (74.0,), (74.0,), (74.0,), (74.0,), (74.0,), (74.0,), (74.0,), (74.0,), (74.0,), (74.0,), (74.0,), (74.0,), (74.0,), (74.0,), (74.0,), (74.0,), (74.0,), (74.0,), (74.0,), (74.0,), (74.0,), (74.0,), (74.0,), (74.0,), (74.0,), (74.0,), (74.0,), (74.0,), (74.0,), (74.0,), (74.0,), (74.0,), (74.0,), (74.0,), (74.0,), (74.0,), (74.0,), (74.0,), (74.0,), (74.0,), (74.0,), (74.0,), (74.0,), (74.0,), (74.0,), (74.0,), (74.0,), (74.0,), (74.0,), (74.0,), (74.0,), (74.0,), (74.0,), (74.0,), (74.0,), (74.0,), (74.0,), (74.0,), (74.0,), (74.0,), (74.0,), (74.0,), (74.0,), (74.0,), (74.0,), (74.0,), (74.0,), (74.0,), (74.0,), (74.0,), (74.0,), (74.0,), (74.0,), (74.0,), (74.0,), (74.0,), (74.0,), (74.0,), (74.0,), (74.0,), (74.0,), (74.0,), (74.0,), (74.0,), (74.0,), (74.0,), (74.0,), (74.0,), (74.0,), (74.0,), (74.0,), (74.0,), (74.0,), (74.0,), (74.0,), (74.0,), (74.0,), (74.0,), (74.0,), (74.0,), (74.0,), (74.0,), (74.0,), (74.0,), (74.0,), (74.0,), (74.0,), (74.0,), (74.0,), (74.0,), (74.0,), (74.0,), (74.0,), (74.0,), (74.0,), (74.0,), (74.0,), (74.0,), (74.0,), (74.0,), (74.0,), (74.0,), (74.0,), (74.0,), (74.0,), (74.0,), (74.0,), (74.0,), (74.0,), (74.0,), (74.0,), (74.0,), (74.0,), (74.0,), (74.0,), (74.0,), (74.0,), (74.0,), (74.0,), (74.0,), (74.0,), (74.0,), (74.0,), (74.0,), (74.0,), (74.0,), (74.0,), (74.0,), (74.0,), (74.0,), (74.0,), (74.0,), (74.0,), (74.0,), (74.0,), (74.0,), (74.0,), (74.0,), (74.0,), (74.0,), (74.0,), (74.0,), (74.0,), (74.0,), (74.0,), (74.0,), (74.0,), (74.0,), (74.0,), (74.0,), (74.0,), (74.0,), (74.0,), (74.0,), (74.0,), (74.0,), (74.0,), (74.0,), (74.0,), (74.0,), (74.0,), (74.0,), (74.0,), (74.0,), (74.0,), (74.0,), (74.0,), (74.0,), (74.0,), (74.0,), (74.0,), (74.0,), (74.0,), (74.0,), (74.0,), (74.0,), (74.0,), (74.0,), (74.0,), (74.0,), (74.0,), (74.0,), (74.0,), (74.0,), (74.0,), (74.0,), (74.0,), (74.0,), (74.0,), (74.0,), (74.0,), (74.0,), (74.0,), (74.0,), (74.0,), (74.0,), (74.0,), (74.0,), (74.0,), (74.0,), (74.0,), (74.0,), (74.0,), (74.0,), (74.0,), (74.0,), (74.0,), (74.0,), (74.0,), (74.0,), (74.0,), (74.0,), (74.0,), (74.0,), (74.0,), (74.0,), (74.0,), (74.0,), (74.0,), (74.0,), (74.0,), (74.0,), (74.0,), (74.0,), (74.0,), (74.0,), (74.0,), (74.0,), (74.0,), (74.0,), (74.0,), (74.0,), (74.0,), (74.0,), (74.0,), (74.0,), (74.0,), (74.0,), (74.0,), (74.0,), (74.0,), (74.0,), (74.0,), (74.0,), (74.0,), (74.0,), (74.0,), (74.0,), (74.0,), (74.0,), (74.0,), (74.0,), (74.0,), (74.0,), (74.0,), (74.0,), (74.0,), (74.0,), (74.0,), (74.0,), (74.0,), (74.0,), (74.0,), (74.0,), (74.0,), (74.0,), (74.0,), (74.0,), (74.0,), (74.0,), (74.0,), (74.0,), (74.0,), (74.0,), (74.0,), (74.0,), (74.0,), (74.0,), (74.0,), (74.0,), (74.0,), (74.0,), (74.0,), (74.0,), (74.0,), (74.0,), (74.0,), (74.0,), (74.0,), (74.0,), (74.0,), (74.0,), (74.0,), (74.0,), (74.0,), (74.0,), (74.0,), (74.0,), (74.0,), (74.0,), (74.0,), (74.0,), (74.0,), (74.0,), (74.0,), (74.0,), (74.0,), (74.0,), (74.0,), (74.0,), (74.0,), (74.0,), (74.0,), (74.0,), (74.0,), (74.0,), (74.0,), (74.0,), (74.0,), (74.0,), (74.0,), (74.0,), (74.0,), (74.0,), (74.0,), (74.0,), (74.0,), (74.0,), (74.0,), (74.0,), (74.0,), (74.0,), (74.0,), (74.0,), (74.0,), (74.0,), (74.0,), (74.0,), (74.0,), (74.0,), (74.0,), (74.0,), (74.0,), (74.0,), (74.0,), (74.0,), (74.0,), (74.0,), (74.0,), (74.0,), (74.0,), (74.0,), (74.0,), (74.0,), (74.0,), (74.0,), (74.0,), (74.0,), (74.0,), (74.0,), (74.0,), (74.0,), (74.0,), (74.0,), (74.0,), (74.0,), (74.0,), (74.0,), (74.0,), (74.0,), (74.0,), (74.0,), (74.0,), (74.0,), (74.0,), (74.0,), (74.0,), (74.0,), (74.0,), (74.0,), (74.0,), (74.0,), (74.0,), (74.0,), (74.0,), (74.0,), (74.0,), (74.0,), (74.0,), (74.0,), (74.0,), (74.0,), (74.0,), (74.0,), (74.0,), (74.0,), (74.0,), (74.0,), (74.0,), (74.0,), (74.0,), (74.0,), (74.0,), (74.0,), (74.0,), (74.0,), (74.0,), (74.0,), (74.0,), (74.0,), (74.0,), (74.0,), (74.0,), (74.0,), (74.0,), (74.0,), (74.0,), (74.0,), (74.0,), (74.0,), (74.0,), (74.0,), (74.0,), (74.0,), (74.0,), (74.0,), (74.0,), (74.0,), (74.0,), (74.0,), (74.0,), (74.0,), (74.0,), (74.0,), (74.0,), (74.0,), (74.0,), (74.0,), (74.0,), (74.0,), (74.0,), (74.0,), (74.0,), (74.0,), (74.0,), (74.0,), (74.0,), (74.0,), (74.0,), (74.0,), (74.0,), (74.0,), (74.0,), (75.0,), (75.0,), (75.0,), (75.0,), (75.0,), (75.0,), (75.0,), (75.0,), (75.0,), (75.0,), (75.0,), (75.0,), (75.0,), (75.0,), (75.0,), (75.0,), (75.0,), (75.0,), (75.0,), (75.0,), (75.0,), (75.0,), (75.0,), (75.0,), (75.0,), (75.0,), (75.0,), (75.0,), (75.0,), (75.0,), (75.0,), (75.0,), (75.0,), (75.0,), (75.0,), (75.0,), (75.0,), (75.0,), (75.0,), (75.0,), (75.0,), (75.0,), (75.0,), (75.0,), (75.0,), (75.0,), (75.0,), (75.0,), (75.0,), (75.0,), (75.0,), (75.0,), (75.0,), (75.0,), (75.0,), (75.0,), (75.0,), (75.0,), (75.0,), (75.0,), (75.0,), (75.0,), (75.0,), (75.0,), (75.0,), (75.0,), (75.0,), (75.0,), (75.0,), (75.0,), (75.0,), (75.0,), (75.0,), (75.0,), (75.0,), (75.0,), (75.0,), (75.0,), (75.0,), (75.0,), (75.0,), (75.0,), (75.0,), (75.0,), (75.0,), (75.0,), (75.0,), (75.0,), (75.0,), (75.0,), (75.0,), (75.0,), (75.0,), (75.0,), (75.0,), (75.0,), (75.0,), (75.0,), (75.0,), (75.0,), (75.0,), (75.0,), (75.0,), (75.0,), (75.0,), (75.0,), (75.0,), (75.0,), (75.0,), (75.0,), (75.0,), (75.0,), (75.0,), (75.0,), (75.0,), (75.0,), (75.0,), (75.0,), (75.0,), (75.0,), (75.0,), (75.0,), (75.0,), (75.0,), (75.0,), (75.0,), (75.0,), (75.0,), (75.0,), (75.0,), (75.0,), (75.0,), (75.0,), (75.0,), (75.0,), (75.0,), (75.0,), (75.0,), (75.0,), (75.0,), (75.0,), (75.0,), (75.0,), (75.0,), (75.0,), (75.0,), (75.0,), (75.0,), (75.0,), (75.0,), (75.0,), (75.0,), (75.0,), (75.0,), (75.0,), (75.0,), (75.0,), (75.0,), (75.0,), (75.0,), (75.0,), (75.0,), (75.0,), (75.0,), (75.0,), (75.0,), (75.0,), (75.0,), (75.0,), (75.0,), (75.0,), (75.0,), (75.0,), (75.0,), (75.0,), (75.0,), (75.0,), (75.0,), (75.0,), (75.0,), (75.0,), (75.0,), (75.0,), (75.0,), (75.0,), (75.0,), (75.0,), (75.0,), (75.0,), (75.0,), (75.0,), (75.0,), (75.0,), (75.0,), (75.0,), (75.0,), (75.0,), (75.0,), (75.0,), (75.0,), (75.0,), (75.0,), (75.0,), (75.0,), (75.0,), (75.0,), (75.0,), (75.0,), (75.0,), (75.0,), (75.0,), (75.0,), (75.0,), (75.0,), (75.0,), (75.0,), (75.0,), (75.0,), (75.0,), (75.0,), (75.0,), (75.0,), (75.0,), (75.0,), (75.0,), (75.0,), (75.0,), (75.0,), (75.0,), (75.0,), (75.0,), (75.0,), (75.0,), (75.0,), (75.0,), (75.0,), (75.0,), (75.0,), (75.0,), (75.0,), (75.0,), (75.0,), (75.0,), (75.0,), (75.0,), (75.0,), (75.0,), (75.0,), (75.0,), (75.0,), (75.0,), (75.0,), (75.0,), (75.0,), (75.0,), (75.0,), (75.0,), (75.0,), (75.0,), (75.0,), (75.0,), (75.0,), (75.0,), (75.0,), (75.0,), (75.0,), (75.0,), (75.0,), (75.0,), (75.0,), (75.0,), (75.0,), (75.0,), (75.0,), (75.0,), (75.0,), (75.0,), (75.0,), (75.0,), (75.0,), (75.0,), (75.0,), (75.0,), (75.0,), (75.0,), (75.0,), (75.0,), (75.0,), (75.0,), (75.0,), (75.0,), (75.0,), (75.0,), (75.0,), (75.0,), (75.0,), (75.0,), (75.0,), (75.0,), (75.0,), (75.0,), (75.0,), (75.0,), (75.0,), (75.0,), (75.0,), (75.0,), (75.0,), (75.0,), (75.0,), (75.0,), (75.0,), (75.0,), (75.0,), (75.0,), (75.0,), (75.0,), (75.0,), (75.0,), (75.0,), (75.0,), (75.0,), (75.0,), (75.0,), (75.0,), (75.0,), (75.0,), (75.0,), (75.0,), (75.0,), (75.0,), (75.0,), (75.0,), (75.0,), (75.0,), (75.0,), (75.0,), (75.0,), (75.0,), (75.0,), (75.0,), (75.0,), (75.0,), (75.0,), (75.0,), (75.0,), (75.0,), (75.0,), (75.0,), (75.0,), (75.0,), (75.0,), (75.0,), (75.0,), (75.0,), (75.0,), (75.0,), (75.0,), (75.0,), (75.0,), (75.0,), (75.0,), (75.0,), (75.0,), (75.0,), (75.0,), (75.0,), (75.0,), (75.0,), (75.0,), (75.0,), (75.0,), (75.0,), (75.0,), (75.0,), (75.0,), (75.0,), (75.0,), (75.0,), (75.0,), (75.0,), (75.0,), (75.0,), (75.0,), (75.0,), (75.0,), (75.0,), (75.0,), (75.0,), (75.0,), (75.0,), (75.0,), (75.0,), (75.0,), (75.0,), (75.0,), (75.0,), (75.0,), (75.0,), (75.0,), (75.0,), (75.0,), (75.0,), (75.0,), (75.0,), (75.0,), (75.0,), (75.0,), (75.0,), (75.0,), (75.0,), (75.0,), (75.0,), (75.0,), (75.0,), (75.0,), (75.0,), (75.0,), (75.0,), (75.0,), (75.0,), (75.0,), (75.0,), (75.0,), (75.0,), (75.0,), (75.0,), (75.0,), (75.0,), (75.0,), (75.0,), (75.0,), (75.0,), (75.0,), (75.0,), (75.0,), (75.0,), (75.0,), (75.0,), (75.0,), (75.0,), (75.0,), (75.0,), (75.0,), (75.0,), (75.0,), (75.0,), (75.0,), (75.0,), (75.0,), (75.0,), (75.0,), (75.0,), (75.0,), (75.0,), (75.0,), (75.0,), (75.0,), (75.0,), (75.0,), (75.0,), (75.0,), (75.0,), (75.0,), (75.0,), (75.0,), (75.0,), (75.0,), (75.0,), (75.0,), (75.0,), (75.0,), (75.0,), (75.0,), (75.0,), (75.0,), (75.0,), (75.0,), (75.0,), (75.0,), (75.0,), (75.0,), (75.0,), (75.0,), (75.0,), (75.0,), (75.0,), (75.0,), (75.0,), (75.0,), (75.0,), (75.0,), (75.0,), (75.0,), (75.0,), (75.0,), (75.0,), (75.0,), (75.0,), (75.0,), (75.0,), (75.0,), (75.0,), (75.0,), (75.0,), (75.0,), (75.0,), (75.0,), (75.0,), (75.0,), (75.0,), (75.0,), (75.0,), (75.0,), (75.0,), (75.0,), (75.0,), (75.0,), (75.0,), (75.0,), (75.0,), (75.0,), (75.0,), (75.0,), (75.0,), (75.0,), (75.0,), (75.0,), (75.0,), (75.0,), (75.0,), (75.0,), (75.0,), (75.0,), (75.0,), (75.0,), (75.0,), (75.0,), (75.0,), (75.0,), (75.0,), (75.0,), (75.0,), (75.0,), (75.0,), (75.0,), (75.0,), (75.0,), (75.0,), (75.0,), (75.0,), (75.0,), (75.0,), (75.0,), (75.0,), (75.0,), (75.0,), (75.0,), (75.0,), (75.0,), (75.0,), (75.0,), (75.0,), (75.0,), (75.0,), (75.0,), (75.0,), (75.0,), (75.0,), (75.0,), (75.0,), (75.0,), (75.0,), (75.0,), (75.0,), (75.0,), (75.0,), (75.0,), (75.0,), (75.0,), (75.0,), (75.0,), (75.0,), (75.0,), (75.0,), (75.0,), (75.0,), (75.0,), (75.0,), (75.0,), (75.0,), (75.0,), (75.0,), (75.0,), (75.0,), (75.0,), (75.0,), (75.0,), (75.0,), (75.0,), (75.0,), (75.0,), (75.0,), (75.0,), (75.0,), (75.0,), (75.0,), (75.0,), (75.0,), (75.0,), (75.0,), (75.0,), (75.0,), (75.0,), (75.0,), (75.0,), (75.0,), (75.0,), (75.0,), (75.0,), (75.0,), (75.0,), (75.0,), (75.0,), (75.0,), (75.0,), (75.0,), (75.0,), (75.0,), (75.0,), (75.0,), (75.0,), (75.0,), (75.0,), (75.0,), (75.0,), (75.0,), (75.0,), (75.0,), (75.0,), (75.0,), (75.0,), (75.0,), (75.0,), (75.0,), (75.0,), (75.0,), (75.0,), (75.0,), (75.0,), (75.0,), (75.0,), (75.0,), (75.0,), (75.0,), (75.0,), (75.0,), (75.0,), (75.0,), (75.0,), (75.0,), (75.0,), (75.0,), (75.0,), (75.0,), (75.0,), (75.0,), (75.0,), (75.0,), (75.0,), (75.0,), (75.0,), (75.0,), (75.0,), (75.0,), (75.0,), (75.0,), (75.0,), (75.0,), (75.0,), (75.0,), (75.0,), (75.0,), (75.0,), (75.0,), (75.0,), (75.0,), (75.0,), (75.0,), (75.0,), (75.0,), (75.0,), (75.0,), (75.0,), (75.0,), (75.0,), (75.0,), (75.0,), (75.0,), (75.0,), (75.0,), (75.0,), (75.0,), (75.0,), (75.0,), (75.0,), (75.0,), (75.0,), (75.0,), (75.0,), (75.0,), (75.0,), (75.0,), (75.0,), (75.0,), (75.0,), (75.0,), (75.0,), (75.0,), (75.0,), (75.0,), (75.0,), (75.0,), (75.0,), (75.0,), (75.0,), (75.0,), (75.0,), (75.0,), (75.0,), (75.0,), (75.0,), (75.0,), (75.0,), (75.0,), (75.0,), (75.0,), (75.0,), (75.0,), (75.0,), (75.0,), (75.0,), (75.0,), (75.0,), (75.0,), (75.0,), (75.0,), (75.0,), (75.0,), (75.0,), (75.0,), (75.0,), (75.0,), (75.0,), (75.0,), (75.0,), (75.0,), (75.0,), (75.0,), (75.0,), (75.0,), (75.0,), (75.0,), (75.0,), (75.0,), (75.0,), (75.0,), (75.0,), (75.0,), (75.0,), (75.0,), (75.0,), (75.0,), (75.0,), (75.0,), (75.0,), (75.0,), (75.0,), (75.0,), (75.0,), (75.0,), (75.0,), (75.0,), (75.0,), (75.0,), (75.0,), (75.0,), (75.0,), (75.0,), (75.0,), (75.0,), (75.0,), (75.0,), (75.0,), (75.0,), (75.0,), (75.0,), (75.0,), (75.0,), (75.0,), (75.0,), (75.0,), (75.0,), (75.0,), (75.0,), (75.0,), (75.0,), (75.0,), (75.0,), (75.0,), (75.0,), (75.0,), (75.0,), (75.0,), (75.0,), (75.0,), (75.0,), (75.0,), (75.0,), (75.0,), (75.0,), (75.0,), (75.0,), (75.0,), (75.0,), (75.0,), (75.0,), (75.0,), (75.0,), (75.0,), (75.0,), (75.0,), (75.0,), (75.0,), (75.0,), (75.0,), (75.0,), (75.0,), (75.0,), (75.0,), (75.0,), (75.0,), (75.0,), (75.0,), (75.0,), (75.0,), (75.0,), (75.0,), (75.0,), (75.0,), (75.0,), (75.0,), (75.0,), (75.0,), (75.0,), (75.0,), (75.0,), (75.0,), (75.0,), (75.0,), (75.0,), (75.0,), (75.0,), (75.0,), (75.0,), (75.0,), (75.0,), (75.0,), (75.0,), (75.0,), (75.0,), (75.0,), (75.0,), (75.0,), (75.0,), (75.0,), (75.0,), (75.0,), (75.0,), (75.0,), (75.0,), (75.0,), (75.0,), (75.0,), (75.0,), (75.0,), (75.0,), (75.0,), (75.0,), (75.0,), (75.0,), (75.0,), (75.0,), (75.0,), (75.0,), (75.0,), (75.0,), (75.0,), (75.0,), (75.0,), (75.0,), (75.0,), (75.0,), (75.0,), (75.0,), (75.0,), (75.0,), (75.0,), (75.0,), (75.0,), (75.0,), (75.0,), (75.0,), (75.0,), (75.0,), (75.0,), (75.0,), (75.0,), (75.0,), (75.0,), (75.0,), (75.0,), (75.0,), (75.0,), (75.0,), (75.0,), (75.0,), (75.0,), (75.0,), (75.0,), (75.0,), (75.0,), (75.0,), (75.0,), (75.0,), (75.0,), (75.0,), (75.0,), (75.0,), (75.0,), (75.0,), (75.0,), (75.0,), (75.0,), (75.0,), (75.0,), (75.0,), (75.0,), (75.0,), (75.0,), (75.0,), (75.0,), (75.0,), (75.0,), (75.0,), (75.0,), (75.0,), (75.0,), (75.0,), (75.0,), (75.0,), (75.0,), (75.0,), (75.0,), (75.0,), (75.0,), (75.0,), (75.0,), (75.0,), (75.0,), (75.0,), (75.0,), (75.0,), (75.0,), (75.0,), (75.0,), (75.0,), (75.0,), (75.0,), (75.0,), (75.0,), (75.0,), (75.0,), (75.0,), (75.0,), (75.0,), (75.0,), (75.0,), (75.0,), (75.0,), (75.0,), (75.0,), (75.0,), (75.0,), (75.0,), (75.0,), (75.0,), (75.0,), (75.0,), (75.0,), (75.0,), (75.0,), (75.0,), (75.0,), (75.0,), (75.0,), (75.0,), (75.0,), (75.0,), (75.0,), (75.0,), (75.0,), (75.0,), (75.0,), (75.0,), (75.0,), (75.0,), (75.0,), (75.0,), (75.0,), (75.0,), (75.0,), (75.0,), (75.0,), (75.0,), (75.0,), (75.0,), (75.0,), (75.0,), (75.0,), (75.0,), (75.0,), (75.0,), (75.0,), (75.0,), (75.0,), (75.0,), (75.0,), (75.0,), (75.0,), (75.0,), (75.0,), (75.0,), (75.0,), (75.0,), (75.0,), (75.0,), (75.0,), (75.0,), (75.0,), (75.0,), (75.0,), (75.0,), (75.0,), (75.0,), (75.0,), (75.0,), (75.0,), (75.0,), (75.0,), (75.0,), (75.0,), (75.0,), (75.0,), (75.0,), (75.0,), (75.0,), (75.0,), (75.0,), (75.0,), (75.0,), (75.0,), (75.0,), (75.0,), (75.0,), (75.0,), (75.0,), (75.0,), (75.0,), (75.0,), (75.0,), (75.0,), (75.0,), (75.0,), (75.0,), (75.0,), (75.0,), (75.0,), (75.0,), (75.0,), (75.0,), (75.0,), (75.0,), (75.0,), (75.0,), (75.0,), (75.0,), (75.0,), (75.0,), (75.0,), (75.0,), (75.0,), (75.0,), (75.0,), (75.0,), (75.0,), (75.0,), (75.0,), (75.0,), (75.0,), (75.0,), (75.0,), (75.0,), (75.0,), (75.0,), (75.0,), (75.0,), (75.0,), (75.0,), (75.0,), (75.0,), (75.0,), (75.0,), (75.0,), (75.0,), (75.0,), (75.0,), (75.0,), (75.0,), (75.0,), (75.0,), (75.0,), (75.0,), (75.0,), (75.0,), (75.0,), (75.0,), (75.0,), (75.0,), (75.0,), (75.0,), (75.0,), (75.0,), (75.0,), (75.0,), (75.0,), (75.0,), (75.0,), (75.0,), (75.0,), (75.0,), (75.0,), (75.0,), (75.0,), (75.0,), (75.0,), (75.0,), (75.0,), (75.0,), (75.0,), (75.0,), (75.0,), (75.0,), (75.0,), (75.0,), (75.0,), (75.0,), (75.0,), (75.0,), (75.0,), (75.0,), (75.0,), (75.0,), (75.0,), (75.0,), (75.0,), (75.0,), (75.0,), (75.0,), (75.0,), (75.0,), (75.0,), (75.0,), (75.0,), (75.0,), (75.0,), (75.0,), (75.0,), (75.0,), (75.0,), (75.0,), (75.0,), (75.0,), (75.0,), (75.0,), (75.0,), (75.0,), (75.0,), (75.0,), (75.0,), (75.0,), (75.0,), (75.0,), (75.0,), (75.0,), (75.0,), (75.0,), (75.0,), (75.0,), (75.0,), (75.0,), (75.0,), (75.0,), (75.0,), (75.0,), (75.0,), (75.0,), (75.0,), (75.0,), (75.0,), (75.0,), (75.0,), (75.0,), (75.0,), (75.0,), (75.0,), (75.0,), (75.0,), (75.0,), (75.0,), (75.0,), (75.0,), (75.0,), (75.0,), (75.0,), (75.0,), (75.0,), (75.0,), (75.0,), (75.0,), (75.0,), (75.0,), (75.0,), (75.0,), (75.0,), (75.0,), (75.0,), (75.0,), (75.0,), (75.0,), (75.0,), (75.0,), (75.0,), (75.0,), (75.0,), (75.0,), (75.0,), (75.0,), (75.0,), (75.0,), (75.0,), (75.0,), (75.0,), (75.0,), (75.0,), (75.0,), (75.0,), (75.0,), (75.0,), (75.0,), (75.0,), (75.0,), (75.0,), (75.0,), (75.0,), (75.0,), (75.0,), (75.0,), (75.0,), (75.0,), (75.0,), (75.0,), (75.0,), (75.0,), (75.0,), (75.0,), (75.0,), (75.0,), (75.0,), (75.0,), (75.0,), (75.0,), (75.0,), (75.0,), (75.0,), (75.0,), (75.0,), (75.0,), (75.0,), (75.0,), (75.0,), (75.0,), (75.0,), (75.0,), (75.0,), (75.0,), (75.0,), (75.0,), (75.0,), (75.0,), (75.0,), (75.0,), (75.0,), (75.0,), (75.0,), (75.0,), (75.0,), (75.0,), (75.0,), (75.0,), (75.0,), (75.0,), (75.0,), (75.0,), (75.0,), (75.0,), (75.0,), (75.0,), (75.0,), (75.0,), (75.0,), (75.0,), (75.0,), (75.0,), (75.0,), (75.0,), (75.0,), (75.0,), (75.0,), (75.0,), (75.0,), (75.0,), (75.0,), (75.0,), (75.0,), (75.0,), (75.0,), (75.0,), (75.0,), (75.0,), (75.0,), (75.0,), (75.0,), (75.0,), (75.0,), (75.0,), (75.0,), (75.0,), (75.0,), (75.0,), (75.0,), (75.0,), (75.0,), (75.0,), (75.0,), (75.0,), (75.0,), (75.0,), (75.0,), (75.0,), (75.0,), (75.0,), (75.0,), (75.0,), (75.0,), (75.0,), (75.0,), (75.0,), (75.0,), (75.0,), (75.0,), (75.0,), (75.0,), (75.0,), (75.0,), (75.0,), (75.0,), (75.0,), (75.0,), (75.0,), (75.0,), (75.0,), (75.0,), (75.0,), (75.0,), (75.0,), (75.0,), (75.0,), (75.0,), (75.0,), (75.0,), (75.0,), (75.0,), (75.0,), (75.0,), (75.0,), (75.0,), (75.0,), (75.0,), (75.0,), (75.0,), (75.0,), (75.0,), (75.0,), (75.0,), (75.0,), (75.0,), (75.0,), (75.0,), (75.0,), (75.0,), (75.0,), (75.0,), (75.0,), (75.0,), (75.0,), (75.0,), (75.0,), (75.0,), (75.0,), (75.0,), (75.0,), (75.0,), (75.0,), (75.0,), (75.0,), (75.0,), (75.0,), (75.0,), (75.0,), (75.0,), (75.0,), (75.0,), (75.0,), (75.0,), (75.0,), (75.0,), (75.0,), (75.0,), (75.0,), (75.0,), (75.0,), (75.0,), (75.0,), (75.0,), (75.0,), (75.0,), (75.0,), (75.0,), (75.0,), (75.0,), (75.0,), (75.0,), (75.0,), (75.0,), (75.0,), (75.0,), (75.0,), (75.0,), (75.0,), (75.0,), (75.0,), (75.0,), (75.0,), (75.0,), (75.0,), (75.0,), (75.0,), (75.0,), (75.0,), (75.0,), (75.0,), (75.0,), (75.0,), (75.0,), (75.0,), (75.0,), (75.0,), (75.0,), (75.0,), (75.0,), (75.0,), (75.0,), (75.0,), (75.0,), (75.0,), (75.0,), (75.0,), (75.0,), (75.0,), (75.0,), (75.0,), (75.0,), (75.0,), (75.0,), (75.0,), (75.0,), (75.0,), (75.0,), (75.0,), (75.0,), (75.0,), (75.0,), (75.0,), (75.0,), (75.0,), (75.0,), (75.0,), (75.0,), (75.0,), (75.0,), (75.0,), (75.0,), (75.0,), (75.0,), (75.0,), (75.0,), (75.0,), (75.0,), (75.0,), (75.0,), (75.0,), (75.0,), (75.0,), (75.0,), (75.0,), (75.0,), (75.0,), (75.0,), (75.0,), (75.0,), (75.0,), (75.0,), (75.0,), (75.0,), (75.0,), (75.0,), (75.0,), (75.0,), (75.0,), (75.0,), (75.0,), (75.0,), (75.0,), (75.0,), (75.0,), (75.0,), (75.0,), (75.0,), (75.0,), (75.0,), (75.0,), (75.0,), (75.0,), (75.0,), (75.0,), (75.0,), (75.0,), (75.0,), (75.0,), (75.0,), (75.0,), (75.0,), (75.0,), (75.0,), (75.0,), (75.0,), (75.0,), (75.0,), (75.0,), (75.0,), (75.0,), (75.0,), (75.0,), (75.0,), (75.0,), (75.0,), (75.0,), (75.0,), (75.0,), (75.0,), (75.0,), (75.0,), (75.0,), (75.0,), (75.0,), (75.0,), (75.0,), (75.0,), (75.0,), (75.0,), (76.0,), (76.0,), (76.0,), (76.0,), (76.0,), (76.0,), (76.0,), (76.0,), (76.0,), (76.0,), (76.0,), (76.0,), (76.0,), (76.0,), (76.0,), (76.0,), (76.0,), (76.0,), (76.0,), (76.0,), (76.0,), (76.0,), (76.0,), (76.0,), (76.0,), (76.0,), (76.0,), (76.0,), (76.0,), (76.0,), (76.0,), (76.0,), (76.0,), (76.0,), (76.0,), (76.0,), (76.0,), (76.0,), (76.0,), (76.0,), (76.0,), (76.0,), (76.0,), (76.0,), (76.0,), (76.0,), (76.0,), (76.0,), (76.0,), (76.0,), (76.0,), (76.0,), (76.0,), (76.0,), (76.0,), (76.0,), (76.0,), (76.0,), (76.0,), (76.0,), (76.0,), (76.0,), (76.0,), (76.0,), (76.0,), (76.0,), (76.0,), (76.0,), (76.0,), (76.0,), (76.0,), (76.0,), (76.0,), (76.0,), (76.0,), (76.0,), (76.0,), (76.0,), (76.0,), (76.0,), (76.0,), (76.0,), (76.0,), (76.0,), (76.0,), (76.0,), (76.0,), (76.0,), (76.0,), (76.0,), (76.0,), (76.0,), (76.0,), (76.0,), (76.0,), (76.0,), (76.0,), (76.0,), (76.0,), (76.0,), (76.0,), (76.0,), (76.0,), (76.0,), (76.0,), (76.0,), (76.0,), (76.0,), (76.0,), (76.0,), (76.0,), (76.0,), (76.0,), (76.0,), (76.0,), (76.0,), (76.0,), (76.0,), (76.0,), (76.0,), (76.0,), (76.0,), (76.0,), (76.0,), (76.0,), (76.0,), (76.0,), (76.0,), (76.0,), (76.0,), (76.0,), (76.0,), (76.0,), (76.0,), (76.0,), (76.0,), (76.0,), (76.0,), (76.0,), (76.0,), (76.0,), (76.0,), (76.0,), (76.0,), (76.0,), (76.0,), (76.0,), (76.0,), (76.0,), (76.0,), (76.0,), (76.0,), (76.0,), (76.0,), (76.0,), (76.0,), (76.0,), (76.0,), (76.0,), (76.0,), (76.0,), (76.0,), (76.0,), (76.0,), (76.0,), (76.0,), (76.0,), (76.0,), (76.0,), (76.0,), (76.0,), (76.0,), (76.0,), (76.0,), (76.0,), (76.0,), (76.0,), (76.0,), (76.0,), (76.0,), (76.0,), (76.0,), (76.0,), (76.0,), (76.0,), (76.0,), (76.0,), (76.0,), (76.0,), (76.0,), (76.0,), (76.0,), (76.0,), (76.0,), (76.0,), (76.0,), (76.0,), (76.0,), (76.0,), (76.0,), (76.0,), (76.0,), (76.0,), (76.0,), (76.0,), (76.0,), (76.0,), (76.0,), (76.0,), (76.0,), (76.0,), (76.0,), (76.0,), (76.0,), (76.0,), (76.0,), (76.0,), (76.0,), (76.0,), (76.0,), (76.0,), (76.0,), (76.0,), (76.0,), (76.0,), (76.0,), (76.0,), (76.0,), (76.0,), (76.0,), (76.0,), (76.0,), (76.0,), (76.0,), (76.0,), (76.0,), (76.0,), (76.0,), (76.0,), (76.0,), (76.0,), (76.0,), (76.0,), (76.0,), (76.0,), (76.0,), (76.0,), (76.0,), (76.0,), (76.0,), (76.0,), (76.0,), (76.0,), (76.0,), (76.0,), (76.0,), (76.0,), (76.0,), (76.0,), (76.0,), (76.0,), (76.0,), (76.0,), (76.0,), (76.0,), (76.0,), (76.0,), (76.0,), (76.0,), (76.0,), (76.0,), (76.0,), (76.0,), (76.0,), (76.0,), (76.0,), (76.0,), (76.0,), (76.0,), (76.0,), (76.0,), (76.0,), (76.0,), (76.0,), (76.0,), (76.0,), (76.0,), (76.0,), (76.0,), (76.0,), (76.0,), (76.0,), (76.0,), (76.0,), (76.0,), (76.0,), (76.0,), (76.0,), (76.0,), (76.0,), (76.0,), (76.0,), (76.0,), (76.0,), (76.0,), (76.0,), (76.0,), (76.0,), (76.0,), (76.0,), (76.0,), (76.0,), (76.0,), (76.0,), (76.0,), (76.0,), (76.0,), (76.0,), (76.0,), (76.0,), (76.0,), (76.0,), (76.0,), (76.0,), (76.0,), (76.0,), (76.0,), (76.0,), (76.0,), (76.0,), (76.0,), (76.0,), (76.0,), (76.0,), (76.0,), (76.0,), (76.0,), (76.0,), (76.0,), (76.0,), (76.0,), (76.0,), (76.0,), (76.0,), (76.0,), (76.0,), (76.0,), (76.0,), (76.0,), (76.0,), (76.0,), (76.0,), (76.0,), (76.0,), (76.0,), (76.0,), (76.0,), (76.0,), (76.0,), (76.0,), (76.0,), (76.0,), (76.0,), (76.0,), (76.0,), (76.0,), (76.0,), (76.0,), (76.0,), (76.0,), (76.0,), (76.0,), (76.0,), (76.0,), (76.0,), (76.0,), (76.0,), (76.0,), (76.0,), (76.0,), (76.0,), (76.0,), (76.0,), (76.0,), (76.0,), (76.0,), (76.0,), (76.0,), (76.0,), (76.0,), (76.0,), (76.0,), (76.0,), (76.0,), (76.0,), (76.0,), (76.0,), (76.0,), (76.0,), (76.0,), (76.0,), (76.0,), (76.0,), (76.0,), (76.0,), (76.0,), (76.0,), (76.0,), (76.0,), (76.0,), (76.0,), (76.0,), (76.0,), (76.0,), (76.0,), (76.0,), (76.0,), (76.0,), (76.0,), (76.0,), (76.0,), (76.0,), (76.0,), (76.0,), (76.0,), (76.0,), (76.0,), (76.0,), (76.0,), (76.0,), (76.0,), (76.0,), (76.0,), (76.0,), (76.0,), (76.0,), (76.0,), (76.0,), (76.0,), (76.0,), (76.0,), (76.0,), (76.0,), (76.0,), (76.0,), (76.0,), (76.0,), (76.0,), (76.0,), (76.0,), (76.0,), (76.0,), (76.0,), (76.0,), (76.0,), (76.0,), (76.0,), (76.0,), (76.0,), (76.0,), (76.0,), (76.0,), (76.0,), (76.0,), (76.0,), (76.0,), (76.0,), (76.0,), (76.0,), (76.0,), (76.0,), (76.0,), (76.0,), (76.0,), (76.0,), (76.0,), (76.0,), (76.0,), (76.0,), (76.0,), (76.0,), (76.0,), (76.0,), (76.0,), (76.0,), (76.0,), (76.0,), (76.0,), (76.0,), (76.0,), (76.0,), (76.0,), (76.0,), (76.0,), (76.0,), (76.0,), (76.0,), (76.0,), (76.0,), (76.0,), (76.0,), (76.0,), (76.0,), (76.0,), (76.0,), (76.0,), (76.0,), (76.0,), (76.0,), (76.0,), (76.0,), (76.0,), (76.0,), (76.0,), (76.0,), (76.0,), (76.0,), (76.0,), (76.0,), (76.0,), (76.0,), (76.0,), (76.0,), (76.0,), (76.0,), (76.0,), (76.0,), (76.0,), (76.0,), (76.0,), (76.0,), (76.0,), (76.0,), (76.0,), (76.0,), (76.0,), (76.0,), (76.0,), (76.0,), (76.0,), (76.0,), (76.0,), (76.0,), (76.0,), (76.0,), (76.0,), (76.0,), (76.0,), (76.0,), (76.0,), (76.0,), (76.0,), (76.0,), (76.0,), (76.0,), (76.0,), (76.0,), (76.0,), (76.0,), (76.0,), (76.0,), (76.0,), (76.0,), (76.0,), (76.0,), (76.0,), (76.0,), (76.0,), (76.0,), (76.0,), (76.0,), (76.0,), (76.0,), (76.0,), (76.0,), (76.0,), (76.0,), (76.0,), (76.0,), (76.0,), (76.0,), (76.0,), (76.0,), (76.0,), (76.0,), (76.0,), (76.0,), (76.0,), (76.0,), (76.0,), (76.0,), (76.0,), (76.0,), (76.0,), (76.0,), (76.0,), (76.0,), (76.0,), (76.0,), (76.0,), (76.0,), (76.0,), (76.0,), (76.0,), (76.0,), (76.0,), (76.0,), (76.0,), (76.0,), (76.0,), (76.0,), (76.0,), (76.0,), (76.0,), (76.0,), (76.0,), (76.0,), (76.0,), (76.0,), (76.0,), (76.0,), (76.0,), (76.0,), (76.0,), (76.0,), (76.0,), (76.0,), (76.0,), (76.0,), (76.0,), (76.0,), (76.0,), (76.0,), (76.0,), (76.0,), (76.0,), (76.0,), (76.0,), (76.0,), (76.0,), (76.0,), (76.0,), (76.0,), (76.0,), (76.0,), (76.0,), (76.0,), (76.0,), (76.0,), (76.0,), (76.0,), (76.0,), (76.0,), (76.0,), (76.0,), (76.0,), (76.0,), (76.0,), (76.0,), (76.0,), (76.0,), (76.0,), (76.0,), (76.0,), (76.0,), (76.0,), (76.0,), (76.0,), (76.0,), (76.0,), (76.0,), (76.0,), (76.0,), (76.0,), (76.0,), (76.0,), (76.0,), (76.0,), (76.0,), (76.0,), (76.0,), (76.0,), (76.0,), (76.0,), (76.0,), (76.0,), (76.0,), (76.0,), (76.0,), (76.0,), (76.0,), (76.0,), (76.0,), (76.0,), (76.0,), (76.0,), (76.0,), (76.0,), (76.0,), (76.0,), (76.0,), (76.0,), (76.0,), (76.0,), (76.0,), (76.0,), (76.0,), (76.0,), (76.0,), (76.0,), (76.0,), (76.0,), (76.0,), (76.0,), (76.0,), (76.0,), (76.0,), (76.0,), (76.0,), (76.0,), (76.0,), (76.0,), (76.0,), (76.0,), (76.0,), (76.0,), (76.0,), (76.0,), (76.0,), (76.0,), (76.0,), (76.0,), (76.0,), (76.0,), (76.0,), (76.0,), (76.0,), (76.0,), (76.0,), (76.0,), (76.0,), (76.0,), (76.0,), (76.0,), (76.0,), (76.0,), (76.0,), (76.0,), (76.0,), (76.0,), (76.0,), (76.0,), (76.0,), (76.0,), (76.0,), (76.0,), (76.0,), (76.0,), (76.0,), (76.0,), (76.0,), (76.0,), (76.0,), (76.0,), (76.0,), (76.0,), (76.0,), (76.0,), (76.0,), (76.0,), (76.0,), (76.0,), (76.0,), (76.0,), (76.0,), (76.0,), (76.0,), (76.0,), (76.0,), (76.0,), (76.0,), (76.0,), (76.0,), (76.0,), (76.0,), (76.0,), (76.0,), (76.0,), (76.0,), (76.0,), (76.0,), (76.0,), (76.0,), (76.0,), (76.0,), (76.0,), (76.0,), (76.0,), (76.0,), (76.0,), (76.0,), (76.0,), (76.0,), (76.0,), (76.0,), (76.0,), (76.0,), (76.0,), (76.0,), (76.0,), (76.0,), (76.0,), (76.0,), (76.0,), (76.0,), (76.0,), (76.0,), (76.0,), (76.0,), (76.0,), (76.0,), (76.0,), (76.0,), (76.0,), (76.0,), (76.0,), (76.0,), (76.0,), (76.0,), (76.0,), (76.0,), (76.0,), (76.0,), (76.0,), (76.0,), (76.0,), (76.0,), (76.0,), (76.0,), (76.0,), (76.0,), (76.0,), (76.0,), (76.0,), (76.0,), (76.0,), (76.0,), (76.0,), (76.0,), (76.0,), (76.0,), (76.0,), (76.0,), (76.0,), (76.0,), (76.0,), (76.0,), (76.0,), (76.0,), (76.0,), (76.0,), (76.0,), (76.0,), (76.0,), (76.0,), (76.0,), (76.0,), (76.0,), (76.0,), (76.0,), (76.0,), (76.0,), (76.0,), (76.0,), (76.0,), (76.0,), (76.0,), (76.0,), (76.0,), (76.0,), (76.0,), (76.0,), (76.0,), (76.0,), (76.0,), (76.0,), (76.0,), (76.0,), (76.0,), (76.0,), (76.0,), (76.0,), (76.0,), (76.0,), (76.0,), (76.0,), (76.0,), (76.0,), (76.0,), (76.0,), (76.0,), (76.0,), (76.0,), (76.0,), (76.0,), (76.0,), (76.0,), (76.0,), (76.0,), (76.0,), (76.0,), (76.0,), (76.0,), (76.0,), (76.0,), (76.0,), (76.0,), (76.0,), (76.0,), (76.0,), (76.0,), (76.0,), (76.0,), (76.0,), (76.0,), (76.0,), (76.0,), (76.0,), (76.0,), (76.0,), (76.0,), (76.0,), (76.0,), (76.0,), (76.0,), (76.0,), (76.0,), (76.0,), (76.0,), (76.0,), (76.0,), (76.0,), (76.0,), (76.0,), (76.0,), (76.0,), (76.0,), (76.0,), (76.0,), (76.0,), (76.0,), (76.0,), (76.0,), (76.0,), (76.0,), (76.0,), (76.0,), (76.0,), (76.0,), (76.0,), (76.0,), (76.0,), (76.0,), (76.0,), (76.0,), (76.0,), (76.0,), (76.0,), (76.0,), (76.0,), (76.0,), (76.0,), (76.0,), (76.0,), (76.0,), (76.0,), (76.0,), (76.0,), (76.0,), (76.0,), (76.0,), (76.0,), (76.0,), (76.0,), (76.0,), (76.0,), (76.0,), (76.0,), (76.0,), (76.0,), (76.0,), (76.0,), (76.0,), (76.0,), (76.0,), (76.0,), (76.0,), (76.0,), (76.0,), (76.0,), (76.0,), (76.0,), (76.0,), (76.0,), (76.0,), (76.0,), (76.0,), (76.0,), (76.0,), (76.0,), (76.0,), (76.0,), (76.0,), (76.0,), (76.0,), (76.0,), (76.0,), (76.0,), (76.0,), (76.0,), (76.0,), (76.0,), (76.0,), (76.0,), (76.0,), (76.0,), (76.0,), (76.0,), (76.0,), (76.0,), (76.0,), (76.0,), (76.0,), (76.0,), (76.0,), (76.0,), (76.0,), (76.0,), (76.0,), (76.0,), (76.0,), (76.0,), (76.0,), (76.0,), (76.0,), (76.0,), (76.0,), (76.0,), (76.0,), (76.0,), (76.0,), (76.0,), (76.0,), (76.0,), (76.0,), (76.0,), (76.0,), (76.0,), (76.0,), (76.0,), (76.0,), (76.0,), (76.0,), (76.0,), (76.0,), (76.0,), (76.0,), (76.0,), (76.0,), (76.0,), (76.0,), (76.0,), (76.0,), (76.0,), (76.0,), (76.0,), (76.0,), (76.0,), (76.0,), (76.0,), (76.0,), (76.0,), (76.0,), (76.0,), (76.0,), (76.0,), (76.0,), (76.0,), (76.0,), (76.0,), (76.0,), (76.0,), (76.0,), (76.0,), (76.0,), (76.0,), (76.0,), (76.0,), (76.0,), (76.0,), (76.0,), (76.0,), (76.0,), (76.0,), (76.0,), (76.0,), (76.0,), (76.0,), (76.0,), (76.0,), (76.0,), (76.0,), (76.0,), (76.0,), (76.0,), (76.0,), (76.0,), (76.0,), (76.0,), (76.0,), (76.0,), (76.0,), (76.0,), (76.0,), (76.0,), (76.0,), (76.0,), (76.0,), (76.0,), (76.0,), (76.0,), (76.0,), (76.0,), (76.0,), (76.0,), (76.0,), (76.0,), (76.0,), (76.0,), (76.0,), (76.0,), (76.0,), (76.0,), (76.0,), (76.0,), (76.0,), (76.0,), (76.0,), (76.0,), (76.0,), (76.0,), (76.0,), (76.0,), (76.0,), (76.0,), (76.0,), (76.0,), (76.0,), (76.0,), (76.0,), (76.0,), (76.0,), (76.0,), (76.0,), (76.0,), (76.0,), (76.0,), (76.0,), (76.0,), (76.0,), (76.0,), (76.0,), (76.0,), (76.0,), (76.0,), (76.0,), (76.0,), (76.0,), (76.0,), (76.0,), (76.0,), (76.0,), (76.0,), (76.0,), (76.0,), (76.0,), (76.0,), (76.0,), (76.0,), (76.0,), (76.0,), (76.0,), (76.0,), (76.0,), (76.0,), (76.0,), (76.0,), (76.0,), (76.0,), (76.0,), (76.0,), (76.0,), (76.0,), (76.0,), (76.0,), (76.0,), (76.0,), (76.0,), (76.0,), (76.0,), (76.0,), (76.0,), (76.0,), (76.0,), (76.0,), (76.0,), (76.0,), (76.0,), (76.0,), (76.0,), (76.0,), (76.0,), (76.0,), (76.0,), (76.0,), (76.0,), (76.0,), (76.0,), (76.0,), (76.0,), (76.0,), (76.0,), (76.0,), (76.0,), (76.0,), (76.0,), (76.0,), (76.0,), (76.0,), (76.0,), (76.0,), (76.0,), (76.0,), (76.0,), (76.0,), (76.0,), (76.0,), (76.0,), (76.0,), (76.0,), (76.0,), (76.0,), (76.0,), (76.0,), (76.0,), (76.0,), (76.0,), (76.0,), (76.0,), (76.0,), (76.0,), (76.0,), (76.0,), (76.0,), (76.0,), (76.0,), (76.0,), (76.0,), (76.0,), (76.0,), (76.0,), (76.0,), (76.0,), (76.0,), (76.0,), (76.0,), (76.0,), (76.0,), (76.0,), (76.0,), (76.0,), (76.0,), (76.0,), (76.0,), (76.0,), (76.0,), (76.0,), (76.0,), (76.0,), (76.0,), (76.0,), (76.0,), (76.0,), (76.0,), (76.0,), (76.0,), (76.0,), (76.0,), (76.0,), (76.0,), (76.0,), (76.0,), (76.0,), (76.0,), (76.0,), (76.0,), (76.0,), (76.0,), (76.0,), (76.0,), (76.0,), (76.0,), (76.0,), (76.0,), (76.0,), (76.0,), (76.0,), (76.0,), (76.0,), (76.0,), (76.0,), (76.0,), (76.0,), (76.0,), (76.0,), (76.0,), (76.0,), (76.0,), (76.0,), (76.0,), (76.0,), (76.0,), (76.0,), (76.0,), (76.0,), (76.0,), (76.0,), (76.0,), (76.0,), (76.0,), (76.0,), (76.0,), (76.0,), (76.0,), (76.0,), (76.0,), (76.0,), (76.0,), (76.0,), (76.0,), (76.0,), (76.0,), (76.0,), (76.0,), (76.0,), (76.0,), (76.0,), (76.0,), (76.0,), (76.0,), (76.0,), (76.0,), (76.0,), (76.0,), (76.0,), (76.0,), (76.0,), (76.0,), (76.0,), (76.0,), (76.0,), (76.0,), (76.0,), (76.0,), (76.0,), (76.0,), (76.0,), (76.0,), (76.0,), (76.0,), (76.0,), (76.0,), (76.0,), (76.0,), (76.0,), (76.0,), (76.0,), (76.0,), (76.0,), (76.0,), (76.0,), (76.0,), (76.0,), (76.0,), (76.0,), (76.0,), (76.0,), (76.0,), (76.0,), (76.0,), (76.0,), (76.0,), (76.0,), (76.0,), (76.0,), (76.0,), (76.0,), (76.0,), (76.0,), (76.0,), (76.0,), (76.0,), (76.0,), (76.0,), (76.0,), (76.0,), (76.0,), (76.0,), (76.0,), (76.0,), (76.0,), (76.0,), (76.0,), (76.0,), (76.0,), (76.0,), (76.0,), (76.0,), (76.0,), (76.0,), (76.0,), (76.0,), (76.0,), (76.0,), (76.0,), (76.0,), (76.0,), (76.0,), (76.0,), (76.0,), (76.0,), (76.0,), (76.0,), (76.0,), (76.0,), (76.0,), (76.0,), (76.0,), (76.0,), (76.0,), (76.0,), (76.0,), (76.0,), (76.0,), (76.0,), (76.0,), (76.0,), (76.0,), (76.0,), (76.0,), (76.0,), (76.0,), (76.0,), (76.0,), (76.0,), (76.0,), (76.0,), (76.0,), (76.0,), (76.0,), (76.0,), (76.0,), (76.0,), (76.0,), (76.0,), (76.0,), (76.0,), (76.0,), (76.0,), (76.0,), (76.0,), (76.0,), (76.0,), (76.0,), (76.0,), (76.0,), (76.0,), (76.0,), (76.0,), (76.0,), (76.0,), (76.0,), (76.0,), (76.0,), (76.0,), (76.0,), (76.0,), (76.0,), (76.0,), (76.0,), (76.0,), (76.0,), (76.0,), (76.0,), (76.0,), (76.0,), (76.0,), (76.0,), (76.0,), (76.0,), (76.0,), (76.0,), (76.0,), (76.0,), (76.0,), (76.0,), (76.0,), (76.0,), (76.0,), (76.0,), (76.0,), (76.0,), (76.0,), (76.0,), (76.0,), (76.0,), (76.0,), (76.0,), (76.0,), (76.0,), (76.0,), (76.0,), (76.0,), (76.0,), (76.0,), (76.0,), (76.0,), (76.0,), (76.0,), (76.0,), (76.0,), (76.0,), (76.0,), (76.0,), (76.0,), (76.0,), (76.0,), (76.0,), (76.0,), (76.0,), (76.0,), (76.0,), (76.0,), (76.0,), (76.0,), (76.0,), (76.0,), (76.0,), (76.0,), (76.0,), (76.0,), (76.0,), (76.0,), (76.0,), (76.0,), (76.0,), (76.0,), (76.0,), (76.0,), (76.0,), (76.0,), (76.0,), (76.0,), (76.0,), (76.0,), (76.0,), (76.0,), (76.0,), (76.0,), (76.0,), (76.0,), (76.0,), (76.0,), (76.0,), (76.0,), (76.0,), (76.0,), (76.0,), (76.0,), (76.0,), (76.0,), (76.0,), (76.0,), (76.0,), (76.0,), (76.0,), (76.0,), (76.0,), (76.0,), (76.0,), (76.0,), (76.0,), (76.0,), (76.0,), (76.0,), (76.0,), (76.0,), (76.0,), (76.0,), (76.0,), (76.0,), (76.0,), (76.0,), (76.0,), (76.0,), (76.0,), (76.0,), (76.0,), (76.0,), (76.0,), (76.0,), (76.0,), (76.0,), (76.0,), (76.0,), (77.0,), (77.0,), (77.0,), (77.0,), (77.0,), (77.0,), (77.0,), (77.0,), (77.0,), (77.0,), (77.0,), (77.0,), (77.0,), (77.0,), (77.0,), (77.0,), (77.0,), (77.0,), (77.0,), (77.0,), (77.0,), (77.0,), (77.0,), (77.0,), (77.0,), (77.0,), (77.0,), (77.0,), (77.0,), (77.0,), (77.0,), (77.0,), (77.0,), (77.0,), (77.0,), (77.0,), (77.0,), (77.0,), (77.0,), (77.0,), (77.0,), (77.0,), (77.0,), (77.0,), (77.0,), (77.0,), (77.0,), (77.0,), (77.0,), (77.0,), (77.0,), (77.0,), (77.0,), (77.0,), (77.0,), (77.0,), (77.0,), (77.0,), (77.0,), (77.0,), (77.0,), (77.0,), (77.0,), (77.0,), (77.0,), (77.0,), (77.0,), (77.0,), (77.0,), (77.0,), (77.0,), (77.0,), (77.0,), (77.0,), (77.0,), (77.0,), (77.0,), (77.0,), (77.0,), (77.0,), (77.0,), (77.0,), (77.0,), (77.0,), (77.0,), (77.0,), (77.0,), (77.0,), (77.0,), (77.0,), (77.0,), (77.0,), (77.0,), (77.0,), (77.0,), (77.0,), (77.0,), (77.0,), (77.0,), (77.0,), (77.0,), (77.0,), (77.0,), (77.0,), (77.0,), (77.0,), (77.0,), (77.0,), (77.0,), (77.0,), (77.0,), (77.0,), (77.0,), (77.0,), (77.0,), (77.0,), (77.0,), (77.0,), (77.0,), (77.0,), (77.0,), (77.0,), (77.0,), (77.0,), (77.0,), (77.0,), (77.0,), (77.0,), (77.0,), (77.0,), (77.0,), (77.0,), (77.0,), (77.0,), (77.0,), (77.0,), (77.0,), (77.0,), (77.0,), (77.0,), (77.0,), (77.0,), (77.0,), (77.0,), (77.0,), (77.0,), (77.0,), (77.0,), (77.0,), (77.0,), (77.0,), (77.0,), (77.0,), (77.0,), (77.0,), (77.0,), (77.0,), (77.0,), (77.0,), (77.0,), (77.0,), (77.0,), (77.0,), (77.0,), (77.0,), (77.0,), (77.0,), (77.0,), (77.0,), (77.0,), (77.0,), (77.0,), (77.0,), (77.0,), (77.0,), (77.0,), (77.0,), (77.0,), (77.0,), (77.0,), (77.0,), (77.0,), (77.0,), (77.0,), (77.0,), (77.0,), (77.0,), (77.0,), (77.0,), (77.0,), (77.0,), (77.0,), (77.0,), (77.0,), (77.0,), (77.0,), (77.0,), (77.0,), (77.0,), (77.0,), (77.0,), (77.0,), (77.0,), (77.0,), (77.0,), (77.0,), (77.0,), (77.0,), (77.0,), (77.0,), (77.0,), (77.0,), (77.0,), (77.0,), (77.0,), (77.0,), (77.0,), (77.0,), (77.0,), (77.0,), (77.0,), (77.0,), (77.0,), (77.0,), (77.0,), (77.0,), (77.0,), (77.0,), (77.0,), (77.0,), (77.0,), (77.0,), (77.0,), (77.0,), (77.0,), (77.0,), (77.0,), (77.0,), (77.0,), (77.0,), (77.0,), (77.0,), (77.0,), (77.0,), (77.0,), (77.0,), (77.0,), (77.0,), (77.0,), (77.0,), (77.0,), (77.0,), (77.0,), (77.0,), (77.0,), (77.0,), (77.0,), (77.0,), (77.0,), (77.0,), (77.0,), (77.0,), (77.0,), (77.0,), (77.0,), (77.0,), (77.0,), (77.0,), (77.0,), (77.0,), (77.0,), (77.0,), (77.0,), (77.0,), (77.0,), (77.0,), (77.0,), (77.0,), (77.0,), (77.0,), (77.0,), (77.0,), (77.0,), (77.0,), (77.0,), (77.0,), (77.0,), (77.0,), (77.0,), (77.0,), (77.0,), (77.0,), (77.0,), (77.0,), (77.0,), (77.0,), (77.0,), (77.0,), (77.0,), (77.0,), (77.0,), (77.0,), (77.0,), (77.0,), (77.0,), (77.0,), (77.0,), (77.0,), (77.0,), (77.0,), (77.0,), (77.0,), (77.0,), (77.0,), (77.0,), (77.0,), (77.0,), (77.0,), (77.0,), (77.0,), (77.0,), (77.0,), (77.0,), (77.0,), (77.0,), (77.0,), (77.0,), (77.0,), (77.0,), (77.0,), (77.0,), (77.0,), (77.0,), (77.0,), (77.0,), (77.0,), (77.0,), (77.0,), (77.0,), (77.0,), (77.0,), (77.0,), (77.0,), (77.0,), (77.0,), (77.0,), (77.0,), (77.0,), (77.0,), (77.0,), (77.0,), (77.0,), (77.0,), (77.0,), (77.0,), (77.0,), (77.0,), (77.0,), (77.0,), (77.0,), (77.0,), (77.0,), (77.0,), (77.0,), (77.0,), (77.0,), (77.0,), (77.0,), (77.0,), (77.0,), (77.0,), (77.0,), (77.0,), (77.0,), (77.0,), (77.0,), (77.0,), (77.0,), (77.0,), (77.0,), (77.0,), (77.0,), (77.0,), (77.0,), (77.0,), (77.0,), (77.0,), (77.0,), (77.0,), (77.0,), (77.0,), (77.0,), (77.0,), (77.0,), (77.0,), (77.0,), (77.0,), (77.0,), (77.0,), (77.0,), (77.0,), (77.0,), (77.0,), (77.0,), (77.0,), (77.0,), (77.0,), (77.0,), (77.0,), (77.0,), (77.0,), (77.0,), (77.0,), (77.0,), (77.0,), (77.0,), (77.0,), (77.0,), (77.0,), (77.0,), (77.0,), (77.0,), (77.0,), (77.0,), (77.0,), (77.0,), (77.0,), (77.0,), (77.0,), (77.0,), (77.0,), (77.0,), (77.0,), (77.0,), (77.0,), (77.0,), (77.0,), (77.0,), (77.0,), (77.0,), (77.0,), (77.0,), (77.0,), (77.0,), (77.0,), (77.0,), (77.0,), (77.0,), (77.0,), (77.0,), (77.0,), (77.0,), (77.0,), (77.0,), (77.0,), (77.0,), (77.0,), (77.0,), (77.0,), (77.0,), (77.0,), (77.0,), (77.0,), (77.0,), (77.0,), (77.0,), (77.0,), (77.0,), (77.0,), (77.0,), (77.0,), (77.0,), (77.0,), (77.0,), (77.0,), (77.0,), (77.0,), (77.0,), (77.0,), (77.0,), (77.0,), (77.0,), (77.0,), (77.0,), (77.0,), (77.0,), (77.0,), (77.0,), (77.0,), (77.0,), (77.0,), (77.0,), (77.0,), (77.0,), (77.0,), (77.0,), (77.0,), (77.0,), (77.0,), (77.0,), (77.0,), (77.0,), (77.0,), (77.0,), (77.0,), (77.0,), (77.0,), (77.0,), (77.0,), (77.0,), (77.0,), (77.0,), (77.0,), (77.0,), (77.0,), (77.0,), (77.0,), (77.0,), (77.0,), (77.0,), (77.0,), (77.0,), (77.0,), (77.0,), (77.0,), (77.0,), (77.0,), (77.0,), (77.0,), (77.0,), (77.0,), (77.0,), (77.0,), (77.0,), (77.0,), (77.0,), (77.0,), (77.0,), (77.0,), (77.0,), (77.0,), (77.0,), (77.0,), (77.0,), (77.0,), (77.0,), (77.0,), (77.0,), (77.0,), (77.0,), (77.0,), (77.0,), (77.0,), (77.0,), (77.0,), (77.0,), (77.0,), (77.0,), (77.0,), (77.0,), (77.0,), (77.0,), (77.0,), (77.0,), (77.0,), (77.0,), (77.0,), (77.0,), (77.0,), (77.0,), (77.0,), (77.0,), (77.0,), (77.0,), (77.0,), (77.0,), (77.0,), (77.0,), (77.0,), (77.0,), (77.0,), (77.0,), (77.0,), (77.0,), (77.0,), (77.0,), (77.0,), (77.0,), (77.0,), (77.0,), (77.0,), (77.0,), (77.0,), (77.0,), (77.0,), (77.0,), (77.0,), (77.0,), (77.0,), (77.0,), (77.0,), (77.0,), (77.0,), (77.0,), (77.0,), (77.0,), (77.0,), (77.0,), (77.0,), (77.0,), (77.0,), (77.0,), (77.0,), (77.0,), (77.0,), (77.0,), (77.0,), (77.0,), (77.0,), (77.0,), (77.0,), (77.0,), (77.0,), (77.0,), (77.0,), (77.0,), (77.0,), (77.0,), (77.0,), (77.0,), (77.0,), (77.0,), (77.0,), (77.0,), (77.0,), (77.0,), (77.0,), (77.0,), (77.0,), (77.0,), (77.0,), (77.0,), (77.0,), (77.0,), (77.0,), (77.0,), (77.0,), (77.0,), (77.0,), (77.0,), (77.0,), (77.0,), (77.0,), (77.0,), (77.0,), (77.0,), (77.0,), (77.0,), (77.0,), (77.0,), (77.0,), (77.0,), (77.0,), (77.0,), (77.0,), (77.0,), (77.0,), (77.0,), (77.0,), (77.0,), (77.0,), (77.0,), (77.0,), (77.0,), (77.0,), (77.0,), (77.0,), (77.0,), (77.0,), (77.0,), (77.0,), (77.0,), (77.0,), (77.0,), (77.0,), (77.0,), (77.0,), (77.0,), (77.0,), (77.0,), (77.0,), (77.0,), (77.0,), (77.0,), (77.0,), (77.0,), (77.0,), (77.0,), (77.0,), (77.0,), (77.0,), (77.0,), (77.0,), (77.0,), (77.0,), (77.0,), (77.0,), (77.0,), (77.0,), (77.0,), (77.0,), (77.0,), (77.0,), (77.0,), (77.0,), (77.0,), (77.0,), (77.0,), (77.0,), (77.0,), (77.0,), (77.0,), (77.0,), (77.0,), (77.0,), (77.0,), (77.0,), (77.0,), (77.0,), (77.0,), (77.0,), (77.0,), (77.0,), (77.0,), (77.0,), (77.0,), (77.0,), (77.0,), (77.0,), (77.0,), (77.0,), (77.0,), (77.0,), (77.0,), (77.0,), (77.0,), (77.0,), (77.0,), (77.0,), (77.0,), (77.0,), (77.0,), (77.0,), (77.0,), (77.0,), (77.0,), (77.0,), (77.0,), (77.0,), (77.0,), (77.0,), (77.0,), (77.0,), (77.0,), (77.0,), (77.0,), (77.0,), (77.0,), (77.0,), (77.0,), (77.0,), (77.0,), (77.0,), (77.0,), (77.0,), (77.0,), (77.0,), (77.0,), (77.0,), (77.0,), (77.0,), (77.0,), (77.0,), (77.0,), (77.0,), (77.0,), (77.0,), (77.0,), (77.0,), (77.0,), (77.0,), (77.0,), (77.0,), (77.0,), (77.0,), (77.0,), (77.0,), (77.0,), (77.0,), (77.0,), (77.0,), (77.0,), (77.0,), (77.0,), (77.0,), (77.0,), (77.0,), (77.0,), (77.0,), (77.0,), (77.0,), (77.0,), (77.0,), (77.0,), (77.0,), (77.0,), (77.0,), (77.0,), (77.0,), (77.0,), (77.0,), (77.0,), (77.0,), (77.0,), (77.0,), (77.0,), (77.0,), (77.0,), (77.0,), (77.0,), (77.0,), (77.0,), (77.0,), (77.0,), (77.0,), (77.0,), (77.0,), (77.0,), (77.0,), (77.0,), (77.0,), (77.0,), (77.0,), (77.0,), (77.0,), (77.0,), (77.0,), (77.0,), (77.0,), (77.0,), (77.0,), (77.0,), (77.0,), (77.0,), (77.0,), (77.0,), (77.0,), (77.0,), (77.0,), (77.0,), (77.0,), (77.0,), (77.0,), (77.0,), (77.0,), (77.0,), (77.0,), (77.0,), (77.0,), (77.0,), (77.0,), (77.0,), (77.0,), (77.0,), (77.0,), (77.0,), (77.0,), (77.0,), (77.0,), (77.0,), (77.0,), (77.0,), (77.0,), (77.0,), (77.0,), (77.0,), (77.0,), (77.0,), (77.0,), (77.0,), (77.0,), (77.0,), (77.0,), (77.0,), (77.0,), (77.0,), (77.0,), (77.0,), (77.0,), (77.0,), (77.0,), (77.0,), (77.0,), (77.0,), (77.0,), (77.0,), (77.0,), (77.0,), (77.0,), (77.0,), (77.0,), (77.0,), (77.0,), (77.0,), (77.0,), (77.0,), (77.0,), (77.0,), (77.0,), (77.0,), (77.0,), (77.0,), (77.0,), (77.0,), (77.0,), (77.0,), (77.0,), (77.0,), (77.0,), (77.0,), (77.0,), (77.0,), (77.0,), (77.0,), (77.0,), (77.0,), (77.0,), (77.0,), (77.0,), (77.0,), (77.0,), (77.0,), (77.0,), (77.0,), (77.0,), (77.0,), (77.0,), (77.0,), (77.0,), (77.0,), (77.0,), (77.0,), (77.0,), (77.0,), (77.0,), (77.0,), (77.0,), (77.0,), (77.0,), (77.0,), (77.0,), (77.0,), (77.0,), (77.0,), (77.0,), (77.0,), (77.0,), (77.0,), (77.0,), (77.0,), (77.0,), (77.0,), (77.0,), (77.0,), (77.0,), (77.0,), (77.0,), (77.0,), (77.0,), (77.0,), (77.0,), (77.0,), (77.0,), (77.0,), (77.0,), (77.0,), (77.0,), (77.0,), (77.0,), (77.0,), (77.0,), (77.0,), (77.0,), (77.0,), (77.0,), (77.0,), (77.0,), (77.0,), (77.0,), (77.0,), (77.0,), (77.0,), (77.0,), (77.0,), (77.0,), (77.0,), (77.0,), (77.0,), (77.0,), (77.0,), (77.0,), (77.0,), (77.0,), (77.0,), (77.0,), (77.0,), (77.0,), (77.0,), (77.0,), (77.0,), (77.0,), (77.0,), (77.0,), (77.0,), (77.0,), (77.0,), (77.0,), (77.0,), (77.0,), (77.0,), (77.0,), (77.0,), (77.0,), (77.0,), (77.0,), (77.0,), (77.0,), (77.0,), (77.0,), (77.0,), (77.0,), (77.0,), (77.0,), (77.0,), (77.0,), (77.0,), (77.0,), (77.0,), (77.0,), (77.0,), (77.0,), (77.0,), (77.0,), (77.0,), (77.0,), (77.0,), (77.0,), (77.0,), (77.0,), (77.0,), (77.0,), (77.0,), (77.0,), (77.0,), (77.0,), (77.0,), (77.0,), (77.0,), (77.0,), (77.0,), (77.0,), (77.0,), (77.0,), (77.0,), (77.0,), (77.0,), (77.0,), (77.0,), (77.0,), (77.0,), (77.0,), (77.0,), (77.0,), (77.0,), (77.0,), (77.0,), (77.0,), (77.0,), (77.0,), (77.0,), (77.0,), (77.0,), (77.0,), (77.0,), (77.0,), (77.0,), (77.0,), (77.0,), (77.0,), (77.0,), (77.0,), (77.0,), (77.0,), (77.0,), (77.0,), (77.0,), (77.0,), (77.0,), (77.0,), (77.0,), (77.0,), (77.0,), (77.0,), (77.0,), (77.0,), (77.0,), (77.0,), (77.0,), (77.0,), (77.0,), (77.0,), (77.0,), (77.0,), (77.0,), (77.0,), (77.0,), (77.0,), (77.0,), (77.0,), (77.0,), (77.0,), (77.0,), (77.0,), (77.0,), (77.0,), (77.0,), (77.0,), (77.0,), (77.0,), (77.0,), (77.0,), (77.0,), (77.0,), (77.0,), (77.0,), (77.0,), (77.0,), (77.0,), (77.0,), (77.0,), (77.0,), (77.0,), (77.0,), (77.0,), (77.0,), (77.0,), (77.0,), (77.0,), (77.0,), (77.0,), (77.0,), (77.0,), (77.0,), (77.0,), (77.0,), (77.0,), (77.0,), (77.0,), (77.0,), (77.0,), (77.0,), (77.0,), (77.0,), (77.0,), (77.0,), (77.0,), (77.0,), (77.0,), (77.0,), (77.0,), (77.0,), (77.0,), (77.0,), (77.0,), (77.0,), (77.0,), (77.0,), (77.0,), (77.0,), (77.0,), (77.0,), (77.0,), (77.0,), (77.0,), (77.0,), (77.0,), (77.0,), (77.0,), (77.0,), (77.0,), (77.0,), (77.0,), (77.0,), (77.0,), (77.0,), (77.0,), (77.0,), (77.0,), (77.0,), (77.0,), (77.0,), (77.0,), (77.0,), (77.0,), (77.0,), (77.0,), (77.0,), (77.0,), (77.0,), (77.0,), (77.0,), (77.0,), (77.0,), (77.0,), (77.0,), (77.0,), (77.0,), (77.0,), (77.0,), (77.0,), (77.0,), (77.0,), (77.0,), (77.0,), (77.0,), (77.0,), (77.0,), (77.0,), (77.0,), (77.0,), (77.0,), (77.0,), (77.0,), (77.0,), (77.0,), (77.0,), (77.0,), (77.0,), (77.0,), (77.0,), (77.0,), (77.0,), (77.0,), (77.0,), (77.0,), (77.0,), (77.0,), (77.0,), (77.0,), (77.0,), (77.0,), (77.0,), (77.0,), (77.0,), (77.0,), (77.0,), (77.0,), (77.0,), (77.0,), (77.0,), (77.0,), (77.0,), (77.0,), (77.0,), (77.0,), (77.0,), (77.0,), (77.0,), (77.0,), (77.0,), (77.0,), (77.0,), (77.0,), (77.0,), (77.0,), (77.0,), (77.0,), (77.0,), (77.0,), (77.0,), (77.0,), (77.0,), (77.0,), (77.0,), (77.0,), (77.0,), (77.0,), (77.0,), (77.0,), (77.0,), (77.0,), (77.0,), (77.0,), (77.0,), (77.0,), (77.0,), (77.0,), (77.0,), (77.0,), (77.0,), (77.0,), (77.0,), (77.0,), (77.0,), (77.0,), (77.0,), (77.0,), (77.0,), (77.0,), (77.0,), (77.0,), (77.0,), (77.0,), (77.0,), (77.0,), (77.0,), (77.0,), (77.0,), (77.0,), (77.0,), (77.0,), (77.0,), (77.0,), (77.0,), (77.0,), (77.0,), (77.0,), (77.0,), (77.0,), (77.0,), (77.0,), (77.0,), (77.0,), (77.0,), (77.0,), (77.0,), (77.0,), (77.0,), (77.0,), (77.0,), (77.0,), (77.0,), (77.0,), (77.0,), (77.0,), (77.0,), (77.0,), (77.0,), (77.0,), (77.0,), (77.0,), (77.0,), (77.0,), (77.0,), (77.0,), (77.0,), (77.0,), (77.0,), (77.0,), (77.0,), (77.0,), (77.0,), (77.0,), (77.0,), (77.0,), (78.0,), (78.0,), (78.0,), (78.0,), (78.0,), (78.0,), (78.0,), (78.0,), (78.0,), (78.0,), (78.0,), (78.0,), (78.0,), (78.0,), (78.0,), (78.0,), (78.0,), (78.0,), (78.0,), (78.0,), (78.0,), (78.0,), (78.0,), (78.0,), (78.0,), (78.0,), (78.0,), (78.0,), (78.0,), (78.0,), (78.0,), (78.0,), (78.0,), (78.0,), (78.0,), (78.0,), (78.0,), (78.0,), (78.0,), (78.0,), (78.0,), (78.0,), (78.0,), (78.0,), (78.0,), (78.0,), (78.0,), (78.0,), (78.0,), (78.0,), (78.0,), (78.0,), (78.0,), (78.0,), (78.0,), (78.0,), (78.0,), (78.0,), (78.0,), (78.0,), (78.0,), (78.0,), (78.0,), (78.0,), (78.0,), (78.0,), (78.0,), (78.0,), (78.0,), (78.0,), (78.0,), (78.0,), (78.0,), (78.0,), (78.0,), (78.0,), (78.0,), (78.0,), (78.0,), (78.0,), (78.0,), (78.0,), (78.0,), (78.0,), (78.0,), (78.0,), (78.0,), (78.0,), (78.0,), (78.0,), (78.0,), (78.0,), (78.0,), (78.0,), (78.0,), (78.0,), (78.0,), (78.0,), (78.0,), (78.0,), (78.0,), (78.0,), (78.0,), (78.0,), (78.0,), (78.0,), (78.0,), (78.0,), (78.0,), (78.0,), (78.0,), (78.0,), (78.0,), (78.0,), (78.0,), (78.0,), (78.0,), (78.0,), (78.0,), (78.0,), (78.0,), (78.0,), (78.0,), (78.0,), (78.0,), (78.0,), (78.0,), (78.0,), (78.0,), (78.0,), (78.0,), (78.0,), (78.0,), (78.0,), (78.0,), (78.0,), (78.0,), (78.0,), (78.0,), (78.0,), (78.0,), (78.0,), (78.0,), (78.0,), (78.0,), (78.0,), (78.0,), (78.0,), (78.0,), (78.0,), (78.0,), (78.0,), (78.0,), (78.0,), (78.0,), (78.0,), (78.0,), (78.0,), (78.0,), (78.0,), (78.0,), (78.0,), (78.0,), (78.0,), (78.0,), (78.0,), (78.0,), (78.0,), (78.0,), (78.0,), (78.0,), (78.0,), (78.0,), (78.0,), (78.0,), (78.0,), (78.0,), (78.0,), (78.0,), (78.0,), (78.0,), (78.0,), (78.0,), (78.0,), (78.0,), (78.0,), (78.0,), (78.0,), (78.0,), (78.0,), (78.0,), (78.0,), (78.0,), (78.0,), (78.0,), (78.0,), (78.0,), (78.0,), (78.0,), (78.0,), (78.0,), (78.0,), (78.0,), (78.0,), (78.0,), (78.0,), (78.0,), (78.0,), (78.0,), (78.0,), (78.0,), (78.0,), (78.0,), (78.0,), (78.0,), (78.0,), (78.0,), (78.0,), (78.0,), (78.0,), (78.0,), (78.0,), (78.0,), (78.0,), (78.0,), (78.0,), (78.0,), (78.0,), (78.0,), (78.0,), (78.0,), (78.0,), (78.0,), (78.0,), (78.0,), (78.0,), (78.0,), (78.0,), (78.0,), (78.0,), (78.0,), (78.0,), (78.0,), (78.0,), (78.0,), (78.0,), (78.0,), (78.0,), (78.0,), (78.0,), (78.0,), (78.0,), (78.0,), (78.0,), (78.0,), (78.0,), (78.0,), (78.0,), (78.0,), (78.0,), (78.0,), (78.0,), (78.0,), (78.0,), (78.0,), (78.0,), (78.0,), (78.0,), (78.0,), (78.0,), (78.0,), (78.0,), (78.0,), (78.0,), (78.0,), (78.0,), (78.0,), (78.0,), (78.0,), (78.0,), (78.0,), (78.0,), (78.0,), (78.0,), (78.0,), (78.0,), (78.0,), (78.0,), (78.0,), (78.0,), (78.0,), (78.0,), (78.0,), (78.0,), (78.0,), (78.0,), (78.0,), (78.0,), (78.0,), (78.0,), (78.0,), (78.0,), (78.0,), (78.0,), (78.0,), (78.0,), (78.0,), (78.0,), (78.0,), (78.0,), (78.0,), (78.0,), (78.0,), (78.0,), (78.0,), (78.0,), (78.0,), (78.0,), (78.0,), (78.0,), (78.0,), (78.0,), (78.0,), (78.0,), (78.0,), (78.0,), (78.0,), (78.0,), (78.0,), (78.0,), (78.0,), (78.0,), (78.0,), (78.0,), (78.0,), (78.0,), (78.0,), (78.0,), (78.0,), (78.0,), (78.0,), (78.0,), (78.0,), (78.0,), (78.0,), (78.0,), (78.0,), (78.0,), (78.0,), (78.0,), (78.0,), (78.0,), (78.0,), (78.0,), (78.0,), (78.0,), (78.0,), (78.0,), (78.0,), (78.0,), (78.0,), (78.0,), (78.0,), (78.0,), (78.0,), (78.0,), (78.0,), (78.0,), (78.0,), (78.0,), (78.0,), (78.0,), (78.0,), (78.0,), (78.0,), (78.0,), (78.0,), (78.0,), (78.0,), (78.0,), (78.0,), (78.0,), (78.0,), (78.0,), (78.0,), (78.0,), (78.0,), (78.0,), (78.0,), (78.0,), (78.0,), (78.0,), (78.0,), (78.0,), (78.0,), (78.0,), (78.0,), (78.0,), (78.0,), (78.0,), (78.0,), (78.0,), (78.0,), (78.0,), (78.0,), (78.0,), (78.0,), (78.0,), (78.0,), (78.0,), (78.0,), (78.0,), (78.0,), (78.0,), (78.0,), (78.0,), (78.0,), (78.0,), (78.0,), (78.0,), (78.0,), (78.0,), (78.0,), (78.0,), (78.0,), (78.0,), (78.0,), (78.0,), (78.0,), (78.0,), (78.0,), (78.0,), (78.0,), (78.0,), (78.0,), (78.0,), (78.0,), (78.0,), (78.0,), (78.0,), (78.0,), (78.0,), (78.0,), (78.0,), (78.0,), (78.0,), (78.0,), (78.0,), (78.0,), (78.0,), (78.0,), (78.0,), (78.0,), (78.0,), (78.0,), (78.0,), (78.0,), (78.0,), (78.0,), (78.0,), (78.0,), (78.0,), (78.0,), (78.0,), (78.0,), (78.0,), (78.0,), (78.0,), (78.0,), (78.0,), (78.0,), (78.0,), (78.0,), (78.0,), (78.0,), (78.0,), (78.0,), (78.0,), (78.0,), (78.0,), (78.0,), (78.0,), (78.0,), (78.0,), (78.0,), (78.0,), (78.0,), (78.0,), (78.0,), (78.0,), (78.0,), (78.0,), (78.0,), (78.0,), (78.0,), (78.0,), (78.0,), (78.0,), (78.0,), (78.0,), (78.0,), (78.0,), (78.0,), (78.0,), (78.0,), (78.0,), (78.0,), (78.0,), (78.0,), (78.0,), (78.0,), (78.0,), (78.0,), (78.0,), (78.0,), (78.0,), (78.0,), (78.0,), (78.0,), (78.0,), (78.0,), (78.0,), (78.0,), (78.0,), (78.0,), (78.0,), (78.0,), (78.0,), (78.0,), (78.0,), (78.0,), (78.0,), (78.0,), (78.0,), (78.0,), (78.0,), (78.0,), (78.0,), (78.0,), (78.0,), (78.0,), (78.0,), (78.0,), (78.0,), (78.0,), (78.0,), (78.0,), (78.0,), (78.0,), (78.0,), (78.0,), (78.0,), (78.0,), (78.0,), (78.0,), (78.0,), (78.0,), (78.0,), (78.0,), (78.0,), (78.0,), (78.0,), (78.0,), (78.0,), (78.0,), (78.0,), (78.0,), (78.0,), (78.0,), (78.0,), (78.0,), (78.0,), (78.0,), (78.0,), (78.0,), (78.0,), (78.0,), (78.0,), (78.0,), (78.0,), (78.0,), (78.0,), (78.0,), (78.0,), (78.0,), (78.0,), (78.0,), (78.0,), (78.0,), (78.0,), (78.0,), (78.0,), (78.0,), (78.0,), (78.0,), (78.0,), (78.0,), (78.0,), (78.0,), (78.0,), (78.0,), (78.0,), (78.0,), (78.0,), (78.0,), (78.0,), (78.0,), (78.0,), (78.0,), (78.0,), (78.0,), (78.0,), (78.0,), (78.0,), (78.0,), (78.0,), (78.0,), (78.0,), (78.0,), (78.0,), (78.0,), (78.0,), (78.0,), (78.0,), (78.0,), (78.0,), (78.0,), (78.0,), (78.0,), (78.0,), (78.0,), (78.0,), (78.0,), (78.0,), (78.0,), (78.0,), (78.0,), (78.0,), (78.0,), (78.0,), (78.0,), (78.0,), (78.0,), (78.0,), (78.0,), (78.0,), (78.0,), (78.0,), (78.0,), (78.0,), (78.0,), (78.0,), (78.0,), (78.0,), (78.0,), (78.0,), (78.0,), (78.0,), (78.0,), (78.0,), (78.0,), (78.0,), (78.0,), (78.0,), (78.0,), (78.0,), (78.0,), (78.0,), (78.0,), (78.0,), (78.0,), (78.0,), (78.0,), (78.0,), (78.0,), (78.0,), (78.0,), (78.0,), (78.0,), (78.0,), (78.0,), (78.0,), (78.0,), (78.0,), (78.0,), (78.0,), (78.0,), (78.0,), (78.0,), (78.0,), (78.0,), (78.0,), (78.0,), (78.0,), (78.0,), (78.0,), (78.0,), (78.0,), (78.0,), (78.0,), (78.0,), (78.0,), (78.0,), (78.0,), (78.0,), (78.0,), (78.0,), (78.0,), (78.0,), (78.0,), (78.0,), (78.0,), (78.0,), (78.0,), (78.0,), (78.0,), (78.0,), (78.0,), (78.0,), (78.0,), (78.0,), (78.0,), (78.0,), (78.0,), (78.0,), (78.0,), (78.0,), (78.0,), (78.0,), (78.0,), (78.0,), (78.0,), (78.0,), (78.0,), (78.0,), (78.0,), (78.0,), (78.0,), (78.0,), (78.0,), (78.0,), (78.0,), (78.0,), (78.0,), (78.0,), (78.0,), (78.0,), (78.0,), (78.0,), (78.0,), (78.0,), (78.0,), (78.0,), (78.0,), (78.0,), (78.0,), (78.0,), (78.0,), (78.0,), (78.0,), (78.0,), (78.0,), (78.0,), (78.0,), (78.0,), (78.0,), (78.0,), (78.0,), (78.0,), (78.0,), (78.0,), (78.0,), (78.0,), (78.0,), (78.0,), (78.0,), (78.0,), (78.0,), (78.0,), (78.0,), (78.0,), (78.0,), (78.0,), (78.0,), (78.0,), (78.0,), (78.0,), (78.0,), (78.0,), (78.0,), (78.0,), (78.0,), (78.0,), (78.0,), (78.0,), (78.0,), (78.0,), (78.0,), (78.0,), (78.0,), (78.0,), (78.0,), (78.0,), (78.0,), (78.0,), (78.0,), (78.0,), (78.0,), (78.0,), (78.0,), (78.0,), (78.0,), (78.0,), (78.0,), (78.0,), (78.0,), (78.0,), (78.0,), (78.0,), (78.0,), (78.0,), (78.0,), (78.0,), (78.0,), (78.0,), (78.0,), (78.0,), (78.0,), (78.0,), (78.0,), (78.0,), (78.0,), (78.0,), (78.0,), (78.0,), (78.0,), (78.0,), (78.0,), (78.0,), (78.0,), (78.0,), (78.0,), (78.0,), (78.0,), (78.0,), (78.0,), (78.0,), (78.0,), (78.0,), (78.0,), (78.0,), (78.0,), (78.0,), (78.0,), (78.0,), (78.0,), (78.0,), (78.0,), (78.0,), (78.0,), (78.0,), (78.0,), (78.0,), (78.0,), (78.0,), (78.0,), (78.0,), (78.0,), (78.0,), (78.0,), (78.0,), (78.0,), (78.0,), (78.0,), (78.0,), (78.0,), (78.0,), (78.0,), (78.0,), (78.0,), (78.0,), (78.0,), (78.0,), (78.0,), (78.0,), (78.0,), (78.0,), (78.0,), (78.0,), (78.0,), (78.0,), (78.0,), (78.0,), (78.0,), (78.0,), (78.0,), (78.0,), (78.0,), (78.0,), (78.0,), (78.0,), (78.0,), (78.0,), (78.0,), (78.0,), (78.0,), (78.0,), (78.0,), (78.0,), (78.0,), (78.0,), (78.0,), (78.0,), (78.0,), (78.0,), (78.0,), (78.0,), (78.0,), (78.0,), (78.0,), (78.0,), (78.0,), (78.0,), (78.0,), (78.0,), (78.0,), (78.0,), (78.0,), (78.0,), (78.0,), (78.0,), (78.0,), (78.0,), (78.0,), (78.0,), (78.0,), (78.0,), (78.0,), (78.0,), (78.0,), (78.0,), (78.0,), (78.0,), (78.0,), (78.0,), (78.0,), (78.0,), (78.0,), (78.0,), (78.0,), (78.0,), (78.0,), (78.0,), (78.0,), (78.0,), (78.0,), (78.0,), (78.0,), (78.0,), (78.0,), (78.0,), (78.0,), (78.0,), (78.0,), (78.0,), (78.0,), (78.0,), (78.0,), (78.0,), (78.0,), (78.0,), (78.0,), (78.0,), (78.0,), (78.0,), (78.0,), (78.0,), (78.0,), (78.0,), (78.0,), (78.0,), (78.0,), (78.0,), (78.0,), (78.0,), (78.0,), (78.0,), (78.0,), (78.0,), (78.0,), (78.0,), (78.0,), (78.0,), (78.0,), (78.0,), (78.0,), (78.0,), (78.0,), (78.0,), (78.0,), (78.0,), (78.0,), (78.0,), (78.0,), (78.0,), (78.0,), (78.0,), (78.0,), (78.0,), (78.0,), (78.0,), (78.0,), (78.0,), (78.0,), (78.0,), (78.0,), (78.0,), (78.0,), (78.0,), (78.0,), (78.0,), (78.0,), (78.0,), (78.0,), (78.0,), (78.0,), (78.0,), (78.0,), (78.0,), (78.0,), (78.0,), (78.0,), (78.0,), (78.0,), (78.0,), (78.0,), (78.0,), (78.0,), (78.0,), (78.0,), (78.0,), (78.0,), (78.0,), (78.0,), (78.0,), (78.0,), (78.0,), (78.0,), (78.0,), (78.0,), (78.0,), (78.0,), (78.0,), (78.0,), (78.0,), (78.0,), (78.0,), (78.0,), (78.0,), (78.0,), (78.0,), (78.0,), (78.0,), (78.0,), (78.0,), (78.0,), (78.0,), (78.0,), (78.0,), (78.0,), (78.0,), (78.0,), (78.0,), (78.0,), (78.0,), (78.0,), (78.0,), (78.0,), (78.0,), (78.0,), (78.0,), (78.0,), (78.0,), (78.0,), (78.0,), (78.0,), (78.0,), (78.0,), (78.0,), (78.0,), (78.0,), (78.0,), (78.0,), (78.0,), (78.0,), (78.0,), (78.0,), (78.0,), (78.0,), (78.0,), (78.0,), (78.0,), (78.0,), (78.0,), (78.0,), (78.0,), (78.0,), (78.0,), (78.0,), (78.0,), (78.0,), (78.0,), (78.0,), (78.0,), (78.0,), (78.0,), (78.0,), (78.0,), (78.0,), (78.0,), (78.0,), (78.0,), (78.0,), (78.0,), (78.0,), (78.0,), (78.0,), (78.0,), (78.0,), (78.0,), (78.0,), (78.0,), (78.0,), (78.0,), (78.0,), (78.0,), (78.0,), (78.0,), (78.0,), (78.0,), (78.0,), (78.0,), (78.0,), (78.0,), (78.0,), (78.0,), (78.0,), (78.0,), (78.0,), (78.0,), (78.0,), (78.0,), (78.0,), (78.0,), (78.0,), (78.0,), (78.0,), (78.0,), (78.0,), (79.0,), (79.0,), (79.0,), (79.0,), (79.0,), (79.0,), (79.0,), (79.0,), (79.0,), (79.0,), (79.0,), (79.0,), (79.0,), (79.0,), (79.0,), (79.0,), (79.0,), (79.0,), (79.0,), (79.0,), (79.0,), (79.0,), (79.0,), (79.0,), (79.0,), (79.0,), (79.0,), (79.0,), (79.0,), (79.0,), (79.0,), (79.0,), (79.0,), (79.0,), (79.0,), (79.0,), (79.0,), (79.0,), (79.0,), (79.0,), (79.0,), (79.0,), (79.0,), (79.0,), (79.0,), (79.0,), (79.0,), (79.0,), (79.0,), (79.0,), (79.0,), (79.0,), (79.0,), (79.0,), (79.0,), (79.0,), (79.0,), (79.0,), (79.0,), (79.0,), (79.0,), (79.0,), (79.0,), (79.0,), (79.0,), (79.0,), (79.0,), (79.0,), (79.0,), (79.0,), (79.0,), (79.0,), (79.0,), (79.0,), (79.0,), (79.0,), (79.0,), (79.0,), (79.0,), (79.0,), (79.0,), (79.0,), (79.0,), (79.0,), (79.0,), (79.0,), (79.0,), (79.0,), (79.0,), (79.0,), (79.0,), (79.0,), (79.0,), (79.0,), (79.0,), (79.0,), (79.0,), (79.0,), (79.0,), (79.0,), (79.0,), (79.0,), (79.0,), (79.0,), (79.0,), (79.0,), (79.0,), (79.0,), (79.0,), (79.0,), (79.0,), (79.0,), (79.0,), (79.0,), (79.0,), (79.0,), (79.0,), (79.0,), (79.0,), (79.0,), (79.0,), (79.0,), (79.0,), (79.0,), (79.0,), (79.0,), (79.0,), (79.0,), (79.0,), (79.0,), (79.0,), (79.0,), (79.0,), (79.0,), (79.0,), (79.0,), (79.0,), (79.0,), (79.0,), (79.0,), (79.0,), (79.0,), (79.0,), (79.0,), (79.0,), (79.0,), (79.0,), (79.0,), (79.0,), (79.0,), (79.0,), (79.0,), (79.0,), (79.0,), (79.0,), (79.0,), (79.0,), (79.0,), (79.0,), (79.0,), (79.0,), (79.0,), (79.0,), (79.0,), (79.0,), (79.0,), (79.0,), (79.0,), (79.0,), (79.0,), (79.0,), (79.0,), (79.0,), (79.0,), (79.0,), (79.0,), (79.0,), (79.0,), (79.0,), (79.0,), (79.0,), (79.0,), (79.0,), (79.0,), (79.0,), (79.0,), (79.0,), (79.0,), (79.0,), (79.0,), (79.0,), (79.0,), (79.0,), (79.0,), (79.0,), (79.0,), (79.0,), (79.0,), (79.0,), (79.0,), (79.0,), (79.0,), (79.0,), (79.0,), (79.0,), (79.0,), (79.0,), (79.0,), (79.0,), (79.0,), (79.0,), (79.0,), (79.0,), (79.0,), (79.0,), (79.0,), (79.0,), (79.0,), (79.0,), (79.0,), (79.0,), (79.0,), (79.0,), (79.0,), (79.0,), (79.0,), (79.0,), (79.0,), (79.0,), (79.0,), (79.0,), (79.0,), (79.0,), (79.0,), (79.0,), (79.0,), (79.0,), (79.0,), (79.0,), (79.0,), (79.0,), (79.0,), (79.0,), (79.0,), (79.0,), (79.0,), (79.0,), (79.0,), (79.0,), (79.0,), (79.0,), (79.0,), (79.0,), (79.0,), (79.0,), (79.0,), (79.0,), (79.0,), (79.0,), (79.0,), (79.0,), (79.0,), (79.0,), (79.0,), (79.0,), (79.0,), (79.0,), (79.0,), (79.0,), (79.0,), (79.0,), (79.0,), (79.0,), (79.0,), (79.0,), (79.0,), (79.0,), (79.0,), (79.0,), (79.0,), (79.0,), (79.0,), (79.0,), (79.0,), (79.0,), (79.0,), (79.0,), (79.0,), (79.0,), (79.0,), (79.0,), (79.0,), (79.0,), (79.0,), (79.0,), (79.0,), (79.0,), (79.0,), (79.0,), (79.0,), (79.0,), (79.0,), (79.0,), (79.0,), (79.0,), (79.0,), (79.0,), (79.0,), (79.0,), (79.0,), (79.0,), (79.0,), (79.0,), (79.0,), (79.0,), (79.0,), (79.0,), (79.0,), (79.0,), (79.0,), (79.0,), (79.0,), (79.0,), (79.0,), (79.0,), (79.0,), (79.0,), (79.0,), (79.0,), (79.0,), (79.0,), (79.0,), (79.0,), (79.0,), (79.0,), (79.0,), (79.0,), (79.0,), (79.0,), (79.0,), (79.0,), (79.0,), (79.0,), (79.0,), (79.0,), (79.0,), (79.0,), (79.0,), (79.0,), (79.0,), (79.0,), (79.0,), (79.0,), (79.0,), (79.0,), (79.0,), (79.0,), (79.0,), (79.0,), (79.0,), (79.0,), (79.0,), (79.0,), (79.0,), (79.0,), (79.0,), (79.0,), (79.0,), (79.0,), (79.0,), (79.0,), (79.0,), (79.0,), (79.0,), (79.0,), (79.0,), (79.0,), (79.0,), (79.0,), (79.0,), (79.0,), (79.0,), (79.0,), (79.0,), (79.0,), (79.0,), (79.0,), (79.0,), (79.0,), (79.0,), (79.0,), (79.0,), (79.0,), (79.0,), (79.0,), (79.0,), (79.0,), (79.0,), (79.0,), (79.0,), (79.0,), (79.0,), (79.0,), (79.0,), (79.0,), (79.0,), (79.0,), (79.0,), (79.0,), (79.0,), (79.0,), (79.0,), (79.0,), (79.0,), (79.0,), (79.0,), (79.0,), (79.0,), (79.0,), (79.0,), (79.0,), (79.0,), (79.0,), (79.0,), (79.0,), (79.0,), (79.0,), (79.0,), (79.0,), (79.0,), (79.0,), (79.0,), (79.0,), (79.0,), (79.0,), (79.0,), (79.0,), (79.0,), (79.0,), (79.0,), (79.0,), (79.0,), (79.0,), (79.0,), (79.0,), (79.0,), (79.0,), (79.0,), (79.0,), (79.0,), (79.0,), (79.0,), (79.0,), (79.0,), (79.0,), (79.0,), (79.0,), (79.0,), (79.0,), (79.0,), (79.0,), (79.0,), (79.0,), (79.0,), (79.0,), (79.0,), (79.0,), (79.0,), (79.0,), (79.0,), (79.0,), (79.0,), (79.0,), (79.0,), (79.0,), (79.0,), (79.0,), (79.0,), (79.0,), (79.0,), (79.0,), (79.0,), (79.0,), (79.0,), (79.0,), (79.0,), (79.0,), (79.0,), (79.0,), (79.0,), (79.0,), (79.0,), (79.0,), (79.0,), (79.0,), (79.0,), (79.0,), (79.0,), (79.0,), (79.0,), (79.0,), (79.0,), (79.0,), (79.0,), (79.0,), (79.0,), (79.0,), (79.0,), (79.0,), (79.0,), (79.0,), (79.0,), (79.0,), (79.0,), (79.0,), (79.0,), (79.0,), (79.0,), (79.0,), (79.0,), (79.0,), (79.0,), (79.0,), (79.0,), (79.0,), (79.0,), (79.0,), (79.0,), (79.0,), (79.0,), (79.0,), (79.0,), (79.0,), (79.0,), (79.0,), (79.0,), (79.0,), (79.0,), (79.0,), (79.0,), (79.0,), (79.0,), (79.0,), (79.0,), (79.0,), (79.0,), (79.0,), (79.0,), (79.0,), (79.0,), (79.0,), (79.0,), (79.0,), (79.0,), (79.0,), (79.0,), (79.0,), (79.0,), (79.0,), (79.0,), (79.0,), (79.0,), (79.0,), (79.0,), (79.0,), (79.0,), (79.0,), (79.0,), (79.0,), (79.0,), (79.0,), (79.0,), (79.0,), (79.0,), (79.0,), (79.0,), (79.0,), (79.0,), (79.0,), (79.0,), (79.0,), (79.0,), (79.0,), (79.0,), (79.0,), (79.0,), (79.0,), (79.0,), (79.0,), (79.0,), (79.0,), (79.0,), (79.0,), (79.0,), (79.0,), (79.0,), (79.0,), (79.0,), (79.0,), (79.0,), (79.0,), (79.0,), (79.0,), (79.0,), (79.0,), (79.0,), (79.0,), (79.0,), (79.0,), (79.0,), (79.0,), (79.0,), (79.0,), (79.0,), (79.0,), (79.0,), (79.0,), (79.0,), (79.0,), (79.0,), (79.0,), (79.0,), (79.0,), (79.0,), (79.0,), (79.0,), (79.0,), (79.0,), (79.0,), (79.0,), (79.0,), (79.0,), (79.0,), (79.0,), (79.0,), (79.0,), (79.0,), (79.0,), (79.0,), (79.0,), (79.0,), (79.0,), (79.0,), (79.0,), (79.0,), (79.0,), (79.0,), (79.0,), (79.0,), (79.0,), (79.0,), (79.0,), (79.0,), (79.0,), (79.0,), (79.0,), (79.0,), (79.0,), (79.0,), (79.0,), (79.0,), (79.0,), (79.0,), (79.0,), (79.0,), (79.0,), (79.0,), (79.0,), (79.0,), (79.0,), (79.0,), (79.0,), (79.0,), (79.0,), (79.0,), (79.0,), (79.0,), (79.0,), (79.0,), (79.0,), (79.0,), (79.0,), (79.0,), (79.0,), (79.0,), (79.0,), (79.0,), (79.0,), (79.0,), (79.0,), (79.0,), (79.0,), (79.0,), (79.0,), (79.0,), (79.0,), (79.0,), (79.0,), (79.0,), (79.0,), (79.0,), (79.0,), (79.0,), (79.0,), (79.0,), (79.0,), (79.0,), (79.0,), (79.0,), (79.0,), (79.0,), (79.0,), (79.0,), (79.0,), (79.0,), (79.0,), (79.0,), (79.0,), (79.0,), (79.0,), (79.0,), (79.0,), (79.0,), (79.0,), (79.0,), (79.0,), (79.0,), (79.0,), (79.0,), (79.0,), (79.0,), (79.0,), (79.0,), (79.0,), (79.0,), (79.0,), (79.0,), (79.0,), (79.0,), (79.0,), (79.0,), (79.0,), (79.0,), (79.0,), (79.0,), (79.0,), (79.0,), (79.0,), (79.0,), (79.0,), (79.0,), (79.0,), (79.0,), (79.0,), (79.0,), (79.0,), (79.0,), (79.0,), (79.0,), (79.0,), (79.0,), (79.0,), (79.0,), (79.0,), (79.0,), (79.0,), (79.0,), (79.0,), (79.0,), (79.0,), (79.0,), (79.0,), (79.0,), (79.0,), (79.0,), (79.0,), (79.0,), (79.0,), (79.0,), (79.0,), (79.0,), (79.0,), (79.0,), (79.0,), (79.0,), (80.0,), (80.0,), (80.0,), (80.0,), (80.0,), (80.0,), (80.0,), (80.0,), (80.0,), (80.0,), (80.0,), (80.0,), (80.0,), (80.0,), (80.0,), (80.0,), (80.0,), (80.0,), (80.0,), (80.0,), (80.0,), (80.0,), (80.0,), (80.0,), (80.0,), (80.0,), (80.0,), (80.0,), (80.0,), (80.0,), (80.0,), (80.0,), (80.0,), (80.0,), (80.0,), (80.0,), (80.0,), (80.0,), (80.0,), (80.0,), (80.0,), (80.0,), (80.0,), (80.0,), (80.0,), (80.0,), (80.0,), (80.0,), (80.0,), (80.0,), (80.0,), (80.0,), (80.0,), (80.0,), (80.0,), (80.0,), (80.0,), (80.0,), (80.0,), (80.0,), (80.0,), (80.0,), (80.0,), (80.0,), (80.0,), (80.0,), (80.0,), (80.0,), (80.0,), (80.0,), (80.0,), (80.0,), (80.0,), (80.0,), (80.0,), (80.0,), (80.0,), (80.0,), (80.0,), (80.0,), (80.0,), (80.0,), (80.0,), (80.0,), (80.0,), (80.0,), (80.0,), (80.0,), (80.0,), (80.0,), (80.0,), (80.0,), (80.0,), (80.0,), (80.0,), (80.0,), (80.0,), (80.0,), (80.0,), (80.0,), (80.0,), (80.0,), (80.0,), (80.0,), (80.0,), (80.0,), (80.0,), (80.0,), (80.0,), (80.0,), (80.0,), (80.0,), (80.0,), (80.0,), (80.0,), (80.0,), (80.0,), (80.0,), (80.0,), (80.0,), (80.0,), (80.0,), (80.0,), (80.0,), (80.0,), (80.0,), (80.0,), (80.0,), (80.0,), (80.0,), (80.0,), (80.0,), (80.0,), (80.0,), (80.0,), (80.0,), (80.0,), (80.0,), (80.0,), (80.0,), (80.0,), (80.0,), (80.0,), (80.0,), (80.0,), (80.0,), (80.0,), (80.0,), (80.0,), (80.0,), (80.0,), (80.0,), (80.0,), (80.0,), (80.0,), (80.0,), (80.0,), (80.0,), (80.0,), (80.0,), (80.0,), (80.0,), (80.0,), (80.0,), (80.0,), (80.0,), (80.0,), (80.0,), (80.0,), (80.0,), (80.0,), (80.0,), (80.0,), (80.0,), (80.0,), (80.0,), (80.0,), (80.0,), (80.0,), (80.0,), (80.0,), (80.0,), (80.0,), (80.0,), (80.0,), (80.0,), (80.0,), (80.0,), (80.0,), (80.0,), (80.0,), (80.0,), (80.0,), (80.0,), (80.0,), (80.0,), (80.0,), (80.0,), (80.0,), (80.0,), (80.0,), (80.0,), (80.0,), (80.0,), (80.0,), (80.0,), (80.0,), (80.0,), (80.0,), (80.0,), (80.0,), (80.0,), (80.0,), (80.0,), (80.0,), (80.0,), (80.0,), (80.0,), (80.0,), (80.0,), (80.0,), (80.0,), (80.0,), (80.0,), (80.0,), (80.0,), (80.0,), (80.0,), (80.0,), (80.0,), (80.0,), (80.0,), (80.0,), (80.0,), (80.0,), (80.0,), (80.0,), (80.0,), (80.0,), (80.0,), (80.0,), (80.0,), (80.0,), (80.0,), (80.0,), (80.0,), (80.0,), (80.0,), (80.0,), (80.0,), (80.0,), (80.0,), (80.0,), (80.0,), (80.0,), (80.0,), (80.0,), (80.0,), (80.0,), (80.0,), (80.0,), (80.0,), (80.0,), (80.0,), (80.0,), (80.0,), (80.0,), (80.0,), (80.0,), (80.0,), (80.0,), (80.0,), (80.0,), (80.0,), (80.0,), (80.0,), (80.0,), (80.0,), (80.0,), (80.0,), (80.0,), (80.0,), (80.0,), (80.0,), (80.0,), (80.0,), (80.0,), (80.0,), (80.0,), (80.0,), (80.0,), (80.0,), (80.0,), (80.0,), (80.0,), (80.0,), (80.0,), (80.0,), (80.0,), (80.0,), (80.0,), (80.0,), (80.0,), (80.0,), (80.0,), (80.0,), (80.0,), (80.0,), (80.0,), (80.0,), (80.0,), (80.0,), (80.0,), (80.0,), (80.0,), (80.0,), (80.0,), (80.0,), (80.0,), (80.0,), (80.0,), (80.0,), (80.0,), (80.0,), (80.0,), (80.0,), (80.0,), (80.0,), (80.0,), (80.0,), (80.0,), (80.0,), (80.0,), (80.0,), (80.0,), (80.0,), (80.0,), (80.0,), (80.0,), (80.0,), (80.0,), (80.0,), (80.0,), (80.0,), (80.0,), (80.0,), (80.0,), (80.0,), (80.0,), (80.0,), (80.0,), (80.0,), (80.0,), (80.0,), (80.0,), (80.0,), (80.0,), (80.0,), (80.0,), (80.0,), (80.0,), (80.0,), (80.0,), (80.0,), (80.0,), (80.0,), (80.0,), (80.0,), (80.0,), (80.0,), (80.0,), (80.0,), (80.0,), (80.0,), (80.0,), (80.0,), (80.0,), (80.0,), (80.0,), (80.0,), (80.0,), (80.0,), (80.0,), (80.0,), (80.0,), (80.0,), (80.0,), (80.0,), (80.0,), (80.0,), (80.0,), (80.0,), (80.0,), (80.0,), (80.0,), (80.0,), (80.0,), (80.0,), (80.0,), (80.0,), (80.0,), (80.0,), (80.0,), (80.0,), (80.0,), (80.0,), (80.0,), (80.0,), (80.0,), (80.0,), (80.0,), (80.0,), (80.0,), (80.0,), (80.0,), (80.0,), (80.0,), (80.0,), (80.0,), (80.0,), (80.0,), (80.0,), (80.0,), (80.0,), (80.0,), (80.0,), (80.0,), (80.0,), (80.0,), (80.0,), (80.0,), (80.0,), (80.0,), (80.0,), (80.0,), (80.0,), (80.0,), (80.0,), (80.0,), (80.0,), (80.0,), (80.0,), (80.0,), (80.0,), (80.0,), (80.0,), (80.0,), (80.0,), (80.0,), (80.0,), (80.0,), (80.0,), (80.0,), (80.0,), (80.0,), (80.0,), (80.0,), (80.0,), (80.0,), (80.0,), (80.0,), (80.0,), (80.0,), (80.0,), (80.0,), (80.0,), (80.0,), (80.0,), (80.0,), (80.0,), (80.0,), (80.0,), (80.0,), (80.0,), (80.0,), (80.0,), (80.0,), (80.0,), (80.0,), (80.0,), (80.0,), (80.0,), (80.0,), (80.0,), (80.0,), (80.0,), (80.0,), (80.0,), (80.0,), (80.0,), (80.0,), (80.0,), (80.0,), (80.0,), (80.0,), (80.0,), (80.0,), (80.0,), (80.0,), (80.0,), (80.0,), (80.0,), (80.0,), (80.0,), (80.0,), (80.0,), (80.0,), (80.0,), (80.0,), (80.0,), (80.0,), (80.0,), (80.0,), (80.0,), (80.0,), (80.0,), (80.0,), (80.0,), (80.0,), (80.0,), (80.0,), (80.0,), (80.0,), (80.0,), (80.0,), (80.0,), (80.0,), (80.0,), (80.0,), (80.0,), (80.0,), (80.0,), (80.0,), (80.0,), (80.0,), (80.0,), (80.0,), (80.0,), (80.0,), (80.0,), (80.0,), (80.0,), (80.0,), (80.0,), (80.0,), (80.0,), (80.0,), (80.0,), (80.0,), (80.0,), (80.0,), (80.0,), (80.0,), (80.0,), (80.0,), (80.0,), (80.0,), (80.0,), (80.0,), (80.0,), (80.0,), (80.0,), (80.0,), (80.0,), (80.0,), (80.0,), (80.0,), (80.0,), (80.0,), (80.0,), (80.0,), (80.0,), (80.0,), (80.0,), (80.0,), (80.0,), (80.0,), (80.0,), (80.0,), (80.0,), (80.0,), (80.0,), (80.0,), (80.0,), (80.0,), (80.0,), (80.0,), (80.0,), (80.0,), (80.0,), (80.0,), (80.0,), (80.0,), (80.0,), (80.0,), (80.0,), (80.0,), (80.0,), (80.0,), (80.0,), (80.0,), (80.0,), (80.0,), (80.0,), (80.0,), (80.0,), (80.0,), (80.0,), (80.0,), (80.0,), (80.0,), (80.0,), (80.0,), (80.0,), (81.0,), (81.0,), (81.0,), (81.0,), (81.0,), (81.0,), (81.0,), (81.0,), (81.0,), (81.0,), (81.0,), (81.0,), (81.0,), (81.0,), (81.0,), (81.0,), (81.0,), (81.0,), (81.0,), (81.0,), (81.0,), (81.0,), (81.0,), (81.0,), (81.0,), (81.0,), (81.0,), (81.0,), (81.0,), (81.0,), (81.0,), (81.0,), (81.0,), (81.0,), (81.0,), (81.0,), (81.0,), (81.0,), (81.0,), (81.0,), (81.0,), (81.0,), (81.0,), (81.0,), (81.0,), (81.0,), (81.0,), (81.0,), (81.0,), (81.0,), (81.0,), (81.0,), (81.0,), (81.0,), (81.0,), (81.0,), (81.0,), (81.0,), (81.0,), (81.0,), (81.0,), (81.0,), (81.0,), (81.0,), (81.0,), (81.0,), (81.0,), (81.0,), (81.0,), (81.0,), (81.0,), (81.0,), (81.0,), (81.0,), (81.0,), (81.0,), (81.0,), (81.0,), (81.0,), (81.0,), (81.0,), (81.0,), (81.0,), (81.0,), (81.0,), (81.0,), (81.0,), (81.0,), (81.0,), (81.0,), (81.0,), (81.0,), (81.0,), (81.0,), (81.0,), (81.0,), (81.0,), (81.0,), (81.0,), (81.0,), (81.0,), (81.0,), (81.0,), (81.0,), (81.0,), (81.0,), (81.0,), (81.0,), (81.0,), (81.0,), (81.0,), (81.0,), (81.0,), (81.0,), (81.0,), (81.0,), (81.0,), (81.0,), (81.0,), (81.0,), (81.0,), (81.0,), (81.0,), (81.0,), (81.0,), (81.0,), (81.0,), (81.0,), (81.0,), (81.0,), (81.0,), (81.0,), (81.0,), (81.0,), (81.0,), (81.0,), (81.0,), (81.0,), (81.0,), (81.0,), (81.0,), (81.0,), (81.0,), (81.0,), (81.0,), (81.0,), (81.0,), (81.0,), (81.0,), (81.0,), (81.0,), (81.0,), (81.0,), (81.0,), (81.0,), (81.0,), (81.0,), (81.0,), (81.0,), (81.0,), (81.0,), (81.0,), (81.0,), (81.0,), (81.0,), (81.0,), (81.0,), (81.0,), (81.0,), (81.0,), (81.0,), (81.0,), (81.0,), (81.0,), (81.0,), (81.0,), (81.0,), (81.0,), (81.0,), (81.0,), (81.0,), (81.0,), (81.0,), (81.0,), (81.0,), (81.0,), (81.0,), (81.0,), (81.0,), (81.0,), (81.0,), (81.0,), (81.0,), (81.0,), (81.0,), (81.0,), (81.0,), (81.0,), (81.0,), (81.0,), (81.0,), (81.0,), (81.0,), (81.0,), (81.0,), (81.0,), (81.0,), (81.0,), (81.0,), (81.0,), (81.0,), (81.0,), (81.0,), (81.0,), (81.0,), (81.0,), (81.0,), (81.0,), (81.0,), (81.0,), (81.0,), (81.0,), (81.0,), (81.0,), (81.0,), (81.0,), (81.0,), (81.0,), (81.0,), (81.0,), (81.0,), (81.0,), (81.0,), (81.0,), (81.0,), (81.0,), (81.0,), (81.0,), (81.0,), (81.0,), (81.0,), (81.0,), (81.0,), (81.0,), (81.0,), (81.0,), (81.0,), (81.0,), (81.0,), (81.0,), (81.0,), (81.0,), (81.0,), (81.0,), (81.0,), (81.0,), (81.0,), (81.0,), (81.0,), (81.0,), (81.0,), (81.0,), (81.0,), (81.0,), (81.0,), (81.0,), (81.0,), (81.0,), (81.0,), (81.0,), (81.0,), (81.0,), (81.0,), (81.0,), (81.0,), (81.0,), (81.0,), (81.0,), (81.0,), (81.0,), (81.0,), (81.0,), (81.0,), (81.0,), (81.0,), (81.0,), (81.0,), (81.0,), (81.0,), (81.0,), (81.0,), (81.0,), (81.0,), (81.0,), (81.0,), (81.0,), (81.0,), (81.0,), (81.0,), (81.0,), (81.0,), (81.0,), (81.0,), (81.0,), (81.0,), (81.0,), (81.0,), (81.0,), (81.0,), (81.0,), (81.0,), (81.0,), (81.0,), (81.0,), (81.0,), (81.0,), (81.0,), (81.0,), (81.0,), (81.0,), (81.0,), (81.0,), (81.0,), (81.0,), (81.0,), (81.0,), (81.0,), (81.0,), (81.0,), (81.0,), (81.0,), (81.0,), (81.0,), (81.0,), (81.0,), (81.0,), (81.0,), (81.0,), (81.0,), (81.0,), (81.0,), (81.0,), (81.0,), (81.0,), (81.0,), (81.0,), (81.0,), (81.0,), (81.0,), (81.0,), (81.0,), (81.0,), (81.0,), (81.0,), (81.0,), (81.0,), (81.0,), (81.0,), (81.0,), (81.0,), (81.0,), (81.0,), (81.0,), (81.0,), (81.0,), (81.0,), (81.0,), (81.0,), (81.0,), (81.0,), (81.0,), (81.0,), (81.0,), (81.0,), (81.0,), (81.0,), (81.0,), (81.0,), (81.0,), (81.0,), (81.0,), (82.0,), (82.0,), (82.0,), (82.0,), (82.0,), (82.0,), (82.0,), (82.0,), (82.0,), (82.0,), (82.0,), (82.0,), (82.0,), (82.0,), (82.0,), (82.0,), (82.0,), (82.0,), (82.0,), (82.0,), (82.0,), (82.0,), (82.0,), (82.0,), (82.0,), (82.0,), (82.0,), (82.0,), (82.0,), (82.0,), (82.0,), (82.0,), (82.0,), (82.0,), (82.0,), (82.0,), (82.0,), (82.0,), (82.0,), (82.0,), (82.0,), (82.0,), (82.0,), (82.0,), (82.0,), (82.0,), (82.0,), (82.0,), (82.0,), (82.0,), (82.0,), (82.0,), (82.0,), (82.0,), (82.0,), (82.0,), (82.0,), (82.0,), (82.0,), (82.0,), (82.0,), (82.0,), (82.0,), (82.0,), (82.0,), (82.0,), (82.0,), (82.0,), (82.0,), (82.0,), (82.0,), (82.0,), (82.0,), (82.0,), (82.0,), (82.0,), (82.0,), (82.0,), (82.0,), (82.0,), (82.0,), (82.0,), (82.0,), (82.0,), (82.0,), (82.0,), (82.0,), (82.0,), (82.0,), (82.0,), (82.0,), (82.0,), (82.0,), (82.0,), (82.0,), (82.0,), (82.0,), (82.0,), (82.0,), (82.0,), (82.0,), (82.0,), (82.0,), (82.0,), (82.0,), (82.0,), (82.0,), (82.0,), (82.0,), (82.0,), (82.0,), (82.0,), (82.0,), (82.0,), (82.0,), (82.0,), (82.0,), (82.0,), (82.0,), (82.0,), (82.0,), (82.0,), (82.0,), (82.0,), (82.0,), (82.0,), (82.0,), (82.0,), (82.0,), (82.0,), (82.0,), (82.0,), (82.0,), (82.0,), (82.0,), (82.0,), (82.0,), (82.0,), (82.0,), (82.0,), (82.0,), (82.0,), (82.0,), (82.0,), (82.0,), (82.0,), (82.0,), (82.0,), (82.0,), (82.0,), (82.0,), (82.0,), (82.0,), (82.0,), (82.0,), (82.0,), (82.0,), (82.0,), (82.0,), (82.0,), (82.0,), (82.0,), (82.0,), (82.0,), (82.0,), (82.0,), (82.0,), (82.0,), (82.0,), (83.0,), (83.0,), (83.0,), (83.0,), (83.0,), (83.0,), (83.0,), (83.0,), (83.0,), (83.0,), (83.0,), (83.0,), (83.0,), (83.0,), (83.0,), (83.0,), (83.0,), (83.0,), (83.0,), (83.0,), (83.0,), (83.0,), (83.0,), (83.0,), (83.0,), (83.0,), (83.0,), (83.0,), (83.0,), (83.0,), (83.0,), (83.0,), (83.0,), (83.0,), (83.0,), (83.0,), (83.0,), (83.0,), (83.0,), (83.0,), (83.0,), (83.0,), (83.0,), (83.0,), (83.0,), (83.0,), (83.0,), (83.0,), (83.0,), (83.0,), (83.0,), (83.0,), (83.0,), (83.0,), (83.0,), (83.0,), (83.0,), (83.0,), (83.0,), (83.0,), (83.0,), (83.0,), (83.0,), (83.0,), (83.0,), (83.0,), (83.0,), (83.0,), (83.0,), (83.0,), (83.0,), (83.0,), (83.0,), (83.0,), (83.0,), (83.0,), (83.0,), (83.0,), (83.0,), (83.0,), (83.0,), (84.0,), (84.0,), (84.0,), (84.0,), (84.0,), (84.0,), (84.0,), (84.0,), (84.0,), (84.0,), (84.0,), (84.0,), (84.0,), (84.0,), (84.0,), (84.0,), (84.0,), (84.0,), (84.0,), (84.0,), (84.0,), (84.0,), (84.0,), (84.0,), (84.0,), (84.0,), (84.0,), (84.0,), (84.0,), (84.0,), (84.0,), (84.0,), (84.0,), (84.0,), (84.0,), (84.0,), (85.0,), (85.0,), (85.0,), (85.0,), (85.0,), (85.0,), (85.0,), (85.0,), (85.0,), (85.0,), (85.0,), (86.0,), (86.0,), (86.0,), (86.0,), (87.0,), (87.0,), (87.0,), (87.0,)]\n"
     ]
    }
   ],
   "source": [
    "# Using the station id from the previous query, calculate the lowest temperature recorded, \n",
    "# highest temperature recorded, and average temperature most active station?\n",
    "\n",
    "temperature = session.query(Measurement.tobs).\\\n",
    "               order_by(Measurement.tobs).all()\n",
    "\n",
    "print(temperature)"
   ]
  },
  {
   "cell_type": "code",
   "execution_count": 109,
   "metadata": {},
   "outputs": [
    {
     "name": "stdout",
     "output_type": "stream",
     "text": [
      "       tobs\n",
      "0      53.0\n",
      "1      54.0\n",
      "2      55.0\n",
      "3      56.0\n",
      "4      56.0\n",
      "5      56.0\n",
      "6      56.0\n",
      "7      56.0\n",
      "8      56.0\n",
      "9      56.0\n",
      "10     56.0\n",
      "11     56.0\n",
      "12     56.0\n",
      "13     56.0\n",
      "14     56.0\n",
      "15     57.0\n",
      "16     57.0\n",
      "17     57.0\n",
      "18     57.0\n",
      "19     57.0\n",
      "20     57.0\n",
      "21     57.0\n",
      "22     57.0\n",
      "23     57.0\n",
      "24     57.0\n",
      "25     57.0\n",
      "26     57.0\n",
      "27     57.0\n",
      "28     57.0\n",
      "29     57.0\n",
      "...     ...\n",
      "19520  84.0\n",
      "19521  84.0\n",
      "19522  84.0\n",
      "19523  84.0\n",
      "19524  84.0\n",
      "19525  84.0\n",
      "19526  84.0\n",
      "19527  84.0\n",
      "19528  84.0\n",
      "19529  84.0\n",
      "19530  84.0\n",
      "19531  85.0\n",
      "19532  85.0\n",
      "19533  85.0\n",
      "19534  85.0\n",
      "19535  85.0\n",
      "19536  85.0\n",
      "19537  85.0\n",
      "19538  85.0\n",
      "19539  85.0\n",
      "19540  85.0\n",
      "19541  85.0\n",
      "19542  86.0\n",
      "19543  86.0\n",
      "19544  86.0\n",
      "19545  86.0\n",
      "19546  87.0\n",
      "19547  87.0\n",
      "19548  87.0\n",
      "19549  87.0\n",
      "\n",
      "[19550 rows x 1 columns]\n"
     ]
    }
   ],
   "source": [
    "temp_df = pd.DataFrame(temperature)\n",
    "print(temp_df)"
   ]
  },
  {
   "cell_type": "code",
   "execution_count": 110,
   "metadata": {},
   "outputs": [
    {
     "name": "stdout",
     "output_type": "stream",
     "text": [
      "53.0\n"
     ]
    }
   ],
   "source": [
    "# MINIMUM TEMPERATURE\n",
    "\n",
    "min_temp = temp_df['tobs'].min()\n",
    "print(min_temp)"
   ]
  },
  {
   "cell_type": "code",
   "execution_count": 111,
   "metadata": {},
   "outputs": [
    {
     "name": "stdout",
     "output_type": "stream",
     "text": [
      "87.0\n"
     ]
    }
   ],
   "source": [
    "# MAXIMUM TEMPERATURE\n",
    "\n",
    "max_temp = temp_df['tobs'].max()\n",
    "print(max_temp)"
   ]
  },
  {
   "cell_type": "code",
   "execution_count": 112,
   "metadata": {},
   "outputs": [
    {
     "name": "stdout",
     "output_type": "stream",
     "text": [
      "73.09795396419437\n"
     ]
    }
   ],
   "source": [
    "# AVERAGE TEMPERATURE\n",
    "\n",
    "avg_temp = temp_df['tobs'].mean()\n",
    "print(avg_temp)"
   ]
  },
  {
   "cell_type": "code",
   "execution_count": 113,
   "metadata": {},
   "outputs": [],
   "source": [
    "# Choose the station with the highest number of temperature observations.\n",
    "# Query the last 12 months of temperature observation data for this station and plot the results as a histogram\n",
    "\n",
    "high_station = session.query(Measurement.station, Measurement.date, Measurement.tobs).\\\n",
    "    filter(Measurement.station == 'USC00519281').\\\n",
    "    filter(Measurement.date > one_year).\\\n",
    "    order_by(Measurement.date).all()"
   ]
  },
  {
   "cell_type": "code",
   "execution_count": 114,
   "metadata": {},
   "outputs": [
    {
     "data": {
      "image/png": "[encoded data removed]",
      "text/plain": [
       "<Figure size 432x288 with 1 Axes>"
      ]
     },
     "metadata": {},
     "output_type": "display_data"
    }
   ],
   "source": [
    "plt.hist(temp_df['tobs'],12)\n",
    "plt.xlabel(\"Temperature\")\n",
    "plt.ylabel(\"Observations\")\n",
    "plt.title(\"High Station Analysis\")\n",
    "plt.show()"
   ]
  },
  {
   "cell_type": "code",
   "execution_count": 115,
   "metadata": {},
   "outputs": [
    {
     "name": "stdout",
     "output_type": "stream",
     "text": [
      "[(62.0, 69.57142857142857, 74.0)]\n"
     ]
    }
   ],
   "source": [
    "# This function called `calc_temps` will accept start date and end date in the format '%Y-%m-%d' \n",
    "# and return the minimum, average, and maximum temperatures for that range of dates\n",
    "def calc_temps(start_date, end_date):\n",
    "    \"\"\"TMIN, TAVG, and TMAX for a list of dates.\n",
    "    \n",
    "    Args:\n",
    "        start_date (string): A date string in the format %Y-%m-%d\n",
    "        end_date (string): A date string in the format %Y-%m-%d\n",
    "        \n",
    "    Returns:\n",
    "        TMIN, TAVE, and TMAX\n",
    "    \"\"\"\n",
    "    \n",
    "    return session.query(func.min(Measurement.tobs), func.avg(Measurement.tobs), func.max(Measurement.tobs)).\\\n",
    "        filter(Measurement.date >= start_date).filter(Measurement.date <= end_date).all()\n",
    "\n",
    "# function usage example\n",
    "print(calc_temps('2012-02-28', '2012-03-05'))"
   ]
  },
  {
   "cell_type": "code",
   "execution_count": 116,
   "metadata": {},
   "outputs": [
    {
     "name": "stdout",
     "output_type": "stream",
     "text": [
      "[(76.0, 80.25, 82.0)]\n"
     ]
    }
   ],
   "source": [
    "# Use your previous function `calc_temps` to calculate the tmin, tavg, and tmax \n",
    "# for your trip using the previous year's data for those same dates.\n",
    "\n",
    "def calc_temps(start_date, end_date):\n",
    "    return session.query(func.min(Measurement.tobs), func.avg(Measurement.tobs), func.max(Measurement.tobs)).\\\n",
    "filter(Measurement.date >= start_date).filter(Measurement.date <= end_date).all()\n",
    "temp_range = (calc_temps('2017-08-23', '2017and-08-30'))\n",
    "print(temp_range)"
   ]
  },
  {
   "cell_type": "code",
   "execution_count": 117,
   "metadata": {},
   "outputs": [
    {
     "data": {
      "image/png": "[encoded data removed]",
      "text/plain": [
       "<Figure size 432x288 with 1 Axes>"
      ]
     },
     "metadata": {},
     "output_type": "display_data"
    }
   ],
   "source": [
    "# Plot the results from your previous query as a bar chart. \n",
    "# Use \"Trip Avg Temp\" as your Title\n",
    "# Use the average temperature for the y value\n",
    "# Use the peak-to-peak (tmax-tmin) value as the y error bar (yerr)\n",
    "\n",
    "fig, ax = plt.subplots()\n",
    "ax.boxplot(temp_range, patch_artist=True)\n",
    "ax.set_title('Trip Avg Temp')\n",
    "ax.set_ylabel(\"Temperature\")\n",
    "ax.set_xlabel(\"Trip\")\n",
    "plt.show()"
   ]
  },
  {
   "cell_type": "code",
   "execution_count": 118,
   "metadata": {
    "scrolled": true
   },
   "outputs": [],
   "source": [
    "# Calculate the total amount of rainfall per weather station for your trip dates using the previous year's matching \n",
    "# dates. Sort this in descending order by precipitation amount and list the station, name, latitude, longitude, \n",
    "# and elevation\n",
    "\n",
    "# JOIN TABLES FOR CATEGORIES NEEDED\n",
    "\n",
    "sel = [Measurement.prcp, Measurement.station, Station.name, Station.latitude, Station.longitude, Station.elevation]\n",
    "precip_per_station = session.query(*sel).all()"
   ]
  },
  {
   "cell_type": "code",
   "execution_count": 119,
   "metadata": {},
   "outputs": [],
   "source": [
    "columns = inspector.get_columns('sel')\n",
    "for c in columns:\n",
    "    print(c['name'], c[\"type\"])"
   ]
  },
  {
   "cell_type": "code",
   "execution_count": 120,
   "metadata": {
    "scrolled": true
   },
   "outputs": [
    {
     "data": {
      "text/html": [
       "<div>\n",
       "<style scoped>\n",
       "    .dataframe tbody tr th:only-of-type {\n",
       "        vertical-align: middle;\n",
       "    }\n",
       "\n",
       "    .dataframe tbody tr th {\n",
       "        vertical-align: top;\n",
       "    }\n",
       "\n",
       "    .dataframe thead th {\n",
       "        text-align: right;\n",
       "    }\n",
       "</style>\n",
       "<table border=\"1\" class=\"dataframe\">\n",
       "  <thead>\n",
       "    <tr style=\"text-align: right;\">\n",
       "      <th></th>\n",
       "      <th>prcp</th>\n",
       "      <th>station</th>\n",
       "      <th>name</th>\n",
       "      <th>latitude</th>\n",
       "      <th>longitude</th>\n",
       "      <th>elevation</th>\n",
       "    </tr>\n",
       "  </thead>\n",
       "  <tbody>\n",
       "    <tr>\n",
       "      <th>0</th>\n",
       "      <td>0.08</td>\n",
       "      <td>USC00519397</td>\n",
       "      <td>WAIKIKI 717.2, HI US</td>\n",
       "      <td>21.2716</td>\n",
       "      <td>-157.8168</td>\n",
       "      <td>3.0</td>\n",
       "    </tr>\n",
       "    <tr>\n",
       "      <th>1</th>\n",
       "      <td>0.08</td>\n",
       "      <td>USC00519397</td>\n",
       "      <td>KANEOHE 838.1, HI US</td>\n",
       "      <td>21.4234</td>\n",
       "      <td>-157.8015</td>\n",
       "      <td>14.6</td>\n",
       "    </tr>\n",
       "    <tr>\n",
       "      <th>2</th>\n",
       "      <td>0.08</td>\n",
       "      <td>USC00519397</td>\n",
       "      <td>KUALOA RANCH HEADQUARTERS 886.9, HI US</td>\n",
       "      <td>21.5213</td>\n",
       "      <td>-157.8374</td>\n",
       "      <td>7.0</td>\n",
       "    </tr>\n",
       "    <tr>\n",
       "      <th>3</th>\n",
       "      <td>0.08</td>\n",
       "      <td>USC00519397</td>\n",
       "      <td>PEARL CITY, HI US</td>\n",
       "      <td>21.3934</td>\n",
       "      <td>-157.9751</td>\n",
       "      <td>11.9</td>\n",
       "    </tr>\n",
       "    <tr>\n",
       "      <th>4</th>\n",
       "      <td>0.08</td>\n",
       "      <td>USC00519397</td>\n",
       "      <td>UPPER WAHIAWA 874.3, HI US</td>\n",
       "      <td>21.4992</td>\n",
       "      <td>-158.0111</td>\n",
       "      <td>306.6</td>\n",
       "    </tr>\n",
       "  </tbody>\n",
       "</table>\n",
       "</div>"
      ],
      "text/plain": [
       "   prcp      station                                    name  latitude  \\\n",
       "0  0.08  USC00519397                    WAIKIKI 717.2, HI US   21.2716   \n",
       "1  0.08  USC00519397                    KANEOHE 838.1, HI US   21.4234   \n",
       "2  0.08  USC00519397  KUALOA RANCH HEADQUARTERS 886.9, HI US   21.5213   \n",
       "3  0.08  USC00519397                       PEARL CITY, HI US   21.3934   \n",
       "4  0.08  USC00519397              UPPER WAHIAWA 874.3, HI US   21.4992   \n",
       "\n",
       "   longitude  elevation  \n",
       "0  -157.8168        3.0  \n",
       "1  -157.8015       14.6  \n",
       "2  -157.8374        7.0  \n",
       "3  -157.9751       11.9  \n",
       "4  -158.0111      306.6  "
      ]
     },
     "execution_count": 120,
     "metadata": {},
     "output_type": "execute_result"
    }
   ],
   "source": [
    "final_rain_df = pd.DataFrame(precip_per_station)\n",
    "\n",
    "final_rain_df.head()"
   ]
  },
  {
   "cell_type": "code",
   "execution_count": 121,
   "metadata": {
    "scrolled": true
   },
   "outputs": [
    {
     "data": {
      "text/html": [
       "<div>\n",
       "<style scoped>\n",
       "    .dataframe tbody tr th:only-of-type {\n",
       "        vertical-align: middle;\n",
       "    }\n",
       "\n",
       "    .dataframe tbody tr th {\n",
       "        vertical-align: top;\n",
       "    }\n",
       "\n",
       "    .dataframe thead th {\n",
       "        text-align: right;\n",
       "    }\n",
       "</style>\n",
       "<table border=\"1\" class=\"dataframe\">\n",
       "  <thead>\n",
       "    <tr style=\"text-align: right;\">\n",
       "      <th></th>\n",
       "      <th>prcp</th>\n",
       "      <th>station</th>\n",
       "      <th>name</th>\n",
       "      <th>latitude</th>\n",
       "      <th>longitude</th>\n",
       "      <th>elevation</th>\n",
       "    </tr>\n",
       "  </thead>\n",
       "  <tbody>\n",
       "    <tr>\n",
       "      <th>60300</th>\n",
       "      <td>11.53</td>\n",
       "      <td>USC00514830</td>\n",
       "      <td>WAIKIKI 717.2, HI US</td>\n",
       "      <td>21.27160</td>\n",
       "      <td>-157.81680</td>\n",
       "      <td>3.0</td>\n",
       "    </tr>\n",
       "    <tr>\n",
       "      <th>60301</th>\n",
       "      <td>11.53</td>\n",
       "      <td>USC00514830</td>\n",
       "      <td>KANEOHE 838.1, HI US</td>\n",
       "      <td>21.42340</td>\n",
       "      <td>-157.80150</td>\n",
       "      <td>14.6</td>\n",
       "    </tr>\n",
       "    <tr>\n",
       "      <th>60302</th>\n",
       "      <td>11.53</td>\n",
       "      <td>USC00514830</td>\n",
       "      <td>KUALOA RANCH HEADQUARTERS 886.9, HI US</td>\n",
       "      <td>21.52130</td>\n",
       "      <td>-157.83740</td>\n",
       "      <td>7.0</td>\n",
       "    </tr>\n",
       "    <tr>\n",
       "      <th>60303</th>\n",
       "      <td>11.53</td>\n",
       "      <td>USC00514830</td>\n",
       "      <td>PEARL CITY, HI US</td>\n",
       "      <td>21.39340</td>\n",
       "      <td>-157.97510</td>\n",
       "      <td>11.9</td>\n",
       "    </tr>\n",
       "    <tr>\n",
       "      <th>60304</th>\n",
       "      <td>11.53</td>\n",
       "      <td>USC00514830</td>\n",
       "      <td>UPPER WAHIAWA 874.3, HI US</td>\n",
       "      <td>21.49920</td>\n",
       "      <td>-158.01110</td>\n",
       "      <td>306.6</td>\n",
       "    </tr>\n",
       "    <tr>\n",
       "      <th>60305</th>\n",
       "      <td>11.53</td>\n",
       "      <td>USC00514830</td>\n",
       "      <td>WAIMANALO EXPERIMENTAL FARM, HI US</td>\n",
       "      <td>21.33556</td>\n",
       "      <td>-157.71139</td>\n",
       "      <td>19.5</td>\n",
       "    </tr>\n",
       "    <tr>\n",
       "      <th>60306</th>\n",
       "      <td>11.53</td>\n",
       "      <td>USC00514830</td>\n",
       "      <td>WAIHEE 837.5, HI US</td>\n",
       "      <td>21.45167</td>\n",
       "      <td>-157.84889</td>\n",
       "      <td>32.9</td>\n",
       "    </tr>\n",
       "    <tr>\n",
       "      <th>60308</th>\n",
       "      <td>11.53</td>\n",
       "      <td>USC00514830</td>\n",
       "      <td>MANOA LYON ARBO 785.2, HI US</td>\n",
       "      <td>21.33310</td>\n",
       "      <td>-157.80250</td>\n",
       "      <td>152.4</td>\n",
       "    </tr>\n",
       "    <tr>\n",
       "      <th>60307</th>\n",
       "      <td>11.53</td>\n",
       "      <td>USC00514830</td>\n",
       "      <td>HONOLULU OBSERVATORY 702.2, HI US</td>\n",
       "      <td>21.31520</td>\n",
       "      <td>-157.99920</td>\n",
       "      <td>0.9</td>\n",
       "    </tr>\n",
       "    <tr>\n",
       "      <th>131208</th>\n",
       "      <td>9.64</td>\n",
       "      <td>USC00519281</td>\n",
       "      <td>WAIHEE 837.5, HI US</td>\n",
       "      <td>21.45167</td>\n",
       "      <td>-157.84889</td>\n",
       "      <td>32.9</td>\n",
       "    </tr>\n",
       "    <tr>\n",
       "      <th>131207</th>\n",
       "      <td>9.64</td>\n",
       "      <td>USC00519281</td>\n",
       "      <td>WAIMANALO EXPERIMENTAL FARM, HI US</td>\n",
       "      <td>21.33556</td>\n",
       "      <td>-157.71139</td>\n",
       "      <td>19.5</td>\n",
       "    </tr>\n",
       "    <tr>\n",
       "      <th>131205</th>\n",
       "      <td>9.64</td>\n",
       "      <td>USC00519281</td>\n",
       "      <td>PEARL CITY, HI US</td>\n",
       "      <td>21.39340</td>\n",
       "      <td>-157.97510</td>\n",
       "      <td>11.9</td>\n",
       "    </tr>\n",
       "    <tr>\n",
       "      <th>131206</th>\n",
       "      <td>9.64</td>\n",
       "      <td>USC00519281</td>\n",
       "      <td>UPPER WAHIAWA 874.3, HI US</td>\n",
       "      <td>21.49920</td>\n",
       "      <td>-158.01110</td>\n",
       "      <td>306.6</td>\n",
       "    </tr>\n",
       "    <tr>\n",
       "      <th>131204</th>\n",
       "      <td>9.64</td>\n",
       "      <td>USC00519281</td>\n",
       "      <td>KUALOA RANCH HEADQUARTERS 886.9, HI US</td>\n",
       "      <td>21.52130</td>\n",
       "      <td>-157.83740</td>\n",
       "      <td>7.0</td>\n",
       "    </tr>\n",
       "    <tr>\n",
       "      <th>131203</th>\n",
       "      <td>9.64</td>\n",
       "      <td>USC00519281</td>\n",
       "      <td>KANEOHE 838.1, HI US</td>\n",
       "      <td>21.42340</td>\n",
       "      <td>-157.80150</td>\n",
       "      <td>14.6</td>\n",
       "    </tr>\n",
       "    <tr>\n",
       "      <th>131209</th>\n",
       "      <td>9.64</td>\n",
       "      <td>USC00519281</td>\n",
       "      <td>HONOLULU OBSERVATORY 702.2, HI US</td>\n",
       "      <td>21.31520</td>\n",
       "      <td>-157.99920</td>\n",
       "      <td>0.9</td>\n",
       "    </tr>\n",
       "    <tr>\n",
       "      <th>131210</th>\n",
       "      <td>9.64</td>\n",
       "      <td>USC00519281</td>\n",
       "      <td>MANOA LYON ARBO 785.2, HI US</td>\n",
       "      <td>21.33310</td>\n",
       "      <td>-157.80250</td>\n",
       "      <td>152.4</td>\n",
       "    </tr>\n",
       "    <tr>\n",
       "      <th>131202</th>\n",
       "      <td>9.64</td>\n",
       "      <td>USC00519281</td>\n",
       "      <td>WAIKIKI 717.2, HI US</td>\n",
       "      <td>21.27160</td>\n",
       "      <td>-157.81680</td>\n",
       "      <td>3.0</td>\n",
       "    </tr>\n",
       "    <tr>\n",
       "      <th>113067</th>\n",
       "      <td>8.81</td>\n",
       "      <td>USC00519281</td>\n",
       "      <td>WAIKIKI 717.2, HI US</td>\n",
       "      <td>21.27160</td>\n",
       "      <td>-157.81680</td>\n",
       "      <td>3.0</td>\n",
       "    </tr>\n",
       "    <tr>\n",
       "      <th>113068</th>\n",
       "      <td>8.81</td>\n",
       "      <td>USC00519281</td>\n",
       "      <td>KANEOHE 838.1, HI US</td>\n",
       "      <td>21.42340</td>\n",
       "      <td>-157.80150</td>\n",
       "      <td>14.6</td>\n",
       "    </tr>\n",
       "    <tr>\n",
       "      <th>113069</th>\n",
       "      <td>8.81</td>\n",
       "      <td>USC00519281</td>\n",
       "      <td>KUALOA RANCH HEADQUARTERS 886.9, HI US</td>\n",
       "      <td>21.52130</td>\n",
       "      <td>-157.83740</td>\n",
       "      <td>7.0</td>\n",
       "    </tr>\n",
       "    <tr>\n",
       "      <th>113070</th>\n",
       "      <td>8.81</td>\n",
       "      <td>USC00519281</td>\n",
       "      <td>PEARL CITY, HI US</td>\n",
       "      <td>21.39340</td>\n",
       "      <td>-157.97510</td>\n",
       "      <td>11.9</td>\n",
       "    </tr>\n",
       "    <tr>\n",
       "      <th>113071</th>\n",
       "      <td>8.81</td>\n",
       "      <td>USC00519281</td>\n",
       "      <td>UPPER WAHIAWA 874.3, HI US</td>\n",
       "      <td>21.49920</td>\n",
       "      <td>-158.01110</td>\n",
       "      <td>306.6</td>\n",
       "    </tr>\n",
       "    <tr>\n",
       "      <th>113072</th>\n",
       "      <td>8.81</td>\n",
       "      <td>USC00519281</td>\n",
       "      <td>WAIMANALO EXPERIMENTAL FARM, HI US</td>\n",
       "      <td>21.33556</td>\n",
       "      <td>-157.71139</td>\n",
       "      <td>19.5</td>\n",
       "    </tr>\n",
       "    <tr>\n",
       "      <th>113073</th>\n",
       "      <td>8.81</td>\n",
       "      <td>USC00519281</td>\n",
       "      <td>WAIHEE 837.5, HI US</td>\n",
       "      <td>21.45167</td>\n",
       "      <td>-157.84889</td>\n",
       "      <td>32.9</td>\n",
       "    </tr>\n",
       "    <tr>\n",
       "      <th>113075</th>\n",
       "      <td>8.81</td>\n",
       "      <td>USC00519281</td>\n",
       "      <td>MANOA LYON ARBO 785.2, HI US</td>\n",
       "      <td>21.33310</td>\n",
       "      <td>-157.80250</td>\n",
       "      <td>152.4</td>\n",
       "    </tr>\n",
       "    <tr>\n",
       "      <th>113074</th>\n",
       "      <td>8.81</td>\n",
       "      <td>USC00519281</td>\n",
       "      <td>HONOLULU OBSERVATORY 702.2, HI US</td>\n",
       "      <td>21.31520</td>\n",
       "      <td>-157.99920</td>\n",
       "      <td>0.9</td>\n",
       "    </tr>\n",
       "    <tr>\n",
       "      <th>164429</th>\n",
       "      <td>8.06</td>\n",
       "      <td>USC00516128</td>\n",
       "      <td>MANOA LYON ARBO 785.2, HI US</td>\n",
       "      <td>21.33310</td>\n",
       "      <td>-157.80250</td>\n",
       "      <td>152.4</td>\n",
       "    </tr>\n",
       "    <tr>\n",
       "      <th>164428</th>\n",
       "      <td>8.06</td>\n",
       "      <td>USC00516128</td>\n",
       "      <td>HONOLULU OBSERVATORY 702.2, HI US</td>\n",
       "      <td>21.31520</td>\n",
       "      <td>-157.99920</td>\n",
       "      <td>0.9</td>\n",
       "    </tr>\n",
       "    <tr>\n",
       "      <th>164427</th>\n",
       "      <td>8.06</td>\n",
       "      <td>USC00516128</td>\n",
       "      <td>WAIHEE 837.5, HI US</td>\n",
       "      <td>21.45167</td>\n",
       "      <td>-157.84889</td>\n",
       "      <td>32.9</td>\n",
       "    </tr>\n",
       "    <tr>\n",
       "      <th>...</th>\n",
       "      <td>...</td>\n",
       "      <td>...</td>\n",
       "      <td>...</td>\n",
       "      <td>...</td>\n",
       "      <td>...</td>\n",
       "      <td>...</td>\n",
       "    </tr>\n",
       "    <tr>\n",
       "      <th>175839</th>\n",
       "      <td>NaN</td>\n",
       "      <td>USC00516128</td>\n",
       "      <td>WAIHEE 837.5, HI US</td>\n",
       "      <td>21.45167</td>\n",
       "      <td>-157.84889</td>\n",
       "      <td>32.9</td>\n",
       "    </tr>\n",
       "    <tr>\n",
       "      <th>175840</th>\n",
       "      <td>NaN</td>\n",
       "      <td>USC00516128</td>\n",
       "      <td>HONOLULU OBSERVATORY 702.2, HI US</td>\n",
       "      <td>21.31520</td>\n",
       "      <td>-157.99920</td>\n",
       "      <td>0.9</td>\n",
       "    </tr>\n",
       "    <tr>\n",
       "      <th>175841</th>\n",
       "      <td>NaN</td>\n",
       "      <td>USC00516128</td>\n",
       "      <td>MANOA LYON ARBO 785.2, HI US</td>\n",
       "      <td>21.33310</td>\n",
       "      <td>-157.80250</td>\n",
       "      <td>152.4</td>\n",
       "    </tr>\n",
       "    <tr>\n",
       "      <th>175851</th>\n",
       "      <td>NaN</td>\n",
       "      <td>USC00516128</td>\n",
       "      <td>WAIKIKI 717.2, HI US</td>\n",
       "      <td>21.27160</td>\n",
       "      <td>-157.81680</td>\n",
       "      <td>3.0</td>\n",
       "    </tr>\n",
       "    <tr>\n",
       "      <th>175852</th>\n",
       "      <td>NaN</td>\n",
       "      <td>USC00516128</td>\n",
       "      <td>KANEOHE 838.1, HI US</td>\n",
       "      <td>21.42340</td>\n",
       "      <td>-157.80150</td>\n",
       "      <td>14.6</td>\n",
       "    </tr>\n",
       "    <tr>\n",
       "      <th>175853</th>\n",
       "      <td>NaN</td>\n",
       "      <td>USC00516128</td>\n",
       "      <td>KUALOA RANCH HEADQUARTERS 886.9, HI US</td>\n",
       "      <td>21.52130</td>\n",
       "      <td>-157.83740</td>\n",
       "      <td>7.0</td>\n",
       "    </tr>\n",
       "    <tr>\n",
       "      <th>175854</th>\n",
       "      <td>NaN</td>\n",
       "      <td>USC00516128</td>\n",
       "      <td>PEARL CITY, HI US</td>\n",
       "      <td>21.39340</td>\n",
       "      <td>-157.97510</td>\n",
       "      <td>11.9</td>\n",
       "    </tr>\n",
       "    <tr>\n",
       "      <th>175855</th>\n",
       "      <td>NaN</td>\n",
       "      <td>USC00516128</td>\n",
       "      <td>UPPER WAHIAWA 874.3, HI US</td>\n",
       "      <td>21.49920</td>\n",
       "      <td>-158.01110</td>\n",
       "      <td>306.6</td>\n",
       "    </tr>\n",
       "    <tr>\n",
       "      <th>175856</th>\n",
       "      <td>NaN</td>\n",
       "      <td>USC00516128</td>\n",
       "      <td>WAIMANALO EXPERIMENTAL FARM, HI US</td>\n",
       "      <td>21.33556</td>\n",
       "      <td>-157.71139</td>\n",
       "      <td>19.5</td>\n",
       "    </tr>\n",
       "    <tr>\n",
       "      <th>175857</th>\n",
       "      <td>NaN</td>\n",
       "      <td>USC00516128</td>\n",
       "      <td>WAIHEE 837.5, HI US</td>\n",
       "      <td>21.45167</td>\n",
       "      <td>-157.84889</td>\n",
       "      <td>32.9</td>\n",
       "    </tr>\n",
       "    <tr>\n",
       "      <th>175858</th>\n",
       "      <td>NaN</td>\n",
       "      <td>USC00516128</td>\n",
       "      <td>HONOLULU OBSERVATORY 702.2, HI US</td>\n",
       "      <td>21.31520</td>\n",
       "      <td>-157.99920</td>\n",
       "      <td>0.9</td>\n",
       "    </tr>\n",
       "    <tr>\n",
       "      <th>175859</th>\n",
       "      <td>NaN</td>\n",
       "      <td>USC00516128</td>\n",
       "      <td>MANOA LYON ARBO 785.2, HI US</td>\n",
       "      <td>21.33310</td>\n",
       "      <td>-157.80250</td>\n",
       "      <td>152.4</td>\n",
       "    </tr>\n",
       "    <tr>\n",
       "      <th>175896</th>\n",
       "      <td>NaN</td>\n",
       "      <td>USC00516128</td>\n",
       "      <td>WAIKIKI 717.2, HI US</td>\n",
       "      <td>21.27160</td>\n",
       "      <td>-157.81680</td>\n",
       "      <td>3.0</td>\n",
       "    </tr>\n",
       "    <tr>\n",
       "      <th>175897</th>\n",
       "      <td>NaN</td>\n",
       "      <td>USC00516128</td>\n",
       "      <td>KANEOHE 838.1, HI US</td>\n",
       "      <td>21.42340</td>\n",
       "      <td>-157.80150</td>\n",
       "      <td>14.6</td>\n",
       "    </tr>\n",
       "    <tr>\n",
       "      <th>175898</th>\n",
       "      <td>NaN</td>\n",
       "      <td>USC00516128</td>\n",
       "      <td>KUALOA RANCH HEADQUARTERS 886.9, HI US</td>\n",
       "      <td>21.52130</td>\n",
       "      <td>-157.83740</td>\n",
       "      <td>7.0</td>\n",
       "    </tr>\n",
       "    <tr>\n",
       "      <th>175899</th>\n",
       "      <td>NaN</td>\n",
       "      <td>USC00516128</td>\n",
       "      <td>PEARL CITY, HI US</td>\n",
       "      <td>21.39340</td>\n",
       "      <td>-157.97510</td>\n",
       "      <td>11.9</td>\n",
       "    </tr>\n",
       "    <tr>\n",
       "      <th>175900</th>\n",
       "      <td>NaN</td>\n",
       "      <td>USC00516128</td>\n",
       "      <td>UPPER WAHIAWA 874.3, HI US</td>\n",
       "      <td>21.49920</td>\n",
       "      <td>-158.01110</td>\n",
       "      <td>306.6</td>\n",
       "    </tr>\n",
       "    <tr>\n",
       "      <th>175901</th>\n",
       "      <td>NaN</td>\n",
       "      <td>USC00516128</td>\n",
       "      <td>WAIMANALO EXPERIMENTAL FARM, HI US</td>\n",
       "      <td>21.33556</td>\n",
       "      <td>-157.71139</td>\n",
       "      <td>19.5</td>\n",
       "    </tr>\n",
       "    <tr>\n",
       "      <th>175902</th>\n",
       "      <td>NaN</td>\n",
       "      <td>USC00516128</td>\n",
       "      <td>WAIHEE 837.5, HI US</td>\n",
       "      <td>21.45167</td>\n",
       "      <td>-157.84889</td>\n",
       "      <td>32.9</td>\n",
       "    </tr>\n",
       "    <tr>\n",
       "      <th>175903</th>\n",
       "      <td>NaN</td>\n",
       "      <td>USC00516128</td>\n",
       "      <td>HONOLULU OBSERVATORY 702.2, HI US</td>\n",
       "      <td>21.31520</td>\n",
       "      <td>-157.99920</td>\n",
       "      <td>0.9</td>\n",
       "    </tr>\n",
       "    <tr>\n",
       "      <th>175904</th>\n",
       "      <td>NaN</td>\n",
       "      <td>USC00516128</td>\n",
       "      <td>MANOA LYON ARBO 785.2, HI US</td>\n",
       "      <td>21.33310</td>\n",
       "      <td>-157.80250</td>\n",
       "      <td>152.4</td>\n",
       "    </tr>\n",
       "    <tr>\n",
       "      <th>175914</th>\n",
       "      <td>NaN</td>\n",
       "      <td>USC00516128</td>\n",
       "      <td>WAIKIKI 717.2, HI US</td>\n",
       "      <td>21.27160</td>\n",
       "      <td>-157.81680</td>\n",
       "      <td>3.0</td>\n",
       "    </tr>\n",
       "    <tr>\n",
       "      <th>175915</th>\n",
       "      <td>NaN</td>\n",
       "      <td>USC00516128</td>\n",
       "      <td>KANEOHE 838.1, HI US</td>\n",
       "      <td>21.42340</td>\n",
       "      <td>-157.80150</td>\n",
       "      <td>14.6</td>\n",
       "    </tr>\n",
       "    <tr>\n",
       "      <th>175916</th>\n",
       "      <td>NaN</td>\n",
       "      <td>USC00516128</td>\n",
       "      <td>KUALOA RANCH HEADQUARTERS 886.9, HI US</td>\n",
       "      <td>21.52130</td>\n",
       "      <td>-157.83740</td>\n",
       "      <td>7.0</td>\n",
       "    </tr>\n",
       "    <tr>\n",
       "      <th>175917</th>\n",
       "      <td>NaN</td>\n",
       "      <td>USC00516128</td>\n",
       "      <td>PEARL CITY, HI US</td>\n",
       "      <td>21.39340</td>\n",
       "      <td>-157.97510</td>\n",
       "      <td>11.9</td>\n",
       "    </tr>\n",
       "    <tr>\n",
       "      <th>175918</th>\n",
       "      <td>NaN</td>\n",
       "      <td>USC00516128</td>\n",
       "      <td>UPPER WAHIAWA 874.3, HI US</td>\n",
       "      <td>21.49920</td>\n",
       "      <td>-158.01110</td>\n",
       "      <td>306.6</td>\n",
       "    </tr>\n",
       "    <tr>\n",
       "      <th>175919</th>\n",
       "      <td>NaN</td>\n",
       "      <td>USC00516128</td>\n",
       "      <td>WAIMANALO EXPERIMENTAL FARM, HI US</td>\n",
       "      <td>21.33556</td>\n",
       "      <td>-157.71139</td>\n",
       "      <td>19.5</td>\n",
       "    </tr>\n",
       "    <tr>\n",
       "      <th>175920</th>\n",
       "      <td>NaN</td>\n",
       "      <td>USC00516128</td>\n",
       "      <td>WAIHEE 837.5, HI US</td>\n",
       "      <td>21.45167</td>\n",
       "      <td>-157.84889</td>\n",
       "      <td>32.9</td>\n",
       "    </tr>\n",
       "    <tr>\n",
       "      <th>175921</th>\n",
       "      <td>NaN</td>\n",
       "      <td>USC00516128</td>\n",
       "      <td>HONOLULU OBSERVATORY 702.2, HI US</td>\n",
       "      <td>21.31520</td>\n",
       "      <td>-157.99920</td>\n",
       "      <td>0.9</td>\n",
       "    </tr>\n",
       "    <tr>\n",
       "      <th>175922</th>\n",
       "      <td>NaN</td>\n",
       "      <td>USC00516128</td>\n",
       "      <td>MANOA LYON ARBO 785.2, HI US</td>\n",
       "      <td>21.33310</td>\n",
       "      <td>-157.80250</td>\n",
       "      <td>152.4</td>\n",
       "    </tr>\n",
       "  </tbody>\n",
       "</table>\n",
       "<p>175950 rows × 6 columns</p>\n",
       "</div>"
      ],
      "text/plain": [
       "         prcp      station                                    name  latitude  \\\n",
       "60300   11.53  USC00514830                    WAIKIKI 717.2, HI US  21.27160   \n",
       "60301   11.53  USC00514830                    KANEOHE 838.1, HI US  21.42340   \n",
       "60302   11.53  USC00514830  KUALOA RANCH HEADQUARTERS 886.9, HI US  21.52130   \n",
       "60303   11.53  USC00514830                       PEARL CITY, HI US  21.39340   \n",
       "60304   11.53  USC00514830              UPPER WAHIAWA 874.3, HI US  21.49920   \n",
       "60305   11.53  USC00514830      WAIMANALO EXPERIMENTAL FARM, HI US  21.33556   \n",
       "60306   11.53  USC00514830                     WAIHEE 837.5, HI US  21.45167   \n",
       "60308   11.53  USC00514830            MANOA LYON ARBO 785.2, HI US  21.33310   \n",
       "60307   11.53  USC00514830       HONOLULU OBSERVATORY 702.2, HI US  21.31520   \n",
       "131208   9.64  USC00519281                     WAIHEE 837.5, HI US  21.45167   \n",
       "131207   9.64  USC00519281      WAIMANALO EXPERIMENTAL FARM, HI US  21.33556   \n",
       "131205   9.64  USC00519281                       PEARL CITY, HI US  21.39340   \n",
       "131206   9.64  USC00519281              UPPER WAHIAWA 874.3, HI US  21.49920   \n",
       "131204   9.64  USC00519281  KUALOA RANCH HEADQUARTERS 886.9, HI US  21.52130   \n",
       "131203   9.64  USC00519281                    KANEOHE 838.1, HI US  21.42340   \n",
       "131209   9.64  USC00519281       HONOLULU OBSERVATORY 702.2, HI US  21.31520   \n",
       "131210   9.64  USC00519281            MANOA LYON ARBO 785.2, HI US  21.33310   \n",
       "131202   9.64  USC00519281                    WAIKIKI 717.2, HI US  21.27160   \n",
       "113067   8.81  USC00519281                    WAIKIKI 717.2, HI US  21.27160   \n",
       "113068   8.81  USC00519281                    KANEOHE 838.1, HI US  21.42340   \n",
       "113069   8.81  USC00519281  KUALOA RANCH HEADQUARTERS 886.9, HI US  21.52130   \n",
       "113070   8.81  USC00519281                       PEARL CITY, HI US  21.39340   \n",
       "113071   8.81  USC00519281              UPPER WAHIAWA 874.3, HI US  21.49920   \n",
       "113072   8.81  USC00519281      WAIMANALO EXPERIMENTAL FARM, HI US  21.33556   \n",
       "113073   8.81  USC00519281                     WAIHEE 837.5, HI US  21.45167   \n",
       "113075   8.81  USC00519281            MANOA LYON ARBO 785.2, HI US  21.33310   \n",
       "113074   8.81  USC00519281       HONOLULU OBSERVATORY 702.2, HI US  21.31520   \n",
       "164429   8.06  USC00516128            MANOA LYON ARBO 785.2, HI US  21.33310   \n",
       "164428   8.06  USC00516128       HONOLULU OBSERVATORY 702.2, HI US  21.31520   \n",
       "164427   8.06  USC00516128                     WAIHEE 837.5, HI US  21.45167   \n",
       "...       ...          ...                                     ...       ...   \n",
       "175839    NaN  USC00516128                     WAIHEE 837.5, HI US  21.45167   \n",
       "175840    NaN  USC00516128       HONOLULU OBSERVATORY 702.2, HI US  21.31520   \n",
       "175841    NaN  USC00516128            MANOA LYON ARBO 785.2, HI US  21.33310   \n",
       "175851    NaN  USC00516128                    WAIKIKI 717.2, HI US  21.27160   \n",
       "175852    NaN  USC00516128                    KANEOHE 838.1, HI US  21.42340   \n",
       "175853    NaN  USC00516128  KUALOA RANCH HEADQUARTERS 886.9, HI US  21.52130   \n",
       "175854    NaN  USC00516128                       PEARL CITY, HI US  21.39340   \n",
       "175855    NaN  USC00516128              UPPER WAHIAWA 874.3, HI US  21.49920   \n",
       "175856    NaN  USC00516128      WAIMANALO EXPERIMENTAL FARM, HI US  21.33556   \n",
       "175857    NaN  USC00516128                     WAIHEE 837.5, HI US  21.45167   \n",
       "175858    NaN  USC00516128       HONOLULU OBSERVATORY 702.2, HI US  21.31520   \n",
       "175859    NaN  USC00516128            MANOA LYON ARBO 785.2, HI US  21.33310   \n",
       "175896    NaN  USC00516128                    WAIKIKI 717.2, HI US  21.27160   \n",
       "175897    NaN  USC00516128                    KANEOHE 838.1, HI US  21.42340   \n",
       "175898    NaN  USC00516128  KUALOA RANCH HEADQUARTERS 886.9, HI US  21.52130   \n",
       "175899    NaN  USC00516128                       PEARL CITY, HI US  21.39340   \n",
       "175900    NaN  USC00516128              UPPER WAHIAWA 874.3, HI US  21.49920   \n",
       "175901    NaN  USC00516128      WAIMANALO EXPERIMENTAL FARM, HI US  21.33556   \n",
       "175902    NaN  USC00516128                     WAIHEE 837.5, HI US  21.45167   \n",
       "175903    NaN  USC00516128       HONOLULU OBSERVATORY 702.2, HI US  21.31520   \n",
       "175904    NaN  USC00516128            MANOA LYON ARBO 785.2, HI US  21.33310   \n",
       "175914    NaN  USC00516128                    WAIKIKI 717.2, HI US  21.27160   \n",
       "175915    NaN  USC00516128                    KANEOHE 838.1, HI US  21.42340   \n",
       "175916    NaN  USC00516128  KUALOA RANCH HEADQUARTERS 886.9, HI US  21.52130   \n",
       "175917    NaN  USC00516128                       PEARL CITY, HI US  21.39340   \n",
       "175918    NaN  USC00516128              UPPER WAHIAWA 874.3, HI US  21.49920   \n",
       "175919    NaN  USC00516128      WAIMANALO EXPERIMENTAL FARM, HI US  21.33556   \n",
       "175920    NaN  USC00516128                     WAIHEE 837.5, HI US  21.45167   \n",
       "175921    NaN  USC00516128       HONOLULU OBSERVATORY 702.2, HI US  21.31520   \n",
       "175922    NaN  USC00516128            MANOA LYON ARBO 785.2, HI US  21.33310   \n",
       "\n",
       "        longitude  elevation  \n",
       "60300  -157.81680        3.0  \n",
       "60301  -157.80150       14.6  \n",
       "60302  -157.83740        7.0  \n",
       "60303  -157.97510       11.9  \n",
       "60304  -158.01110      306.6  \n",
       "60305  -157.71139       19.5  \n",
       "60306  -157.84889       32.9  \n",
       "60308  -157.80250      152.4  \n",
       "60307  -157.99920        0.9  \n",
       "131208 -157.84889       32.9  \n",
       "131207 -157.71139       19.5  \n",
       "131205 -157.97510       11.9  \n",
       "131206 -158.01110      306.6  \n",
       "131204 -157.83740        7.0  \n",
       "131203 -157.80150       14.6  \n",
       "131209 -157.99920        0.9  \n",
       "131210 -157.80250      152.4  \n",
       "131202 -157.81680        3.0  \n",
       "113067 -157.81680        3.0  \n",
       "113068 -157.80150       14.6  \n",
       "113069 -157.83740        7.0  \n",
       "113070 -157.97510       11.9  \n",
       "113071 -158.01110      306.6  \n",
       "113072 -157.71139       19.5  \n",
       "113073 -157.84889       32.9  \n",
       "113075 -157.80250      152.4  \n",
       "113074 -157.99920        0.9  \n",
       "164429 -157.80250      152.4  \n",
       "164428 -157.99920        0.9  \n",
       "164427 -157.84889       32.9  \n",
       "...           ...        ...  \n",
       "175839 -157.84889       32.9  \n",
       "175840 -157.99920        0.9  \n",
       "175841 -157.80250      152.4  \n",
       "175851 -157.81680        3.0  \n",
       "175852 -157.80150       14.6  \n",
       "175853 -157.83740        7.0  \n",
       "175854 -157.97510       11.9  \n",
       "175855 -158.01110      306.6  \n",
       "175856 -157.71139       19.5  \n",
       "175857 -157.84889       32.9  \n",
       "175858 -157.99920        0.9  \n",
       "175859 -157.80250      152.4  \n",
       "175896 -157.81680        3.0  \n",
       "175897 -157.80150       14.6  \n",
       "175898 -157.83740        7.0  \n",
       "175899 -157.97510       11.9  \n",
       "175900 -158.01110      306.6  \n",
       "175901 -157.71139       19.5  \n",
       "175902 -157.84889       32.9  \n",
       "175903 -157.99920        0.9  \n",
       "175904 -157.80250      152.4  \n",
       "175914 -157.81680        3.0  \n",
       "175915 -157.80150       14.6  \n",
       "175916 -157.83740        7.0  \n",
       "175917 -157.97510       11.9  \n",
       "175918 -158.01110      306.6  \n",
       "175919 -157.71139       19.5  \n",
       "175920 -157.84889       32.9  \n",
       "175921 -157.99920        0.9  \n",
       "175922 -157.80250      152.4  \n",
       "\n",
       "[175950 rows x 6 columns]"
      ]
     },
     "execution_count": 121,
     "metadata": {},
     "output_type": "execute_result"
    }
   ],
   "source": [
    "# DATAFRAME WITH EVERYTHING DESCENDING BUT NOT SUMMED\n",
    "\n",
    "final_rain_df.sort_values(by='prcp', ascending=False)"
   ]
  },
  {
   "cell_type": "code",
   "execution_count": 122,
   "metadata": {
    "scrolled": false
   },
   "outputs": [
    {
     "data": {
      "text/plain": [
       "station\n",
       "USC00519281    24948\n",
       "USC00513117    24264\n",
       "USC00519397    24165\n",
       "USC00519523    23148\n",
       "USC00516128    22356\n",
       "USC00514830    17433\n",
       "USC00511918    17388\n",
       "USC00517948     6147\n",
       "USC00518838     3078\n",
       "Name: prcp, dtype: int64"
      ]
     },
     "execution_count": 122,
     "metadata": {},
     "output_type": "execute_result"
    }
   ],
   "source": [
    "rain_totals = final_rain_df.groupby(\"station\").count()[\"prcp\"].sort_values(ascending = False)\n",
    "rain_totals"
   ]
  },
  {
   "cell_type": "code",
   "execution_count": 123,
   "metadata": {
    "scrolled": false
   },
   "outputs": [
    {
     "data": {
      "text/html": [
       "<div>\n",
       "<style scoped>\n",
       "    .dataframe tbody tr th:only-of-type {\n",
       "        vertical-align: middle;\n",
       "    }\n",
       "\n",
       "    .dataframe tbody tr th {\n",
       "        vertical-align: top;\n",
       "    }\n",
       "\n",
       "    .dataframe thead th {\n",
       "        text-align: right;\n",
       "    }\n",
       "</style>\n",
       "<table border=\"1\" class=\"dataframe\">\n",
       "  <thead>\n",
       "    <tr style=\"text-align: right;\">\n",
       "      <th></th>\n",
       "      <th>prcp</th>\n",
       "    </tr>\n",
       "    <tr>\n",
       "      <th>station</th>\n",
       "      <th></th>\n",
       "    </tr>\n",
       "  </thead>\n",
       "  <tbody>\n",
       "    <tr>\n",
       "      <th>USC00519281</th>\n",
       "      <td>24948</td>\n",
       "    </tr>\n",
       "    <tr>\n",
       "      <th>USC00513117</th>\n",
       "      <td>24264</td>\n",
       "    </tr>\n",
       "    <tr>\n",
       "      <th>USC00519397</th>\n",
       "      <td>24165</td>\n",
       "    </tr>\n",
       "    <tr>\n",
       "      <th>USC00519523</th>\n",
       "      <td>23148</td>\n",
       "    </tr>\n",
       "    <tr>\n",
       "      <th>USC00516128</th>\n",
       "      <td>22356</td>\n",
       "    </tr>\n",
       "    <tr>\n",
       "      <th>USC00514830</th>\n",
       "      <td>17433</td>\n",
       "    </tr>\n",
       "    <tr>\n",
       "      <th>USC00511918</th>\n",
       "      <td>17388</td>\n",
       "    </tr>\n",
       "    <tr>\n",
       "      <th>USC00517948</th>\n",
       "      <td>6147</td>\n",
       "    </tr>\n",
       "    <tr>\n",
       "      <th>USC00518838</th>\n",
       "      <td>3078</td>\n",
       "    </tr>\n",
       "  </tbody>\n",
       "</table>\n",
       "</div>"
      ],
      "text/plain": [
       "              prcp\n",
       "station           \n",
       "USC00519281  24948\n",
       "USC00513117  24264\n",
       "USC00519397  24165\n",
       "USC00519523  23148\n",
       "USC00516128  22356\n",
       "USC00514830  17433\n",
       "USC00511918  17388\n",
       "USC00517948   6147\n",
       "USC00518838   3078"
      ]
     },
     "execution_count": 123,
     "metadata": {},
     "output_type": "execute_result"
    }
   ],
   "source": [
    "rain_totals_df = pd.DataFrame(rain_totals)\n",
    "rain_totals_df"
   ]
  },
  {
   "cell_type": "code",
   "execution_count": 124,
   "metadata": {
    "scrolled": true
   },
   "outputs": [
    {
     "data": {
      "text/plain": [
       "[('USC00511918',\n",
       "  2908.1299999999706,\n",
       "  'HONOLULU OBSERVATORY 702.2, HI US',\n",
       "  21.3152,\n",
       "  -157.9992,\n",
       "  0.9),\n",
       " ('USC00513117',\n",
       "  2908.1299999999706,\n",
       "  'KANEOHE 838.1, HI US',\n",
       "  21.4234,\n",
       "  -157.8015,\n",
       "  14.6),\n",
       " ('USC00514830',\n",
       "  2908.1299999999706,\n",
       "  'KUALOA RANCH HEADQUARTERS 886.9, HI US',\n",
       "  21.5213,\n",
       "  -157.8374,\n",
       "  7.0),\n",
       " ('USC00516128',\n",
       "  2908.1299999999706,\n",
       "  'MANOA LYON ARBO 785.2, HI US',\n",
       "  21.3331,\n",
       "  -157.8025,\n",
       "  152.4),\n",
       " ('USC00517948',\n",
       "  2908.1299999999706,\n",
       "  'PEARL CITY, HI US',\n",
       "  21.3934,\n",
       "  -157.9751,\n",
       "  11.9),\n",
       " ('USC00518838',\n",
       "  2908.1299999999706,\n",
       "  'UPPER WAHIAWA 874.3, HI US',\n",
       "  21.4992,\n",
       "  -158.0111,\n",
       "  306.6),\n",
       " ('USC00519281',\n",
       "  2908.1299999999706,\n",
       "  'WAIHEE 837.5, HI US',\n",
       "  21.45167,\n",
       "  -157.84888999999998,\n",
       "  32.9),\n",
       " ('USC00519397',\n",
       "  2908.1299999999706,\n",
       "  'WAIKIKI 717.2, HI US',\n",
       "  21.2716,\n",
       "  -157.8168,\n",
       "  3.0),\n",
       " ('USC00519523',\n",
       "  2908.1299999999706,\n",
       "  'WAIMANALO EXPERIMENTAL FARM, HI US',\n",
       "  21.33556,\n",
       "  -157.71139,\n",
       "  19.5)]"
      ]
     },
     "execution_count": 124,
     "metadata": {},
     "output_type": "execute_result"
    }
   ],
   "source": [
    "session.query(Station.station, \n",
    "              func.sum(Measurement.prcp), \n",
    "              Station.name, \n",
    "              Station.latitude, \n",
    "              Station.longitude, \n",
    "              Station.elevation).\\\n",
    "    group_by(Station.station).\\\n",
    "    order_by(func.sum(Measurement.prcp).desc()).all()"
   ]
  },
  {
   "cell_type": "code",
   "execution_count": 125,
   "metadata": {},
   "outputs": [],
   "source": [
    "# FLASK API COMPONENT STARTS HERE"
   ]
  },
  {
   "cell_type": "code",
   "execution_count": 126,
   "metadata": {},
   "outputs": [],
   "source": [
    "# IMPORT FLASK + JASONIFY\n",
    "\n",
    "from flask import Flask, jsonify"
   ]
  },
  {
   "cell_type": "code",
   "execution_count": 127,
   "metadata": {},
   "outputs": [],
   "source": [
    "app = Flask(__name__)"
   ]
  },
  {
   "cell_type": "code",
   "execution_count": 128,
   "metadata": {},
   "outputs": [],
   "source": [
    "@app.route(\"/\")\n",
    "def home():\n",
    "    \"\"\"List all available api routes.\"\"\"\n",
    "    return (\n",
    "        f\"Available Routes:<br/>\"\n",
    "        f\"/api/v1.0/precipitation<br/>\"\n",
    "        f\"/api/v1.0/stations<br/>\"\n",
    "        f\"/api/v1.0/tobs<br/>\"\n",
    "        f\"/api/v1.0/<start> and /api/v1.0/<start>/<end><br/>\"\n",
    "    )"
   ]
  },
  {
   "cell_type": "code",
   "execution_count": 129,
   "metadata": {},
   "outputs": [],
   "source": [
    "# PRECIPITATION\n",
    "\n",
    "@app.route(\"/api/v1.0/precipitation/<date>\")\n",
    "def precipitation(date):\n",
    "    \n",
    "    canonicalized = date.replace(\" \", \"\").lower()\n",
    "    for prcp in Measurement:\n",
    "        search_term = Measurement[\"date\"].replace(\" \", \"\").lower()\n",
    "\n",
    "        if search_term == canonicalized:\n",
    "            return jsonify(prcp)\n",
    "\n",
    "    return jsonify({\"error\": f\"Weather for {date} not found.\"}), 404"
   ]
  },
  {
   "cell_type": "code",
   "execution_count": 130,
   "metadata": {},
   "outputs": [],
   "source": [
    "# STATIONS\n",
    "\n",
    "@app.route(\"/api/v1.0/stations\")\n",
    "def stations():\n",
    "    session = Session(engine)\n",
    "    results = session.query(Station.stations).all()\n",
    "\n",
    "    all_stations = list(np.ravel(results))\n",
    "\n",
    "    return jsonify(all_stations)"
   ]
  },
  {
   "cell_type": "code",
   "execution_count": 131,
   "metadata": {},
   "outputs": [],
   "source": [
    "# TOBS\n",
    "\n",
    "# query for the dates and temperature observations from a year from the last data point."
   ]
  },
  {
   "cell_type": "code",
   "execution_count": 132,
   "metadata": {},
   "outputs": [
    {
     "data": {
      "text/plain": [
       "('2017-08-23')"
      ]
     },
     "execution_count": 132,
     "metadata": {},
     "output_type": "execute_result"
    }
   ],
   "source": [
    "# FIND LAST DATE\n",
    "\n",
    "session.query(Measurement.date).order_by(Measurement.date.desc()).first()"
   ]
  },
  {
   "cell_type": "code",
   "execution_count": 133,
   "metadata": {},
   "outputs": [
    {
     "ename": "TypeError",
     "evalue": "'InstrumentedAttribute' object is not callable",
     "output_type": "error",
     "traceback": [
      "\u001b[0;31m---------------------------------------------------------------------------\u001b[0m",
      "\u001b[0;31mTypeError\u001b[0m                                 Traceback (most recent call last)",
      "\u001b[0;32m<ipython-input-133-cf77215f6834>\u001b[0m in \u001b[0;36m<module>\u001b[0;34m\u001b[0m\n\u001b[1;32m      1\u001b[0m \u001b[0;31m# QUERY LAST YEAR'S DATA\u001b[0m\u001b[0;34m\u001b[0m\u001b[0;34m\u001b[0m\u001b[0;34m\u001b[0m\u001b[0m\n\u001b[1;32m      2\u001b[0m \u001b[0;34m\u001b[0m\u001b[0m\n\u001b[0;32m----> 3\u001b[0;31m \u001b[0mquery_last_year\u001b[0m \u001b[0;34m=\u001b[0m \u001b[0mMeasurement\u001b[0m\u001b[0;34m.\u001b[0m\u001b[0mdate\u001b[0m\u001b[0;34m(\u001b[0m\u001b[0;36m2017\u001b[0m\u001b[0;34m,\u001b[0m \u001b[0;36m8\u001b[0m\u001b[0;34m,\u001b[0m \u001b[0;36m23\u001b[0m\u001b[0;34m)\u001b[0m \u001b[0;34m-\u001b[0m \u001b[0mMeasurement\u001b[0m\u001b[0;34m.\u001b[0m\u001b[0mtimedelta\u001b[0m\u001b[0;34m(\u001b[0m\u001b[0mdays\u001b[0m\u001b[0;34m=\u001b[0m\u001b[0;36m365\u001b[0m\u001b[0;34m)\u001b[0m\u001b[0;34m\u001b[0m\u001b[0;34m\u001b[0m\u001b[0m\n\u001b[0m\u001b[1;32m      4\u001b[0m \u001b[0mprint\u001b[0m\u001b[0;34m(\u001b[0m\u001b[0;34m\"Query Last Year Temperatures: \"\u001b[0m\u001b[0;34m,\u001b[0m \u001b[0mquery_last_year\u001b[0m\u001b[0;34m)\u001b[0m\u001b[0;34m.\u001b[0m\u001b[0mall\u001b[0m\u001b[0;34m\u001b[0m\u001b[0;34m\u001b[0m\u001b[0m\n",
      "\u001b[0;31mTypeError\u001b[0m: 'InstrumentedAttribute' object is not callable"
     ]
    }
   ],
   "source": [
    "# QUERY LAST YEAR'S DATA\n",
    "\n",
    "# I AM GETTING STUCK ON HOW TO REQUEST AN \"ENTIRE\" YEAR'S WORTH OF TEMPERATURES STARTING \n",
    "# ONE YEAR AGO FROM THE LAST RECORDED TEMP DATE...THERE IS SOMETHING I AM NOT \n",
    "# UNDERSTANDING HERE...\n",
    "\n",
    "# A FEW RANDOM THOUGHTS...\n",
    "\n",
    "### THOUGHT #1\n",
    "\n",
    "@app.tobs(\"/api/v1.0/tobs\")\n",
    "def tobs_last_year():\n",
    "    session = Session(engine)\n",
    "    results = session.query(Measurement.tobs).all()\n",
    "\n",
    "    all_stations = list(np.ravel(results))\n",
    "\n",
    "    return jsonify(all_stations)\n",
    "\n",
    "### THOUGHT #2\n",
    "\n",
    "query_last_year = Measurement.date(2017, 8, 23) - Measurement.timedelta(days=365)\n",
    "print(\"Query Last Year Temperatures: \", query_last_year).all\n",
    "\n",
    "### THOUGHT #3\n",
    "\n",
    "date = dt.datetime(2017, 8, 23)\n",
    "\n",
    "results = session.query(Measurement.tobs).\\\n",
    "    filter(Measurement.date < date).all()\n",
    "    \n",
    "tobs_last_year = list(np.ravel(results))\n",
    "\n",
    "# List Comprehension Solution\n",
    "# ptps = [result[0] for result in results]\n",
    "\n",
    "tobs_last_year"
   ]
  },
  {
   "cell_type": "code",
   "execution_count": null,
   "metadata": {},
   "outputs": [],
   "source": [
    "# START DATE END DATE\n",
    "\n"
   ]
  },
  {
   "cell_type": "code",
   "execution_count": null,
   "metadata": {},
   "outputs": [],
   "source": [
    "if __name__ == \"__main__\":\n",
    "    app.run(debug=True)"
   ]
  }
 ],
 "metadata": {
  "kernel_info": {
   "name": "python3"
  },
  "kernelspec": {
   "display_name": "Python 3",
   "language": "python",
   "name": "python3"
  },
  "language_info": {
   "codemirror_mode": {
    "name": "ipython",
    "version": 3
   },
   "file_extension": ".py",
   "mimetype": "text/x-python",
   "name": "python",
   "nbconvert_exporter": "python",
   "pygments_lexer": "ipython3",
   "version": "3.6.8"
  },
  "nteract": {
   "version": "0.12.3"
  },
  "varInspector": {
   "cols": {
    "lenName": 16,
    "lenType": 16,
    "lenVar": 40
   },
   "kernels_config": {
    "python": {
     "delete_cmd_postfix": "",
     "delete_cmd_prefix": "del ",
     "library": "var_list.py",
     "varRefreshCmd": "print(var_dic_list())"
    },
    "r": {
     "delete_cmd_postfix": ") ",
     "delete_cmd_prefix": "rm(",
     "library": "var_list.r",
     "varRefreshCmd": "cat(var_dic_list()) "
    }
   },
   "types_to_exclude": [
    "module",
    "function",
    "builtin_function_or_method",
    "instance",
    "_Feature"
   ],
   "window_display": false
  }
 },
 "nbformat": 4,
 "nbformat_minor": 2
}
